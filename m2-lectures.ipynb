{
 "cells": [
  {
   "cell_type": "markdown",
   "metadata": {},
   "source": [
    "# Module 2 - Introduction to Forecasting with __Python__"
   ]
  },
  {
   "cell_type": "markdown",
   "metadata": {},
   "source": [
    "## Lectures\n",
    "\n",
    "### Introduction"
   ]
  },
  {
   "cell_type": "markdown",
   "metadata": {},
   "source": [
    "In the first lecture, a simple linear model of the type\n",
    "\n",
    "\n",
    "$log(F_{gdp}) = c + log(A_{gdp})$\n",
    "\n",
    "is estimated, visualized, and briefly analyzed. Let's see how to do it in Python using `statsmodels`."
   ]
  },
  {
   "cell_type": "code",
   "execution_count": 1,
   "metadata": {},
   "outputs": [],
   "source": [
    "# Import libraries\n",
    "import pandas as pd\n",
    "import numpy as np\n",
    "import matplotlib.pyplot as plt\n",
    "import seaborn as sns\n",
    "import statsmodels.formula.api as smf\n",
    "import statsmodels.api as sm\n",
    "from utils_statsmodels import bglm_test, dynamic_pred"
   ]
  },
  {
   "cell_type": "code",
   "execution_count": 161,
   "metadata": {},
   "outputs": [
    {
     "data": {
      "text/html": [
       "<div>\n",
       "<style scoped>\n",
       "    .dataframe tbody tr th:only-of-type {\n",
       "        vertical-align: middle;\n",
       "    }\n",
       "\n",
       "    .dataframe tbody tr th {\n",
       "        vertical-align: top;\n",
       "    }\n",
       "\n",
       "    .dataframe thead th {\n",
       "        text-align: right;\n",
       "    }\n",
       "</style>\n",
       "<table border=\"1\" class=\"dataframe\">\n",
       "  <thead>\n",
       "    <tr style=\"text-align: right;\">\n",
       "      <th></th>\n",
       "      <th>Date</th>\n",
       "      <th>RGDP_FIJI</th>\n",
       "      <th>G_REAL_GROWTH_FIJI</th>\n",
       "      <th>RGDP_AUS</th>\n",
       "      <th>G_REAL_GROWTH_AUS</th>\n",
       "      <th>REER_FIJI</th>\n",
       "      <th>SUGAROUTPUT_FIJI</th>\n",
       "      <th>G_SUGAR_OUTPUT</th>\n",
       "      <th>SUGAROUTPUT_FIJI_MISSING</th>\n",
       "    </tr>\n",
       "  </thead>\n",
       "  <tbody>\n",
       "    <tr>\n",
       "      <th>0</th>\n",
       "      <td>1970.0</td>\n",
       "      <td>1.6316</td>\n",
       "      <td>NaN</td>\n",
       "      <td>406.2</td>\n",
       "      <td>NaN</td>\n",
       "      <td>NaN</td>\n",
       "      <td>NaN</td>\n",
       "      <td>NaN</td>\n",
       "      <td>NaN</td>\n",
       "    </tr>\n",
       "    <tr>\n",
       "      <th>1</th>\n",
       "      <td>1971.0</td>\n",
       "      <td>1.7436</td>\n",
       "      <td>6.864428</td>\n",
       "      <td>421.7</td>\n",
       "      <td>3.815854</td>\n",
       "      <td>NaN</td>\n",
       "      <td>NaN</td>\n",
       "      <td>NaN</td>\n",
       "      <td>NaN</td>\n",
       "    </tr>\n",
       "    <tr>\n",
       "      <th>2</th>\n",
       "      <td>1972.0</td>\n",
       "      <td>1.8744</td>\n",
       "      <td>7.501721</td>\n",
       "      <td>429.7</td>\n",
       "      <td>1.897083</td>\n",
       "      <td>NaN</td>\n",
       "      <td>NaN</td>\n",
       "      <td>NaN</td>\n",
       "      <td>NaN</td>\n",
       "    </tr>\n",
       "    <tr>\n",
       "      <th>3</th>\n",
       "      <td>1973.0</td>\n",
       "      <td>2.0921</td>\n",
       "      <td>11.614383</td>\n",
       "      <td>451.4</td>\n",
       "      <td>5.050035</td>\n",
       "      <td>NaN</td>\n",
       "      <td>NaN</td>\n",
       "      <td>NaN</td>\n",
       "      <td>NaN</td>\n",
       "    </tr>\n",
       "    <tr>\n",
       "      <th>4</th>\n",
       "      <td>1974.0</td>\n",
       "      <td>2.1453</td>\n",
       "      <td>2.542899</td>\n",
       "      <td>458.0</td>\n",
       "      <td>1.462118</td>\n",
       "      <td>NaN</td>\n",
       "      <td>NaN</td>\n",
       "      <td>NaN</td>\n",
       "      <td>NaN</td>\n",
       "    </tr>\n",
       "  </tbody>\n",
       "</table>\n",
       "</div>"
      ],
      "text/plain": [
       "     Date  RGDP_FIJI  G_REAL_GROWTH_FIJI  RGDP_AUS  G_REAL_GROWTH_AUS  \\\n",
       "0  1970.0     1.6316                 NaN     406.2                NaN   \n",
       "1  1971.0     1.7436            6.864428     421.7           3.815854   \n",
       "2  1972.0     1.8744            7.501721     429.7           1.897083   \n",
       "3  1973.0     2.0921           11.614383     451.4           5.050035   \n",
       "4  1974.0     2.1453            2.542899     458.0           1.462118   \n",
       "\n",
       "   REER_FIJI  SUGAROUTPUT_FIJI  G_SUGAR_OUTPUT  SUGAROUTPUT_FIJI_MISSING  \n",
       "0        NaN               NaN             NaN                       NaN  \n",
       "1        NaN               NaN             NaN                       NaN  \n",
       "2        NaN               NaN             NaN                       NaN  \n",
       "3        NaN               NaN             NaN                       NaN  \n",
       "4        NaN               NaN             NaN                       NaN  "
      ]
     },
     "execution_count": 161,
     "metadata": {},
     "output_type": "execute_result"
    }
   ],
   "source": [
    "df = pd.read_csv(\"data/Module_2_Fiji_fiji.csv\")\n",
    "df.head()"
   ]
  },
  {
   "cell_type": "markdown",
   "metadata": {},
   "source": [
    "Let's do some precleaning to keep only `date`, `rgdp_fiji`, and `rgdp_aus`."
   ]
  },
  {
   "cell_type": "code",
   "execution_count": 162,
   "metadata": {},
   "outputs": [
    {
     "data": {
      "text/html": [
       "<div>\n",
       "<style scoped>\n",
       "    .dataframe tbody tr th:only-of-type {\n",
       "        vertical-align: middle;\n",
       "    }\n",
       "\n",
       "    .dataframe tbody tr th {\n",
       "        vertical-align: top;\n",
       "    }\n",
       "\n",
       "    .dataframe thead th {\n",
       "        text-align: right;\n",
       "    }\n",
       "</style>\n",
       "<table border=\"1\" class=\"dataframe\">\n",
       "  <thead>\n",
       "    <tr style=\"text-align: right;\">\n",
       "      <th></th>\n",
       "      <th>date</th>\n",
       "      <th>rgdp_fiji</th>\n",
       "      <th>rgdp_aus</th>\n",
       "    </tr>\n",
       "  </thead>\n",
       "  <tbody>\n",
       "    <tr>\n",
       "      <th>0</th>\n",
       "      <td>1970.0</td>\n",
       "      <td>1.6316</td>\n",
       "      <td>406.2</td>\n",
       "    </tr>\n",
       "    <tr>\n",
       "      <th>1</th>\n",
       "      <td>1971.0</td>\n",
       "      <td>1.7436</td>\n",
       "      <td>421.7</td>\n",
       "    </tr>\n",
       "    <tr>\n",
       "      <th>2</th>\n",
       "      <td>1972.0</td>\n",
       "      <td>1.8744</td>\n",
       "      <td>429.7</td>\n",
       "    </tr>\n",
       "    <tr>\n",
       "      <th>3</th>\n",
       "      <td>1973.0</td>\n",
       "      <td>2.0921</td>\n",
       "      <td>451.4</td>\n",
       "    </tr>\n",
       "    <tr>\n",
       "      <th>4</th>\n",
       "      <td>1974.0</td>\n",
       "      <td>2.1453</td>\n",
       "      <td>458.0</td>\n",
       "    </tr>\n",
       "  </tbody>\n",
       "</table>\n",
       "</div>"
      ],
      "text/plain": [
       "     date  rgdp_fiji  rgdp_aus\n",
       "0  1970.0     1.6316     406.2\n",
       "1  1971.0     1.7436     421.7\n",
       "2  1972.0     1.8744     429.7\n",
       "3  1973.0     2.0921     451.4\n",
       "4  1974.0     2.1453     458.0"
      ]
     },
     "execution_count": 162,
     "metadata": {},
     "output_type": "execute_result"
    }
   ],
   "source": [
    "df.columns = [x.lower() for x in df.columns]\n",
    "df = df[[\"date\", \"rgdp_fiji\", \"rgdp_aus\"]]\n",
    "df.head()"
   ]
  },
  {
   "cell_type": "code",
   "execution_count": 164,
   "metadata": {},
   "outputs": [],
   "source": [
    "# Transform into logs:\n",
    "df1 = (df\n",
    "    .assign(\n",
    "        log_rgdp_fiji=np.log(df.rgdp_fiji),\n",
    "        log_rgdp_aus=np.log(df.rgdp_aus)\n",
    "    )\n",
    "    .dropna()\n",
    ")"
   ]
  },
  {
   "cell_type": "code",
   "execution_count": 165,
   "metadata": {},
   "outputs": [
    {
     "name": "stderr",
     "output_type": "stream",
     "text": [
      "/home/joao/moocs/time-series/envs/lib/python3.9/site-packages/statsmodels/tsa/tsatools.py:142: FutureWarning: In a future version of pandas all arguments of concat except for the argument 'objs' will be keyword-only\n",
      "  x = pd.concat(x[::order], 1)\n"
     ]
    },
    {
     "data": {
      "text/html": [
       "<table class=\"simpletable\">\n",
       "<caption>OLS Regression Results</caption>\n",
       "<tr>\n",
       "  <th>Dep. Variable:</th>      <td>log_rgdp_fiji</td>  <th>  R-squared:         </th> <td>   0.978</td>\n",
       "</tr>\n",
       "<tr>\n",
       "  <th>Model:</th>                   <td>OLS</td>       <th>  Adj. R-squared:    </th> <td>   0.977</td>\n",
       "</tr>\n",
       "<tr>\n",
       "  <th>Method:</th>             <td>Least Squares</td>  <th>  F-statistic:       </th> <td>   1867.</td>\n",
       "</tr>\n",
       "<tr>\n",
       "  <th>Date:</th>             <td>Thu, 14 Oct 2021</td> <th>  Prob (F-statistic):</th> <td>1.92e-36</td>\n",
       "</tr>\n",
       "<tr>\n",
       "  <th>Time:</th>                 <td>14:48:32</td>     <th>  Log-Likelihood:    </th> <td>  70.269</td>\n",
       "</tr>\n",
       "<tr>\n",
       "  <th>No. Observations:</th>      <td>    44</td>      <th>  AIC:               </th> <td>  -136.5</td>\n",
       "</tr>\n",
       "<tr>\n",
       "  <th>Df Residuals:</th>          <td>    42</td>      <th>  BIC:               </th> <td>  -133.0</td>\n",
       "</tr>\n",
       "<tr>\n",
       "  <th>Df Model:</th>              <td>     1</td>      <th>                     </th>     <td> </td>   \n",
       "</tr>\n",
       "<tr>\n",
       "  <th>Covariance Type:</th>      <td>nonrobust</td>    <th>                     </th>     <td> </td>   \n",
       "</tr>\n",
       "</table>\n",
       "<table class=\"simpletable\">\n",
       "<tr>\n",
       "        <td></td>          <th>coef</th>     <th>std err</th>      <th>t</th>      <th>P>|t|</th>  <th>[0.025</th>    <th>0.975]</th>  \n",
       "</tr>\n",
       "<tr>\n",
       "  <th>const</th>        <td>   -4.1952</td> <td>    0.124</td> <td>  -33.878</td> <td> 0.000</td> <td>   -4.445</td> <td>   -3.945</td>\n",
       "</tr>\n",
       "<tr>\n",
       "  <th>log_rgdp_aus</th> <td>    0.8010</td> <td>    0.019</td> <td>   43.208</td> <td> 0.000</td> <td>    0.764</td> <td>    0.838</td>\n",
       "</tr>\n",
       "</table>\n",
       "<table class=\"simpletable\">\n",
       "<tr>\n",
       "  <th>Omnibus:</th>       <td> 4.947</td> <th>  Durbin-Watson:     </th> <td>   0.687</td>\n",
       "</tr>\n",
       "<tr>\n",
       "  <th>Prob(Omnibus):</th> <td> 0.084</td> <th>  Jarque-Bera (JB):  </th> <td>   4.232</td>\n",
       "</tr>\n",
       "<tr>\n",
       "  <th>Skew:</th>          <td>-0.758</td> <th>  Prob(JB):          </th> <td>   0.121</td>\n",
       "</tr>\n",
       "<tr>\n",
       "  <th>Kurtosis:</th>      <td> 3.105</td> <th>  Cond. No.          </th> <td>    112.</td>\n",
       "</tr>\n",
       "</table><br/><br/>Notes:<br/>[1] Standard Errors assume that the covariance matrix of the errors is correctly specified."
      ],
      "text/plain": [
       "<class 'statsmodels.iolib.summary.Summary'>\n",
       "\"\"\"\n",
       "                            OLS Regression Results                            \n",
       "==============================================================================\n",
       "Dep. Variable:          log_rgdp_fiji   R-squared:                       0.978\n",
       "Model:                            OLS   Adj. R-squared:                  0.977\n",
       "Method:                 Least Squares   F-statistic:                     1867.\n",
       "Date:                Thu, 14 Oct 2021   Prob (F-statistic):           1.92e-36\n",
       "Time:                        14:48:32   Log-Likelihood:                 70.269\n",
       "No. Observations:                  44   AIC:                            -136.5\n",
       "Df Residuals:                      42   BIC:                            -133.0\n",
       "Df Model:                           1                                         \n",
       "Covariance Type:            nonrobust                                         \n",
       "================================================================================\n",
       "                   coef    std err          t      P>|t|      [0.025      0.975]\n",
       "--------------------------------------------------------------------------------\n",
       "const           -4.1952      0.124    -33.878      0.000      -4.445      -3.945\n",
       "log_rgdp_aus     0.8010      0.019     43.208      0.000       0.764       0.838\n",
       "==============================================================================\n",
       "Omnibus:                        4.947   Durbin-Watson:                   0.687\n",
       "Prob(Omnibus):                  0.084   Jarque-Bera (JB):                4.232\n",
       "Skew:                          -0.758   Prob(JB):                        0.121\n",
       "Kurtosis:                       3.105   Cond. No.                         112.\n",
       "==============================================================================\n",
       "\n",
       "Notes:\n",
       "[1] Standard Errors assume that the covariance matrix of the errors is correctly specified.\n",
       "\"\"\""
      ]
     },
     "execution_count": 165,
     "metadata": {},
     "output_type": "execute_result"
    }
   ],
   "source": [
    "X = df1.log_rgdp_aus\n",
    "X = sm.add_constant(X)\n",
    "Y = df1.log_rgdp_fiji\n",
    "model = sm.OLS(Y, X)\n",
    "results = model.fit()\n",
    "results.summary()"
   ]
  },
  {
   "cell_type": "markdown",
   "metadata": {},
   "source": [
    "To finish with the introduction, let's plot the dependent variable, the predicted values, and the residuals:"
   ]
  },
  {
   "cell_type": "code",
   "execution_count": 166,
   "metadata": {},
   "outputs": [
    {
     "data": {
      "image/png": "[encoded data removed]",
      "text/plain": [
       "<Figure size 720x504 with 2 Axes>"
      ]
     },
     "metadata": {
      "needs_background": "light"
     },
     "output_type": "display_data"
    }
   ],
   "source": [
    "fig, ax = plt.subplots(2, figsize=(10, 7))\n",
    "\n",
    "ax[0].plot(df1.date, Y)\n",
    "ax[0].plot(df1.date, results.predict(), color=\"r\");\n",
    "\n",
    "ax[1].plot(df1.date, results.resid)\n",
    "ax[1].axhline(0, ls='--');\n"
   ]
  },
  {
   "cell_type": "markdown",
   "metadata": {},
   "source": [
    "## Session 3: Equation Object: Allowing for Additional Variables, Including Dynamics\n",
    "\n",
    "In this session, we add additional variables and lags to the model presented in the introduction.\n",
    "\n",
    "First, we add sugar production and a dummy variable to cover the 2008 crisis period:\n",
    "\n",
    "$log(F_{gdp}) = c + log(A_{gdp}) + log(F_{sugar}) + GFC_{07-10}$"
   ]
  },
  {
   "cell_type": "code",
   "execution_count": 2,
   "metadata": {},
   "outputs": [
    {
     "data": {
      "text/html": [
       "<div>\n",
       "<style scoped>\n",
       "    .dataframe tbody tr th:only-of-type {\n",
       "        vertical-align: middle;\n",
       "    }\n",
       "\n",
       "    .dataframe tbody tr th {\n",
       "        vertical-align: top;\n",
       "    }\n",
       "\n",
       "    .dataframe thead th {\n",
       "        text-align: right;\n",
       "    }\n",
       "</style>\n",
       "<table border=\"1\" class=\"dataframe\">\n",
       "  <thead>\n",
       "    <tr style=\"text-align: right;\">\n",
       "      <th></th>\n",
       "      <th>rgdp_fiji</th>\n",
       "      <th>rgdp_aus</th>\n",
       "      <th>sugaroutput_fiji</th>\n",
       "    </tr>\n",
       "    <tr>\n",
       "      <th>Date</th>\n",
       "      <th></th>\n",
       "      <th></th>\n",
       "      <th></th>\n",
       "    </tr>\n",
       "  </thead>\n",
       "  <tbody>\n",
       "    <tr>\n",
       "      <th>1970.0</th>\n",
       "      <td>1.6316</td>\n",
       "      <td>406.2</td>\n",
       "      <td>NaN</td>\n",
       "    </tr>\n",
       "    <tr>\n",
       "      <th>1971.0</th>\n",
       "      <td>1.7436</td>\n",
       "      <td>421.7</td>\n",
       "      <td>NaN</td>\n",
       "    </tr>\n",
       "    <tr>\n",
       "      <th>1972.0</th>\n",
       "      <td>1.8744</td>\n",
       "      <td>429.7</td>\n",
       "      <td>NaN</td>\n",
       "    </tr>\n",
       "    <tr>\n",
       "      <th>1973.0</th>\n",
       "      <td>2.0921</td>\n",
       "      <td>451.4</td>\n",
       "      <td>NaN</td>\n",
       "    </tr>\n",
       "    <tr>\n",
       "      <th>1974.0</th>\n",
       "      <td>2.1453</td>\n",
       "      <td>458.0</td>\n",
       "      <td>NaN</td>\n",
       "    </tr>\n",
       "  </tbody>\n",
       "</table>\n",
       "</div>"
      ],
      "text/plain": [
       "        rgdp_fiji  rgdp_aus  sugaroutput_fiji\n",
       "Date                                         \n",
       "1970.0     1.6316     406.2               NaN\n",
       "1971.0     1.7436     421.7               NaN\n",
       "1972.0     1.8744     429.7               NaN\n",
       "1973.0     2.0921     451.4               NaN\n",
       "1974.0     2.1453     458.0               NaN"
      ]
     },
     "execution_count": 2,
     "metadata": {},
     "output_type": "execute_result"
    }
   ],
   "source": [
    "# Reload csv and make transformations\n",
    "df = pd.read_csv(\"data/Module_2_Fiji_fiji.csv\", index_col='Date')\n",
    "df.columns = [x.lower() for x in df.columns]\n",
    "df = df.loc[:, [\"rgdp_fiji\", \"rgdp_aus\", \"sugaroutput_fiji\"]]\n",
    "df.head()"
   ]
  },
  {
   "cell_type": "code",
   "execution_count": 3,
   "metadata": {},
   "outputs": [
    {
     "data": {
      "text/html": [
       "<div>\n",
       "<style scoped>\n",
       "    .dataframe tbody tr th:only-of-type {\n",
       "        vertical-align: middle;\n",
       "    }\n",
       "\n",
       "    .dataframe tbody tr th {\n",
       "        vertical-align: top;\n",
       "    }\n",
       "\n",
       "    .dataframe thead th {\n",
       "        text-align: right;\n",
       "    }\n",
       "</style>\n",
       "<table border=\"1\" class=\"dataframe\">\n",
       "  <thead>\n",
       "    <tr style=\"text-align: right;\">\n",
       "      <th></th>\n",
       "      <th>rgdp_fiji</th>\n",
       "      <th>rgdp_aus</th>\n",
       "      <th>sugaroutput_fiji</th>\n",
       "      <th>gfc</th>\n",
       "      <th>lag_rgdp_fiji</th>\n",
       "      <th>lag_rgdp_aus</th>\n",
       "      <th>log_rgdp_fiji</th>\n",
       "      <th>log_rgdp_aus</th>\n",
       "      <th>log_sugaroutput_fiji</th>\n",
       "      <th>log_lag_rgdp_fiji</th>\n",
       "      <th>log_lag_rgdp_aus</th>\n",
       "    </tr>\n",
       "    <tr>\n",
       "      <th>Date</th>\n",
       "      <th></th>\n",
       "      <th></th>\n",
       "      <th></th>\n",
       "      <th></th>\n",
       "      <th></th>\n",
       "      <th></th>\n",
       "      <th></th>\n",
       "      <th></th>\n",
       "      <th></th>\n",
       "      <th></th>\n",
       "      <th></th>\n",
       "    </tr>\n",
       "  </thead>\n",
       "  <tbody>\n",
       "    <tr>\n",
       "      <th>2004.0</th>\n",
       "      <td>4.5238</td>\n",
       "      <td>1202.7</td>\n",
       "      <td>3001.0</td>\n",
       "      <td>0</td>\n",
       "      <td>4.2897</td>\n",
       "      <td>1155.4</td>\n",
       "      <td>1.509352</td>\n",
       "      <td>7.092324</td>\n",
       "      <td>8.006701</td>\n",
       "      <td>1.456217</td>\n",
       "      <td>7.052202</td>\n",
       "    </tr>\n",
       "    <tr>\n",
       "      <th>2005.0</th>\n",
       "      <td>4.6368</td>\n",
       "      <td>1240.4</td>\n",
       "      <td>2789.0</td>\n",
       "      <td>0</td>\n",
       "      <td>4.5238</td>\n",
       "      <td>1202.7</td>\n",
       "      <td>1.534024</td>\n",
       "      <td>7.123189</td>\n",
       "      <td>7.933438</td>\n",
       "      <td>1.509352</td>\n",
       "      <td>7.092324</td>\n",
       "    </tr>\n",
       "    <tr>\n",
       "      <th>2006.0</th>\n",
       "      <td>4.7229</td>\n",
       "      <td>1273.5</td>\n",
       "      <td>3226.0</td>\n",
       "      <td>0</td>\n",
       "      <td>4.6368</td>\n",
       "      <td>1240.4</td>\n",
       "      <td>1.552423</td>\n",
       "      <td>7.149524</td>\n",
       "      <td>8.078998</td>\n",
       "      <td>1.534024</td>\n",
       "      <td>7.123189</td>\n",
       "    </tr>\n",
       "    <tr>\n",
       "      <th>2007.0</th>\n",
       "      <td>4.6823</td>\n",
       "      <td>1331.4</td>\n",
       "      <td>2478.0</td>\n",
       "      <td>1</td>\n",
       "      <td>4.7229</td>\n",
       "      <td>1273.5</td>\n",
       "      <td>1.543789</td>\n",
       "      <td>7.193986</td>\n",
       "      <td>7.815207</td>\n",
       "      <td>1.552423</td>\n",
       "      <td>7.149524</td>\n",
       "    </tr>\n",
       "    <tr>\n",
       "      <th>2008.0</th>\n",
       "      <td>4.7306</td>\n",
       "      <td>1367.2</td>\n",
       "      <td>2321.0</td>\n",
       "      <td>1</td>\n",
       "      <td>4.6823</td>\n",
       "      <td>1331.4</td>\n",
       "      <td>1.554052</td>\n",
       "      <td>7.220520</td>\n",
       "      <td>7.749753</td>\n",
       "      <td>1.543789</td>\n",
       "      <td>7.193986</td>\n",
       "    </tr>\n",
       "    <tr>\n",
       "      <th>2009.0</th>\n",
       "      <td>4.6650</td>\n",
       "      <td>1388.3</td>\n",
       "      <td>2247.0</td>\n",
       "      <td>1</td>\n",
       "      <td>4.7306</td>\n",
       "      <td>1367.2</td>\n",
       "      <td>1.540088</td>\n",
       "      <td>7.235835</td>\n",
       "      <td>7.717351</td>\n",
       "      <td>1.554052</td>\n",
       "      <td>7.220520</td>\n",
       "    </tr>\n",
       "    <tr>\n",
       "      <th>2010.0</th>\n",
       "      <td>4.8029</td>\n",
       "      <td>1419.5</td>\n",
       "      <td>1778.0</td>\n",
       "      <td>1</td>\n",
       "      <td>4.6650</td>\n",
       "      <td>1388.3</td>\n",
       "      <td>1.569220</td>\n",
       "      <td>7.258060</td>\n",
       "      <td>7.483244</td>\n",
       "      <td>1.540088</td>\n",
       "      <td>7.235835</td>\n",
       "    </tr>\n",
       "    <tr>\n",
       "      <th>2011.0</th>\n",
       "      <td>4.9328</td>\n",
       "      <td>1456.3</td>\n",
       "      <td>2096.0</td>\n",
       "      <td>0</td>\n",
       "      <td>4.8029</td>\n",
       "      <td>1419.5</td>\n",
       "      <td>1.595907</td>\n",
       "      <td>7.283654</td>\n",
       "      <td>7.647786</td>\n",
       "      <td>1.569220</td>\n",
       "      <td>7.258060</td>\n",
       "    </tr>\n",
       "    <tr>\n",
       "      <th>2012.0</th>\n",
       "      <td>5.0231</td>\n",
       "      <td>1508.8</td>\n",
       "      <td>1640.0</td>\n",
       "      <td>0</td>\n",
       "      <td>4.9328</td>\n",
       "      <td>1456.3</td>\n",
       "      <td>1.614047</td>\n",
       "      <td>7.319070</td>\n",
       "      <td>7.402452</td>\n",
       "      <td>1.595907</td>\n",
       "      <td>7.283654</td>\n",
       "    </tr>\n",
       "    <tr>\n",
       "      <th>2013.0</th>\n",
       "      <td>5.2563</td>\n",
       "      <td>1543.9</td>\n",
       "      <td>1760.0</td>\n",
       "      <td>0</td>\n",
       "      <td>5.0231</td>\n",
       "      <td>1508.8</td>\n",
       "      <td>1.659427</td>\n",
       "      <td>7.342067</td>\n",
       "      <td>7.473069</td>\n",
       "      <td>1.614047</td>\n",
       "      <td>7.319070</td>\n",
       "    </tr>\n",
       "  </tbody>\n",
       "</table>\n",
       "</div>"
      ],
      "text/plain": [
       "        rgdp_fiji  rgdp_aus  sugaroutput_fiji  gfc  lag_rgdp_fiji  \\\n",
       "Date                                                                \n",
       "2004.0     4.5238    1202.7            3001.0    0         4.2897   \n",
       "2005.0     4.6368    1240.4            2789.0    0         4.5238   \n",
       "2006.0     4.7229    1273.5            3226.0    0         4.6368   \n",
       "2007.0     4.6823    1331.4            2478.0    1         4.7229   \n",
       "2008.0     4.7306    1367.2            2321.0    1         4.6823   \n",
       "2009.0     4.6650    1388.3            2247.0    1         4.7306   \n",
       "2010.0     4.8029    1419.5            1778.0    1         4.6650   \n",
       "2011.0     4.9328    1456.3            2096.0    0         4.8029   \n",
       "2012.0     5.0231    1508.8            1640.0    0         4.9328   \n",
       "2013.0     5.2563    1543.9            1760.0    0         5.0231   \n",
       "\n",
       "        lag_rgdp_aus  log_rgdp_fiji  log_rgdp_aus  log_sugaroutput_fiji  \\\n",
       "Date                                                                      \n",
       "2004.0        1155.4       1.509352      7.092324              8.006701   \n",
       "2005.0        1202.7       1.534024      7.123189              7.933438   \n",
       "2006.0        1240.4       1.552423      7.149524              8.078998   \n",
       "2007.0        1273.5       1.543789      7.193986              7.815207   \n",
       "2008.0        1331.4       1.554052      7.220520              7.749753   \n",
       "2009.0        1367.2       1.540088      7.235835              7.717351   \n",
       "2010.0        1388.3       1.569220      7.258060              7.483244   \n",
       "2011.0        1419.5       1.595907      7.283654              7.647786   \n",
       "2012.0        1456.3       1.614047      7.319070              7.402452   \n",
       "2013.0        1508.8       1.659427      7.342067              7.473069   \n",
       "\n",
       "        log_lag_rgdp_fiji  log_lag_rgdp_aus  \n",
       "Date                                         \n",
       "2004.0           1.456217          7.052202  \n",
       "2005.0           1.509352          7.092324  \n",
       "2006.0           1.534024          7.123189  \n",
       "2007.0           1.552423          7.149524  \n",
       "2008.0           1.543789          7.193986  \n",
       "2009.0           1.554052          7.220520  \n",
       "2010.0           1.540088          7.235835  \n",
       "2011.0           1.569220          7.258060  \n",
       "2012.0           1.595907          7.283654  \n",
       "2013.0           1.614047          7.319070  "
      ]
     },
     "execution_count": 3,
     "metadata": {},
     "output_type": "execute_result"
    }
   ],
   "source": [
    "df = (\n",
    "    df\n",
    "    .pipe(lambda x: x.assign(\n",
    "        # Create a dummy for GFC\n",
    "        gfc=np.where(x.index.isin([2007, 2008, 2009, 2010]), 1, 0),\n",
    "        # Create lags\n",
    "        **{f'lag_{col.name}': col.shift(1) for col in [x.rgdp_fiji, x.rgdp_aus]}\n",
    "    ))\n",
    "    .pipe(lambda x: x.assign(\n",
    "        # Create logs\n",
    "        **{f'log_{col.name}': np.log(col) for col in [x.rgdp_fiji, x.rgdp_aus, x.sugaroutput_fiji, x.lag_rgdp_fiji, x.lag_rgdp_aus]}\n",
    "        ))\n",
    "    .dropna()\n",
    ")\n",
    "df.tail(10)"
   ]
  },
  {
   "cell_type": "code",
   "execution_count": 5,
   "metadata": {},
   "outputs": [
    {
     "name": "stderr",
     "output_type": "stream",
     "text": [
      "/home/joao/moocs/time-series/envs/lib/python3.9/site-packages/statsmodels/tsa/tsatools.py:142: FutureWarning: In a future version of pandas all arguments of concat except for the argument 'objs' will be keyword-only\n",
      "  x = pd.concat(x[::order], 1)\n"
     ]
    },
    {
     "data": {
      "text/html": [
       "<table class=\"simpletable\">\n",
       "<caption>OLS Regression Results</caption>\n",
       "<tr>\n",
       "  <th>Dep. Variable:</th>      <td>log_rgdp_fiji</td>  <th>  R-squared:         </th> <td>   0.990</td>\n",
       "</tr>\n",
       "<tr>\n",
       "  <th>Model:</th>                   <td>OLS</td>       <th>  Adj. R-squared:    </th> <td>   0.988</td>\n",
       "</tr>\n",
       "<tr>\n",
       "  <th>Method:</th>             <td>Least Squares</td>  <th>  F-statistic:       </th> <td>   657.5</td>\n",
       "</tr>\n",
       "<tr>\n",
       "  <th>Date:</th>             <td>Sun, 17 Oct 2021</td> <th>  Prob (F-statistic):</th> <td>3.82e-20</td>\n",
       "</tr>\n",
       "<tr>\n",
       "  <th>Time:</th>                 <td>10:59:46</td>     <th>  Log-Likelihood:    </th> <td>  65.292</td>\n",
       "</tr>\n",
       "<tr>\n",
       "  <th>No. Observations:</th>      <td>    24</td>      <th>  AIC:               </th> <td>  -122.6</td>\n",
       "</tr>\n",
       "<tr>\n",
       "  <th>Df Residuals:</th>          <td>    20</td>      <th>  BIC:               </th> <td>  -117.9</td>\n",
       "</tr>\n",
       "<tr>\n",
       "  <th>Df Model:</th>              <td>     3</td>      <th>                     </th>     <td> </td>   \n",
       "</tr>\n",
       "<tr>\n",
       "  <th>Covariance Type:</th>      <td>nonrobust</td>    <th>                     </th>     <td> </td>   \n",
       "</tr>\n",
       "</table>\n",
       "<table class=\"simpletable\">\n",
       "<tr>\n",
       "            <td></td>              <th>coef</th>     <th>std err</th>      <th>t</th>      <th>P>|t|</th>  <th>[0.025</th>    <th>0.975]</th>  \n",
       "</tr>\n",
       "<tr>\n",
       "  <th>const</th>                <td>   -4.9662</td> <td>    0.328</td> <td>  -15.149</td> <td> 0.000</td> <td>   -5.650</td> <td>   -4.282</td>\n",
       "</tr>\n",
       "<tr>\n",
       "  <th>log_rgdp_aus</th>         <td>    0.7977</td> <td>    0.026</td> <td>   30.225</td> <td> 0.000</td> <td>    0.743</td> <td>    0.853</td>\n",
       "</tr>\n",
       "<tr>\n",
       "  <th>log_sugaroutput_fiji</th> <td>    0.1015</td> <td>    0.021</td> <td>    4.891</td> <td> 0.000</td> <td>    0.058</td> <td>    0.145</td>\n",
       "</tr>\n",
       "<tr>\n",
       "  <th>gfc</th>                  <td>   -0.0272</td> <td>    0.011</td> <td>   -2.511</td> <td> 0.021</td> <td>   -0.050</td> <td>   -0.005</td>\n",
       "</tr>\n",
       "</table>\n",
       "<table class=\"simpletable\">\n",
       "<tr>\n",
       "  <th>Omnibus:</th>       <td> 1.051</td> <th>  Durbin-Watson:     </th> <td>   1.656</td>\n",
       "</tr>\n",
       "<tr>\n",
       "  <th>Prob(Omnibus):</th> <td> 0.591</td> <th>  Jarque-Bera (JB):  </th> <td>   0.886</td>\n",
       "</tr>\n",
       "<tr>\n",
       "  <th>Skew:</th>          <td>-0.211</td> <th>  Prob(JB):          </th> <td>   0.642</td>\n",
       "</tr>\n",
       "<tr>\n",
       "  <th>Kurtosis:</th>      <td> 2.159</td> <th>  Cond. No.          </th> <td>    985.</td>\n",
       "</tr>\n",
       "</table><br/><br/>Notes:<br/>[1] Standard Errors assume that the covariance matrix of the errors is correctly specified."
      ],
      "text/plain": [
       "<class 'statsmodels.iolib.summary.Summary'>\n",
       "\"\"\"\n",
       "                            OLS Regression Results                            \n",
       "==============================================================================\n",
       "Dep. Variable:          log_rgdp_fiji   R-squared:                       0.990\n",
       "Model:                            OLS   Adj. R-squared:                  0.988\n",
       "Method:                 Least Squares   F-statistic:                     657.5\n",
       "Date:                Sun, 17 Oct 2021   Prob (F-statistic):           3.82e-20\n",
       "Time:                        10:59:46   Log-Likelihood:                 65.292\n",
       "No. Observations:                  24   AIC:                            -122.6\n",
       "Df Residuals:                      20   BIC:                            -117.9\n",
       "Df Model:                           3                                         \n",
       "Covariance Type:            nonrobust                                         \n",
       "========================================================================================\n",
       "                           coef    std err          t      P>|t|      [0.025      0.975]\n",
       "----------------------------------------------------------------------------------------\n",
       "const                   -4.9662      0.328    -15.149      0.000      -5.650      -4.282\n",
       "log_rgdp_aus             0.7977      0.026     30.225      0.000       0.743       0.853\n",
       "log_sugaroutput_fiji     0.1015      0.021      4.891      0.000       0.058       0.145\n",
       "gfc                     -0.0272      0.011     -2.511      0.021      -0.050      -0.005\n",
       "==============================================================================\n",
       "Omnibus:                        1.051   Durbin-Watson:                   1.656\n",
       "Prob(Omnibus):                  0.591   Jarque-Bera (JB):                0.886\n",
       "Skew:                          -0.211   Prob(JB):                        0.642\n",
       "Kurtosis:                       2.159   Cond. No.                         985.\n",
       "==============================================================================\n",
       "\n",
       "Notes:\n",
       "[1] Standard Errors assume that the covariance matrix of the errors is correctly specified.\n",
       "\"\"\""
      ]
     },
     "execution_count": 5,
     "metadata": {},
     "output_type": "execute_result"
    }
   ],
   "source": [
    "# Regress\n",
    "X = df[[\"log_rgdp_aus\", \"log_sugaroutput_fiji\", \"gfc\"]]\n",
    "X = sm.add_constant(X)\n",
    "y = df[\"log_rgdp_fiji\"]\n",
    "\n",
    "model = sm.OLS(y, X)\n",
    "results = model.fit()\n",
    "results.summary()"
   ]
  },
  {
   "cell_type": "code",
   "execution_count": 6,
   "metadata": {},
   "outputs": [
    {
     "data": {
      "image/png": "[encoded data removed]",
      "text/plain": [
       "<Figure size 720x504 with 2 Axes>"
      ]
     },
     "metadata": {
      "needs_background": "light"
     },
     "output_type": "display_data"
    }
   ],
   "source": [
    "fig, ax = plt.subplots(2, figsize=(10, 7))\n",
    "\n",
    "ax[0].plot(df.index, y)\n",
    "ax[0].plot(df.index, results.predict(), color=\"r\");\n",
    "\n",
    "ax[1].plot(df.index, results.resid)\n",
    "ax[1].axhline(0, ls='--');"
   ]
  },
  {
   "cell_type": "code",
   "execution_count": 7,
   "metadata": {},
   "outputs": [
    {
     "name": "stderr",
     "output_type": "stream",
     "text": [
      "/home/joao/moocs/time-series/envs/lib/python3.9/site-packages/statsmodels/tsa/tsatools.py:142: FutureWarning: In a future version of pandas all arguments of concat except for the argument 'objs' will be keyword-only\n",
      "  x = pd.concat(x[::order], 1)\n"
     ]
    },
    {
     "data": {
      "text/html": [
       "<table class=\"simpletable\">\n",
       "<caption>OLS Regression Results</caption>\n",
       "<tr>\n",
       "  <th>Dep. Variable:</th>      <td>log_rgdp_fiji</td>  <th>  R-squared:         </th> <td>   0.993</td>\n",
       "</tr>\n",
       "<tr>\n",
       "  <th>Model:</th>                   <td>OLS</td>       <th>  Adj. R-squared:    </th> <td>   0.991</td>\n",
       "</tr>\n",
       "<tr>\n",
       "  <th>Method:</th>             <td>Least Squares</td>  <th>  F-statistic:       </th> <td>   512.4</td>\n",
       "</tr>\n",
       "<tr>\n",
       "  <th>Date:</th>             <td>Sun, 17 Oct 2021</td> <th>  Prob (F-statistic):</th> <td>9.57e-19</td>\n",
       "</tr>\n",
       "<tr>\n",
       "  <th>Time:</th>                 <td>10:59:52</td>     <th>  Log-Likelihood:    </th> <td>  69.657</td>\n",
       "</tr>\n",
       "<tr>\n",
       "  <th>No. Observations:</th>      <td>    24</td>      <th>  AIC:               </th> <td>  -127.3</td>\n",
       "</tr>\n",
       "<tr>\n",
       "  <th>Df Residuals:</th>          <td>    18</td>      <th>  BIC:               </th> <td>  -120.2</td>\n",
       "</tr>\n",
       "<tr>\n",
       "  <th>Df Model:</th>              <td>     5</td>      <th>                     </th>     <td> </td>   \n",
       "</tr>\n",
       "<tr>\n",
       "  <th>Covariance Type:</th>      <td>nonrobust</td>    <th>                     </th>     <td> </td>   \n",
       "</tr>\n",
       "</table>\n",
       "<table class=\"simpletable\">\n",
       "<tr>\n",
       "            <td></td>              <th>coef</th>     <th>std err</th>      <th>t</th>      <th>P>|t|</th>  <th>[0.025</th>    <th>0.975]</th>  \n",
       "</tr>\n",
       "<tr>\n",
       "  <th>const</th>                <td>   -4.3060</td> <td>    0.656</td> <td>   -6.562</td> <td> 0.000</td> <td>   -5.685</td> <td>   -2.927</td>\n",
       "</tr>\n",
       "<tr>\n",
       "  <th>log_lag_rgdp_fiji</th>    <td>    0.1075</td> <td>    0.130</td> <td>    0.827</td> <td> 0.419</td> <td>   -0.166</td> <td>    0.381</td>\n",
       "</tr>\n",
       "<tr>\n",
       "  <th>log_rgdp_aus</th>         <td>    1.3950</td> <td>    0.282</td> <td>    4.948</td> <td> 0.000</td> <td>    0.803</td> <td>    1.987</td>\n",
       "</tr>\n",
       "<tr>\n",
       "  <th>log_lag_rgdp_aus</th>     <td>   -0.6950</td> <td>    0.263</td> <td>   -2.640</td> <td> 0.017</td> <td>   -1.248</td> <td>   -0.142</td>\n",
       "</tr>\n",
       "<tr>\n",
       "  <th>log_sugaroutput_fiji</th> <td>    0.0827</td> <td>    0.021</td> <td>    4.005</td> <td> 0.001</td> <td>    0.039</td> <td>    0.126</td>\n",
       "</tr>\n",
       "<tr>\n",
       "  <th>gfc</th>                  <td>   -0.0231</td> <td>    0.010</td> <td>   -2.398</td> <td> 0.028</td> <td>   -0.043</td> <td>   -0.003</td>\n",
       "</tr>\n",
       "</table>\n",
       "<table class=\"simpletable\">\n",
       "<tr>\n",
       "  <th>Omnibus:</th>       <td> 2.449</td> <th>  Durbin-Watson:     </th> <td>   2.324</td>\n",
       "</tr>\n",
       "<tr>\n",
       "  <th>Prob(Omnibus):</th> <td> 0.294</td> <th>  Jarque-Bera (JB):  </th> <td>   1.256</td>\n",
       "</tr>\n",
       "<tr>\n",
       "  <th>Skew:</th>          <td> 0.168</td> <th>  Prob(JB):          </th> <td>   0.534</td>\n",
       "</tr>\n",
       "<tr>\n",
       "  <th>Kurtosis:</th>      <td> 1.931</td> <th>  Cond. No.          </th> <td>2.75e+03</td>\n",
       "</tr>\n",
       "</table><br/><br/>Notes:<br/>[1] Standard Errors assume that the covariance matrix of the errors is correctly specified.<br/>[2] The condition number is large, 2.75e+03. This might indicate that there are<br/>strong multicollinearity or other numerical problems."
      ],
      "text/plain": [
       "<class 'statsmodels.iolib.summary.Summary'>\n",
       "\"\"\"\n",
       "                            OLS Regression Results                            \n",
       "==============================================================================\n",
       "Dep. Variable:          log_rgdp_fiji   R-squared:                       0.993\n",
       "Model:                            OLS   Adj. R-squared:                  0.991\n",
       "Method:                 Least Squares   F-statistic:                     512.4\n",
       "Date:                Sun, 17 Oct 2021   Prob (F-statistic):           9.57e-19\n",
       "Time:                        10:59:52   Log-Likelihood:                 69.657\n",
       "No. Observations:                  24   AIC:                            -127.3\n",
       "Df Residuals:                      18   BIC:                            -120.2\n",
       "Df Model:                           5                                         \n",
       "Covariance Type:            nonrobust                                         \n",
       "========================================================================================\n",
       "                           coef    std err          t      P>|t|      [0.025      0.975]\n",
       "----------------------------------------------------------------------------------------\n",
       "const                   -4.3060      0.656     -6.562      0.000      -5.685      -2.927\n",
       "log_lag_rgdp_fiji        0.1075      0.130      0.827      0.419      -0.166       0.381\n",
       "log_rgdp_aus             1.3950      0.282      4.948      0.000       0.803       1.987\n",
       "log_lag_rgdp_aus        -0.6950      0.263     -2.640      0.017      -1.248      -0.142\n",
       "log_sugaroutput_fiji     0.0827      0.021      4.005      0.001       0.039       0.126\n",
       "gfc                     -0.0231      0.010     -2.398      0.028      -0.043      -0.003\n",
       "==============================================================================\n",
       "Omnibus:                        2.449   Durbin-Watson:                   2.324\n",
       "Prob(Omnibus):                  0.294   Jarque-Bera (JB):                1.256\n",
       "Skew:                           0.168   Prob(JB):                        0.534\n",
       "Kurtosis:                       1.931   Cond. No.                     2.75e+03\n",
       "==============================================================================\n",
       "\n",
       "Notes:\n",
       "[1] Standard Errors assume that the covariance matrix of the errors is correctly specified.\n",
       "[2] The condition number is large, 2.75e+03. This might indicate that there are\n",
       "strong multicollinearity or other numerical problems.\n",
       "\"\"\""
      ]
     },
     "execution_count": 7,
     "metadata": {},
     "output_type": "execute_result"
    }
   ],
   "source": [
    "X = df[[\"log_lag_rgdp_fiji\", \"log_rgdp_aus\", \"log_lag_rgdp_aus\", \"log_sugaroutput_fiji\", \"gfc\"]]\n",
    "X = sm.add_constant(X)\n",
    "y = df[\"log_rgdp_fiji\"]\n",
    "\n",
    "model = sm.OLS(y, X)\n",
    "results = model.fit()\n",
    "results.summary()"
   ]
  },
  {
   "cell_type": "code",
   "execution_count": 8,
   "metadata": {},
   "outputs": [
    {
     "data": {
      "image/png": "[encoded data removed]",
      "text/plain": [
       "<Figure size 720x504 with 2 Axes>"
      ]
     },
     "metadata": {
      "needs_background": "light"
     },
     "output_type": "display_data"
    }
   ],
   "source": [
    "fig, ax = plt.subplots(2, figsize=(10, 7))\n",
    "\n",
    "ax[0].plot(df.index, y)\n",
    "ax[0].plot(df.index, results.predict(), color=\"r\");\n",
    "\n",
    "ax[1].plot(df.index, results.resid)\n",
    "ax[1].axhline(0, ls='--');"
   ]
  },
  {
   "cell_type": "code",
   "execution_count": 9,
   "metadata": {},
   "outputs": [
    {
     "name": "stdout",
     "output_type": "stream",
     "text": [
      "Breusch-Godfrey LM Test: \n",
      "LM test statistic      5.915717\n",
      "LM (Chi-sq) p-value    0.115784\n",
      "F test statistic       1.635596\n",
      "F p-value              0.223290\n",
      "Null hypothesis: No Autocorrelation of any order up to 3 lags.\n",
      "Fail to reject the null hypothesis at the .05 significance level\n",
      "Data has no evidence of autocorrelation.\n"
     ]
    }
   ],
   "source": [
    "from utils_statsmodels import bglm_test\n",
    "bglm_test(results, 3)"
   ]
  },
  {
   "cell_type": "markdown",
   "metadata": {},
   "source": [
    "## Session 4 - Basic Forecasting\n",
    "\n",
    "In this session we're going to make our first forecasts. \n",
    "\n",
    "However, we must first understand the difference between static and dynamic forecasting that are relevant when we use a lag of the dependent variable as a regressor. \n",
    "\n",
    "- Static forecast: the observed value in the previous period is used to generate the forecast in the subsequent period.\n",
    "\n",
    "- Dynamic forecast: the forecast of period t generated in t-1 is used in period t to forecast period t+1.\n",
    "\n",
    "For the exogenous variables, observed values are always used. This means that in the context of OLS we cannot use exogenous variables that are measured at the same time as the forecasted variable in out-of-sample forecasts.\n",
    "\n",
    "\n",
    "About the code: `statsmodels` requires you to pass a vector of exogenous variables if you want to forecast out-of-sample. To replicate the forecasts of the lecture, I'm going to split the dataset between a training and a testing dataset, so we can pass the vector of exogenous variables of the testing set to the `.get_predictions()` method. \n",
    "\n",
    "To view the results, we call the `.summary_frame()` method on the predictions. The prediction are the `mean` column of this dataframe, while the the `obs_ci_lower` and `obs_ci_upper` are the confidence interval of the forecast that includes uncertainty on the parameters and on the model.\n",
    "\n",
    "View this link for reference: https://github.com/statsmodels/statsmodels/issues/4437#issuecomment-445466780"
   ]
  },
  {
   "cell_type": "code",
   "execution_count": 10,
   "metadata": {},
   "outputs": [],
   "source": [
    "train = df.loc[:2011]\n",
    "test = df.loc[2011:]"
   ]
  },
  {
   "cell_type": "code",
   "execution_count": 11,
   "metadata": {},
   "outputs": [
    {
     "name": "stderr",
     "output_type": "stream",
     "text": [
      "/home/joao/moocs/time-series/envs/lib/python3.9/site-packages/statsmodels/tsa/tsatools.py:142: FutureWarning: In a future version of pandas all arguments of concat except for the argument 'objs' will be keyword-only\n",
      "  x = pd.concat(x[::order], 1)\n"
     ]
    },
    {
     "data": {
      "text/html": [
       "<div>\n",
       "<style scoped>\n",
       "    .dataframe tbody tr th:only-of-type {\n",
       "        vertical-align: middle;\n",
       "    }\n",
       "\n",
       "    .dataframe tbody tr th {\n",
       "        vertical-align: top;\n",
       "    }\n",
       "\n",
       "    .dataframe thead th {\n",
       "        text-align: right;\n",
       "    }\n",
       "</style>\n",
       "<table border=\"1\" class=\"dataframe\">\n",
       "  <thead>\n",
       "    <tr style=\"text-align: right;\">\n",
       "      <th></th>\n",
       "      <th>mean</th>\n",
       "      <th>mean_se</th>\n",
       "      <th>mean_ci_lower</th>\n",
       "      <th>mean_ci_upper</th>\n",
       "      <th>obs_ci_lower</th>\n",
       "      <th>obs_ci_upper</th>\n",
       "    </tr>\n",
       "    <tr>\n",
       "      <th>Date</th>\n",
       "      <th></th>\n",
       "      <th></th>\n",
       "      <th></th>\n",
       "      <th></th>\n",
       "      <th></th>\n",
       "      <th></th>\n",
       "    </tr>\n",
       "  </thead>\n",
       "  <tbody>\n",
       "    <tr>\n",
       "      <th>2011.0</th>\n",
       "      <td>1.609140</td>\n",
       "      <td>0.010065</td>\n",
       "      <td>1.587803</td>\n",
       "      <td>1.630478</td>\n",
       "      <td>1.570356</td>\n",
       "      <td>1.647925</td>\n",
       "    </tr>\n",
       "    <tr>\n",
       "      <th>2012.0</th>\n",
       "      <td>1.623932</td>\n",
       "      <td>0.012349</td>\n",
       "      <td>1.597754</td>\n",
       "      <td>1.650111</td>\n",
       "      <td>1.582287</td>\n",
       "      <td>1.665577</td>\n",
       "    </tr>\n",
       "    <tr>\n",
       "      <th>2013.0</th>\n",
       "      <td>1.638234</td>\n",
       "      <td>0.011753</td>\n",
       "      <td>1.613318</td>\n",
       "      <td>1.663150</td>\n",
       "      <td>1.597371</td>\n",
       "      <td>1.679097</td>\n",
       "    </tr>\n",
       "  </tbody>\n",
       "</table>\n",
       "</div>"
      ],
      "text/plain": [
       "            mean   mean_se  mean_ci_lower  mean_ci_upper  obs_ci_lower  \\\n",
       "Date                                                                     \n",
       "2011.0  1.609140  0.010065       1.587803       1.630478      1.570356   \n",
       "2012.0  1.623932  0.012349       1.597754       1.650111      1.582287   \n",
       "2013.0  1.638234  0.011753       1.613318       1.663150      1.597371   \n",
       "\n",
       "        obs_ci_upper  \n",
       "Date                  \n",
       "2011.0      1.647925  \n",
       "2012.0      1.665577  \n",
       "2013.0      1.679097  "
      ]
     },
     "execution_count": 11,
     "metadata": {},
     "output_type": "execute_result"
    }
   ],
   "source": [
    "# Create train and test X sets\n",
    "X_train = train[[\"log_lag_rgdp_fiji\", \"log_rgdp_aus\", \"log_lag_rgdp_aus\", \"log_sugaroutput_fiji\", \"gfc\"]]\n",
    "X_train = sm.add_constant(X_train)\n",
    "y_train = train[\"log_rgdp_fiji\"]\n",
    "\n",
    "X_test = test[[\"log_lag_rgdp_fiji\", \"log_rgdp_aus\", \"log_lag_rgdp_aus\", \"log_sugaroutput_fiji\", \"gfc\"]]\n",
    "X_test = sm.add_constant(X_test)\n",
    "\n",
    "# Static prediction:\n",
    "results = sm.OLS(y_train, X_train).fit()\n",
    "predictions = results.get_prediction(X_test)\n",
    "df_stat_pred = predictions.summary_frame(alpha=0.05)\n",
    "df_stat_pred\n"
   ]
  },
  {
   "cell_type": "code",
   "execution_count": 26,
   "metadata": {},
   "outputs": [
    {
     "data": {
      "text/html": [
       "<div>\n",
       "<style scoped>\n",
       "    .dataframe tbody tr th:only-of-type {\n",
       "        vertical-align: middle;\n",
       "    }\n",
       "\n",
       "    .dataframe tbody tr th {\n",
       "        vertical-align: top;\n",
       "    }\n",
       "\n",
       "    .dataframe thead th {\n",
       "        text-align: right;\n",
       "    }\n",
       "</style>\n",
       "<table border=\"1\" class=\"dataframe\">\n",
       "  <thead>\n",
       "    <tr style=\"text-align: right;\">\n",
       "      <th></th>\n",
       "      <th>mean</th>\n",
       "      <th>mean_se</th>\n",
       "      <th>mean_ci_lower</th>\n",
       "      <th>mean_ci_upper</th>\n",
       "      <th>obs_ci_lower</th>\n",
       "      <th>obs_ci_upper</th>\n",
       "    </tr>\n",
       "    <tr>\n",
       "      <th>Date</th>\n",
       "      <th></th>\n",
       "      <th></th>\n",
       "      <th></th>\n",
       "      <th></th>\n",
       "      <th></th>\n",
       "      <th></th>\n",
       "    </tr>\n",
       "  </thead>\n",
       "  <tbody>\n",
       "    <tr>\n",
       "      <th>2011.0</th>\n",
       "      <td>1.609140</td>\n",
       "      <td>0.010065</td>\n",
       "      <td>1.587803</td>\n",
       "      <td>1.630478</td>\n",
       "      <td>1.570356</td>\n",
       "      <td>1.647925</td>\n",
       "    </tr>\n",
       "    <tr>\n",
       "      <th>2012.0</th>\n",
       "      <td>1.625515</td>\n",
       "      <td>0.012060</td>\n",
       "      <td>1.599949</td>\n",
       "      <td>1.651081</td>\n",
       "      <td>1.584252</td>\n",
       "      <td>1.666778</td>\n",
       "    </tr>\n",
       "    <tr>\n",
       "      <th>2013.0</th>\n",
       "      <td>1.639606</td>\n",
       "      <td>0.011435</td>\n",
       "      <td>1.615364</td>\n",
       "      <td>1.663847</td>\n",
       "      <td>1.599150</td>\n",
       "      <td>1.680061</td>\n",
       "    </tr>\n",
       "  </tbody>\n",
       "</table>\n",
       "</div>"
      ],
      "text/plain": [
       "            mean   mean_se  mean_ci_lower  mean_ci_upper  obs_ci_lower  \\\n",
       "Date                                                                     \n",
       "2011.0  1.609140  0.010065       1.587803       1.630478      1.570356   \n",
       "2012.0  1.625515  0.012060       1.599949       1.651081      1.584252   \n",
       "2013.0  1.639606  0.011435       1.615364       1.663847      1.599150   \n",
       "\n",
       "        obs_ci_upper  \n",
       "Date                  \n",
       "2011.0      1.647925  \n",
       "2012.0      1.666778  \n",
       "2013.0      1.680061  "
      ]
     },
     "execution_count": 26,
     "metadata": {},
     "output_type": "execute_result"
    }
   ],
   "source": [
    "df_dyn_pred = dynamic_pred(results, X_test, \"log_lag_rgdp_fiji\")\n",
    "df_dyn_pred\n"
   ]
  },
  {
   "cell_type": "code",
   "execution_count": 27,
   "metadata": {},
   "outputs": [
    {
     "data": {
      "image/png": "[encoded data removed]",
      "text/plain": [
       "<Figure size 576x432 with 1 Axes>"
      ]
     },
     "metadata": {
      "needs_background": "light"
     },
     "output_type": "display_data"
    }
   ],
   "source": [
    "from matplotlib.dates import DateFormatter\n",
    "# Plot the results:\n",
    "\n",
    "fig, ax = plt.subplots(figsize=(8, 6))\n",
    "\n",
    "ax.set_title(\"Static Prediction\")\n",
    "\n",
    "df_ = df_stat_pred[[\"mean\", \"obs_ci_lower\", \"obs_ci_upper\"]].apply(np.exp)\n",
    "\n",
    "ax.plot(df.loc[2009:, ['rgdp_fiji']], label=\"RGDP Fiji\")\n",
    "ax.plot(df_[[\"mean\"]], label = \"Prediction\")\n",
    "ax.fill_between(df_.index, df_['obs_ci_lower'], df_['obs_ci_upper'], color='k', alpha=0.1, label='95% interval')\n",
    "ax.legend(loc='upper left')\n",
    "\n",
    "#date_form = DateFormatter(\"%Y\")\n",
    "#ax.xaxis.set_major_formatter(date_form)\n",
    "\n",
    "ax.set_xticks([2010, 2011, 2012, 2013])\n",
    "ax.grid(which='major', alpha=0.5);"
   ]
  },
  {
   "cell_type": "code",
   "execution_count": 28,
   "metadata": {},
   "outputs": [
    {
     "data": {
      "image/png": "[encoded data removed]",
      "text/plain": [
       "<Figure size 576x432 with 1 Axes>"
      ]
     },
     "metadata": {
      "needs_background": "light"
     },
     "output_type": "display_data"
    }
   ],
   "source": [
    "fig, ax = plt.subplots(figsize=(8, 6))\n",
    "\n",
    "ax.set_title(\"Dynamic Prediction\")\n",
    "\n",
    "df_ = df_dyn_pred[[\"mean\", \"obs_ci_lower\", \"obs_ci_upper\"]].apply(np.exp)\n",
    "\n",
    "ax.plot(df.loc[2009:, ['rgdp_fiji']], label=\"RGDP Fiji\")\n",
    "ax.plot(df_['mean'], label = \"Prediction\")\n",
    "ax.fill_between(df_.index, df_['obs_ci_lower'], df_['obs_ci_upper'], color='k', alpha=0.1, label='95% interval')\n",
    "ax.legend(loc='upper left')\n",
    "\n",
    "date_form = DateFormatter(\"%Y\")\n",
    "ax.xaxis.set_major_formatter(date_form)\n",
    "\n",
    "ax.set_xticks([2010, 2011, 2012, 2013])\n",
    "ax.grid(which='major', alpha=0.5);"
   ]
  },
  {
   "cell_type": "code",
   "execution_count": 34,
   "metadata": {},
   "outputs": [
    {
     "data": {
      "image/png": "[encoded data removed]",
      "text/plain": [
       "<Figure size 576x432 with 1 Axes>"
      ]
     },
     "metadata": {
      "needs_background": "light"
     },
     "output_type": "display_data"
    }
   ],
   "source": [
    "fig, ax = plt.subplots(figsize=(8, 6))\n",
    "\n",
    "ax.set_title(\"Static and Dynamic prediction against Observed Value\")\n",
    "\n",
    "ax.plot(df.loc[2011:, ['rgdp_fiji']], label=\"RGDP Fiji\")\n",
    "ax.plot(df_dyn_pred[[\"mean\"]].apply(np.exp), label = \"Dynamic\")\n",
    "ax.plot(df_stat_pred[[\"mean\"]].apply(np.exp), label = \"Static\")\n",
    "ax.legend()\n",
    "\n",
    "date_form = DateFormatter(\"%Y\")\n",
    "ax.xaxis.set_major_formatter(date_form)\n",
    "\n",
    "ax.set_xticks([2010, 2011, 2012, 2013])\n",
    "ax.grid(which='major', alpha=0.5);"
   ]
  },
  {
   "cell_type": "markdown",
   "metadata": {},
   "source": [
    "## Session 5\n",
    "\n",
    "I'll remake the predictions because in this lecture they predict only 2012 and 2013 and I want to have exactly the same values."
   ]
  },
  {
   "cell_type": "code",
   "execution_count": 38,
   "metadata": {},
   "outputs": [
    {
     "data": {
      "text/html": [
       "<div>\n",
       "<style scoped>\n",
       "    .dataframe tbody tr th:only-of-type {\n",
       "        vertical-align: middle;\n",
       "    }\n",
       "\n",
       "    .dataframe tbody tr th {\n",
       "        vertical-align: top;\n",
       "    }\n",
       "\n",
       "    .dataframe thead th {\n",
       "        text-align: right;\n",
       "    }\n",
       "</style>\n",
       "<table border=\"1\" class=\"dataframe\">\n",
       "  <thead>\n",
       "    <tr style=\"text-align: right;\">\n",
       "      <th></th>\n",
       "      <th>observed</th>\n",
       "      <th>static</th>\n",
       "      <th>dynamic</th>\n",
       "    </tr>\n",
       "    <tr>\n",
       "      <th>Date</th>\n",
       "      <th></th>\n",
       "      <th></th>\n",
       "      <th></th>\n",
       "    </tr>\n",
       "  </thead>\n",
       "  <tbody>\n",
       "    <tr>\n",
       "      <th>2012.0</th>\n",
       "      <td>5.0231</td>\n",
       "      <td>5.073000</td>\n",
       "      <td>5.073000</td>\n",
       "    </tr>\n",
       "    <tr>\n",
       "      <th>2013.0</th>\n",
       "      <td>5.2563</td>\n",
       "      <td>5.146074</td>\n",
       "      <td>5.152161</td>\n",
       "    </tr>\n",
       "  </tbody>\n",
       "</table>\n",
       "</div>"
      ],
      "text/plain": [
       "        observed    static   dynamic\n",
       "Date                                \n",
       "2012.0    5.0231  5.073000  5.073000\n",
       "2013.0    5.2563  5.146074  5.152161"
      ]
     },
     "execution_count": 38,
     "metadata": {},
     "output_type": "execute_result"
    }
   ],
   "source": [
    "# Prediction:\n",
    "results = sm.OLS(train['log_rgdp_fiji'], X_train).fit()\n",
    "predictions = results.get_prediction(X_test[2012:])\n",
    "df_stat_pred = predictions.summary_frame(alpha=0.05)\n",
    "df_stat_pred\n",
    "df_dyn_pred = dynamic_pred(results, X_test[2012:], \"log_lag_rgdp_fiji\")\n",
    "df_dyn_pred\n",
    "\n",
    "\n",
    "# Compare with Session 4, Part 2 video at 10:10 to check that values match precisely.\n",
    "df_preds = pd.DataFrame({\n",
    "    'observed': test.loc[2012:, 'rgdp_fiji'].values,\n",
    "    \"static\": df_stat_pred['mean'].values,\n",
    "    'dynamic': df_dyn_pred['mean'].values,}).set_index(df_stat_pred.index)\n",
    "\n",
    "(\n",
    "    df_preds\n",
    "    .pipe(lambda x: x.assign(\n",
    "        **{f'{col.name}': np.exp(col) for col in [x.static, x.dynamic]}\n",
    "    ))\n",
    ")"
   ]
  },
  {
   "cell_type": "markdown",
   "metadata": {},
   "source": [
    "Here, they use the model solvers in EViews to calculate a stochastic forecast based on bootstrapping the residuals. Since it is not clear what EViews is making when it calls bootstrapping methods, I'm going to use the method of bootstrapped residuals (as explained in section 4.3 here: http://time-series.net/yahoo_site_admin/assets/docs/SupplementaryManual_all.117125921.pdf). Since our Breusch-Godfrey statistic indicates no evidence of autocorrelation in the residuals, it is ok to do the simplest method.\n",
    "\n",
    "I'm using the `stochastic_forecast()` function defined in `utils_statsmodels`. Note that my bootstrapping technique is more confident than EViews (probably because I didn't incorporate coefficient uncertainty). If I bootstrap the residuals but take use `statsmodels` to get the predictions incorporating coefficient uncertainty, then the model becomes more conservative than EViews. That's also a significant performance loss, with the alternative stochastic forecast function `stochastic_forecast2()` taking 13 seconds to bootstrap 10000 obs while `stochastic_forecast()` takes only 2 seconds."
   ]
  },
  {
   "cell_type": "code",
   "execution_count": 39,
   "metadata": {},
   "outputs": [
    {
     "data": {
      "text/html": [
       "<div>\n",
       "<style scoped>\n",
       "    .dataframe tbody tr th:only-of-type {\n",
       "        vertical-align: middle;\n",
       "    }\n",
       "\n",
       "    .dataframe tbody tr th {\n",
       "        vertical-align: top;\n",
       "    }\n",
       "\n",
       "    .dataframe thead th {\n",
       "        text-align: right;\n",
       "    }\n",
       "</style>\n",
       "<table border=\"1\" class=\"dataframe\">\n",
       "  <thead>\n",
       "    <tr style=\"text-align: right;\">\n",
       "      <th></th>\n",
       "      <th>mean</th>\n",
       "      <th>lower</th>\n",
       "      <th>upper</th>\n",
       "    </tr>\n",
       "    <tr>\n",
       "      <th>Date</th>\n",
       "      <th></th>\n",
       "      <th></th>\n",
       "      <th></th>\n",
       "    </tr>\n",
       "  </thead>\n",
       "  <tbody>\n",
       "    <tr>\n",
       "      <th>2012.0</th>\n",
       "      <td>5.071104</td>\n",
       "      <td>4.925632</td>\n",
       "      <td>5.220873</td>\n",
       "    </tr>\n",
       "    <tr>\n",
       "      <th>2013.0</th>\n",
       "      <td>5.144671</td>\n",
       "      <td>4.999820</td>\n",
       "      <td>5.293718</td>\n",
       "    </tr>\n",
       "  </tbody>\n",
       "</table>\n",
       "</div>"
      ],
      "text/plain": [
       "            mean     lower     upper\n",
       "Date                                \n",
       "2012.0  5.071104  4.925632  5.220873\n",
       "2013.0  5.144671  4.999820  5.293718"
      ]
     },
     "execution_count": 39,
     "metadata": {},
     "output_type": "execute_result"
    }
   ],
   "source": [
    "from utils_statsmodels import stochastic_forecast, stochastic_forecast2\n",
    "\n",
    "dfb = stochastic_forecast2(results, X_train, X_test[2012:], ci=.1, simulations=1000)\n",
    "dfb_levels = dfb.apply(np.exp)\n",
    "dfb_levels"
   ]
  },
  {
   "cell_type": "code",
   "execution_count": 65,
   "metadata": {},
   "outputs": [
    {
     "data": {
      "image/png": "[encoded data removed]",
      "text/plain": [
       "<Figure size 720x576 with 1 Axes>"
      ]
     },
     "metadata": {
      "needs_background": "light"
     },
     "output_type": "display_data"
    }
   ],
   "source": [
    "fig, ax = plt.subplots(figsize=(10, 8))\n",
    "\n",
    "ax.plot(df[\"rgdp_fiji\"][2004:])\n",
    "\n",
    "ax.plot(dfb_levels['mean'])\n",
    "\n",
    "ax.fill_between(dfb.index, dfb_levels['lower'], dfb_levels['upper'], color='k', alpha=0.1)\n",
    "\n",
    "ax.grid(which='major', alpha=0.5);"
   ]
  },
  {
   "cell_type": "markdown",
   "metadata": {},
   "source": [
    "To finish this session, they present an alternative scenario where sugaroutput would be 10% higher in 2011 and 2012. That's actually quite simple to implement with Python and Pandas.\n",
    "\n",
    "First, we create a new variable called `log_sugaroutput_fiji1`, and then we estimate a new model."
   ]
  },
  {
   "cell_type": "code",
   "execution_count": 227,
   "metadata": {},
   "outputs": [],
   "source": [
    "df = (df\n",
    "     .assign(log_sugaroutput_fiji1=lambda x: np.where(\n",
    "         x.index.isin([2011, 2012]), \n",
    "         np.log(x.sugaroutput_fiji * 1.1),\n",
    "         x.log_sugaroutput_fiji\n",
    "     )))"
   ]
  },
  {
   "cell_type": "code",
   "execution_count": 229,
   "metadata": {},
   "outputs": [
    {
     "data": {
      "image/png": "[encoded data removed]",
      "text/plain": [
       "<Figure size 720x576 with 1 Axes>"
      ]
     },
     "metadata": {
      "needs_background": "light"
     },
     "output_type": "display_data"
    }
   ],
   "source": [
    "fig, ax = plt.subplots(figsize=(10, 8))\n",
    "ax.plot(df['log_sugaroutput_fiji'], label=\"True Sugar Output Fiji\")\n",
    "ax.plot(df['log_sugaroutput_fiji1'], label=\"Scenario 1 Sugar Output Fiji\")\n",
    "\n",
    "ax.legend()\n",
    "\n",
    "#ax.fill_between(dfb.index, dfb_levels['lower'], dfb_levels['upper'], color='k', alpha=0.1)\n",
    "\n",
    "ax.grid(which='major', alpha=0.5);"
   ]
  },
  {
   "cell_type": "code",
   "execution_count": 224,
   "metadata": {},
   "outputs": [
    {
     "name": "stderr",
     "output_type": "stream",
     "text": [
      "/home/joao/moocs/time-series/envs/lib/python3.9/site-packages/statsmodels/tsa/tsatools.py:142: FutureWarning: In a future version of pandas all arguments of concat except for the argument 'objs' will be keyword-only\n",
      "  x = pd.concat(x[::order], 1)\n"
     ]
    },
    {
     "data": {
      "text/html": [
       "<div>\n",
       "<style scoped>\n",
       "    .dataframe tbody tr th:only-of-type {\n",
       "        vertical-align: middle;\n",
       "    }\n",
       "\n",
       "    .dataframe tbody tr th {\n",
       "        vertical-align: top;\n",
       "    }\n",
       "\n",
       "    .dataframe thead th {\n",
       "        text-align: right;\n",
       "    }\n",
       "</style>\n",
       "<table border=\"1\" class=\"dataframe\">\n",
       "  <thead>\n",
       "    <tr style=\"text-align: right;\">\n",
       "      <th></th>\n",
       "      <th>mean</th>\n",
       "      <th>mean_se</th>\n",
       "      <th>mean_ci_lower</th>\n",
       "      <th>mean_ci_upper</th>\n",
       "      <th>obs_ci_lower</th>\n",
       "      <th>obs_ci_upper</th>\n",
       "    </tr>\n",
       "    <tr>\n",
       "      <th>Date</th>\n",
       "      <th></th>\n",
       "      <th></th>\n",
       "      <th></th>\n",
       "      <th></th>\n",
       "      <th></th>\n",
       "      <th></th>\n",
       "    </tr>\n",
       "  </thead>\n",
       "  <tbody>\n",
       "    <tr>\n",
       "      <th>2012.0</th>\n",
       "      <td>1.618853</td>\n",
       "      <td>0.013146</td>\n",
       "      <td>1.590986</td>\n",
       "      <td>1.646721</td>\n",
       "      <td>1.576171</td>\n",
       "      <td>1.661535</td>\n",
       "    </tr>\n",
       "    <tr>\n",
       "      <th>2013.0</th>\n",
       "      <td>1.633760</td>\n",
       "      <td>0.012193</td>\n",
       "      <td>1.607912</td>\n",
       "      <td>1.659608</td>\n",
       "      <td>1.592368</td>\n",
       "      <td>1.675152</td>\n",
       "    </tr>\n",
       "  </tbody>\n",
       "</table>\n",
       "</div>"
      ],
      "text/plain": [
       "            mean   mean_se  mean_ci_lower  mean_ci_upper  obs_ci_lower  \\\n",
       "Date                                                                     \n",
       "2012.0  1.618853  0.013146       1.590986       1.646721      1.576171   \n",
       "2013.0  1.633760  0.012193       1.607912       1.659608      1.592368   \n",
       "\n",
       "        obs_ci_upper  \n",
       "Date                  \n",
       "2012.0      1.661535  \n",
       "2013.0      1.675152  "
      ]
     },
     "execution_count": 224,
     "metadata": {},
     "output_type": "execute_result"
    }
   ],
   "source": [
    "# Prediction:\n",
    "X_train_sc1 = df.loc[:2011, ['log_rgdp_aus', 'log_lag_rgdp_aus', 'log_lag_rgdp_fiji', 'log_sugaroutput_fiji1', 'gfc']]\n",
    "X_train_sc1 = sm.add_constant(X_train_sc1)\n",
    "X_test_sc1 = df.loc[2012:, ['log_rgdp_aus', 'log_lag_rgdp_aus', 'log_lag_rgdp_fiji', 'log_sugaroutput_fiji1', 'gfc']]\n",
    "X_test_sc1 = sm.add_constant(X_test_sc1)\n",
    "results_sc1 = sm.OLS(train['log_rgdp_fiji'], X_train_sc1).fit()\n",
    "predictions_sc1 = results_sc1.get_prediction(X_test_sc1[2012:])\n",
    "df_stat_pred_sc1 = predictions_sc1.summary_frame(alpha=0.05)\n",
    "df_stat_pred_sc1\n",
    "df_dyn_pred_sc1 = dynamic_pred(results_sc1, X_test_sc1[2012:], \"log_lag_rgdp_fiji\")\n",
    "df_dyn_pred_sc1"
   ]
  },
  {
   "cell_type": "code",
   "execution_count": 225,
   "metadata": {},
   "outputs": [
    {
     "data": {
      "image/png": "[encoded data removed]",
      "text/plain": [
       "<Figure size 720x576 with 1 Axes>"
      ]
     },
     "metadata": {
      "needs_background": "light"
     },
     "output_type": "display_data"
    }
   ],
   "source": [
    "fig, ax = plt.subplots(figsize=(10, 8))\n",
    "\n",
    "ax.plot(df_stat_pred['mean'])\n",
    "\n",
    "ax.plot(df_stat_pred_sc1['mean'])\n",
    "\n",
    "#ax.fill_between(dfb.index, dfb_levels['lower'], dfb_levels['upper'], color='k', alpha=0.1)\n",
    "\n",
    "ax.grid(which='major', alpha=0.5);"
   ]
  },
  {
   "cell_type": "markdown",
   "metadata": {},
   "source": [
    "## Questions\n",
    "\n",
    "### Session 1\n",
    "\n",
    "#### Question 2.5\n",
    "\n",
    "We start by loading the data:"
   ]
  },
  {
   "cell_type": "code",
   "execution_count": 209,
   "metadata": {},
   "outputs": [
    {
     "data": {
      "text/html": [
       "<div>\n",
       "<style scoped>\n",
       "    .dataframe tbody tr th:only-of-type {\n",
       "        vertical-align: middle;\n",
       "    }\n",
       "\n",
       "    .dataframe tbody tr th {\n",
       "        vertical-align: top;\n",
       "    }\n",
       "\n",
       "    .dataframe thead th {\n",
       "        text-align: right;\n",
       "    }\n",
       "</style>\n",
       "<table border=\"1\" class=\"dataframe\">\n",
       "  <thead>\n",
       "    <tr style=\"text-align: right;\">\n",
       "      <th></th>\n",
       "      <th>jam_cpi_eop</th>\n",
       "      <th>bah_cpi_eop</th>\n",
       "    </tr>\n",
       "  </thead>\n",
       "  <tbody>\n",
       "    <tr>\n",
       "      <th>1980-01-01</th>\n",
       "      <td>3.038</td>\n",
       "      <td>38.714</td>\n",
       "    </tr>\n",
       "    <tr>\n",
       "      <th>1981-01-01</th>\n",
       "      <td>3.183</td>\n",
       "      <td>42.193</td>\n",
       "    </tr>\n",
       "    <tr>\n",
       "      <th>1982-01-01</th>\n",
       "      <td>3.406</td>\n",
       "      <td>44.115</td>\n",
       "    </tr>\n",
       "    <tr>\n",
       "      <th>1983-01-01</th>\n",
       "      <td>3.974</td>\n",
       "      <td>45.653</td>\n",
       "    </tr>\n",
       "    <tr>\n",
       "      <th>1984-01-01</th>\n",
       "      <td>5.212</td>\n",
       "      <td>47.748</td>\n",
       "    </tr>\n",
       "  </tbody>\n",
       "</table>\n",
       "</div>"
      ],
      "text/plain": [
       "            jam_cpi_eop  bah_cpi_eop\n",
       "1980-01-01        3.038       38.714\n",
       "1981-01-01        3.183       42.193\n",
       "1982-01-01        3.406       44.115\n",
       "1983-01-01        3.974       45.653\n",
       "1984-01-01        5.212       47.748"
      ]
     },
     "execution_count": 209,
     "metadata": {},
     "output_type": "execute_result"
    }
   ],
   "source": [
    "# We use skiprows=range(1, 2) to skip the first line in the CSV file (after the header) that contains info about the units\n",
    "df_jam = pd.read_csv(\n",
    "    \"data/Module2_Caribbean_Assessment_File_Jamaica.csv\", \n",
    "    skiprows=range(1,2), index_col=0, parse_dates=True)\n",
    "df_bah = pd.read_csv(\n",
    "    \"data/Module2_Caribbean_Assessment_File_Bahamas.csv\", \n",
    "    skiprows=range(1,2), index_col=0, parse_dates=True)\n",
    "\n",
    "# Join two DataFrames\n",
    "df = df_jam.join(df_bah).loc[:, [\"jam_cpi_eop\", \"bah_cpi_eop\"]]\n",
    "df.head()"
   ]
  },
  {
   "cell_type": "code",
   "execution_count": 96,
   "metadata": {},
   "outputs": [
    {
     "data": {
      "text/html": [
       "<div>\n",
       "<style scoped>\n",
       "    .dataframe tbody tr th:only-of-type {\n",
       "        vertical-align: middle;\n",
       "    }\n",
       "\n",
       "    .dataframe tbody tr th {\n",
       "        vertical-align: top;\n",
       "    }\n",
       "\n",
       "    .dataframe thead th {\n",
       "        text-align: right;\n",
       "    }\n",
       "</style>\n",
       "<table border=\"1\" class=\"dataframe\">\n",
       "  <thead>\n",
       "    <tr style=\"text-align: right;\">\n",
       "      <th></th>\n",
       "      <th>jam_cpi_eop</th>\n",
       "      <th>bah_cpi_eop</th>\n",
       "      <th>dljam_cpi</th>\n",
       "      <th>dlbah_cpi</th>\n",
       "    </tr>\n",
       "  </thead>\n",
       "  <tbody>\n",
       "    <tr>\n",
       "      <th>1981-01-01</th>\n",
       "      <td>3.183</td>\n",
       "      <td>42.193</td>\n",
       "      <td>0.046625</td>\n",
       "      <td>0.086053</td>\n",
       "    </tr>\n",
       "    <tr>\n",
       "      <th>1982-01-01</th>\n",
       "      <td>3.406</td>\n",
       "      <td>44.115</td>\n",
       "      <td>0.067714</td>\n",
       "      <td>0.044546</td>\n",
       "    </tr>\n",
       "    <tr>\n",
       "      <th>1983-01-01</th>\n",
       "      <td>3.974</td>\n",
       "      <td>45.653</td>\n",
       "      <td>0.154235</td>\n",
       "      <td>0.034269</td>\n",
       "    </tr>\n",
       "    <tr>\n",
       "      <th>1984-01-01</th>\n",
       "      <td>5.212</td>\n",
       "      <td>47.748</td>\n",
       "      <td>0.271191</td>\n",
       "      <td>0.044868</td>\n",
       "    </tr>\n",
       "    <tr>\n",
       "      <th>1985-01-01</th>\n",
       "      <td>6.417</td>\n",
       "      <td>50.041</td>\n",
       "      <td>0.207987</td>\n",
       "      <td>0.046905</td>\n",
       "    </tr>\n",
       "  </tbody>\n",
       "</table>\n",
       "</div>"
      ],
      "text/plain": [
       "            jam_cpi_eop  bah_cpi_eop  dljam_cpi  dlbah_cpi\n",
       "1981-01-01        3.183       42.193   0.046625   0.086053\n",
       "1982-01-01        3.406       44.115   0.067714   0.044546\n",
       "1983-01-01        3.974       45.653   0.154235   0.034269\n",
       "1984-01-01        5.212       47.748   0.271191   0.044868\n",
       "1985-01-01        6.417       50.041   0.207987   0.046905"
      ]
     },
     "execution_count": 96,
     "metadata": {},
     "output_type": "execute_result"
    }
   ],
   "source": [
    "# Log-transform the variables and take the differences:\n",
    "df = (df\n",
    " .assign(\n",
    "     dljam_cpi=lambda x: np.log(x.jam_cpi_eop) - np.log(x.jam_cpi_eop.shift(1)),\n",
    "     dlbah_cpi=lambda x: np.log(x.bah_cpi_eop) - np.log(x.bah_cpi_eop.shift(1)),\n",
    "     )\n",
    " .dropna()\n",
    ")\n",
    "df.head()"
   ]
  },
  {
   "cell_type": "code",
   "execution_count": null,
   "metadata": {},
   "outputs": [],
   "source": [
    "# A more advanced usage of pandas (similar to dplyr's mutate ... across):\n",
    "# df = (df\n",
    "#  .pipe(lambda x: x.assign(**{f'l{col.name}': np.log(col) for col in [x.jam_cpi_eop, x.bah_cpi_eop]}))\n",
    "#  .pipe(lambda x: x.assign(**{f'd{col.name}': col - col.shift(1) for col in [x.ljam_cpi_eop, x.lbah_cpi_eop]}))\n",
    "# )"
   ]
  },
  {
   "cell_type": "code",
   "execution_count": 98,
   "metadata": {},
   "outputs": [
    {
     "name": "stderr",
     "output_type": "stream",
     "text": [
      "/home/joao/moocs/time-series/envs/lib/python3.9/site-packages/statsmodels/tsa/tsatools.py:142: FutureWarning: In a future version of pandas all arguments of concat except for the argument 'objs' will be keyword-only\n",
      "  x = pd.concat(x[::order], 1)\n"
     ]
    },
    {
     "data": {
      "text/html": [
       "<table class=\"simpletable\">\n",
       "<caption>OLS Regression Results</caption>\n",
       "<tr>\n",
       "  <th>Dep. Variable:</th>        <td>dlbah_cpi</td>    <th>  R-squared:         </th> <td>   0.104</td>\n",
       "</tr>\n",
       "<tr>\n",
       "  <th>Model:</th>                   <td>OLS</td>       <th>  Adj. R-squared:    </th> <td>   0.076</td>\n",
       "</tr>\n",
       "<tr>\n",
       "  <th>Method:</th>             <td>Least Squares</td>  <th>  F-statistic:       </th> <td>   3.699</td>\n",
       "</tr>\n",
       "<tr>\n",
       "  <th>Date:</th>             <td>Thu, 14 Oct 2021</td> <th>  Prob (F-statistic):</th>  <td>0.0634</td> \n",
       "</tr>\n",
       "<tr>\n",
       "  <th>Time:</th>                 <td>12:42:48</td>     <th>  Log-Likelihood:    </th> <td>  87.601</td>\n",
       "</tr>\n",
       "<tr>\n",
       "  <th>No. Observations:</th>      <td>    34</td>      <th>  AIC:               </th> <td>  -171.2</td>\n",
       "</tr>\n",
       "<tr>\n",
       "  <th>Df Residuals:</th>          <td>    32</td>      <th>  BIC:               </th> <td>  -168.1</td>\n",
       "</tr>\n",
       "<tr>\n",
       "  <th>Df Model:</th>              <td>     1</td>      <th>                     </th>     <td> </td>   \n",
       "</tr>\n",
       "<tr>\n",
       "  <th>Covariance Type:</th>      <td>nonrobust</td>    <th>                     </th>     <td> </td>   \n",
       "</tr>\n",
       "</table>\n",
       "<table class=\"simpletable\">\n",
       "<tr>\n",
       "      <td></td>         <th>coef</th>     <th>std err</th>      <th>t</th>      <th>P>|t|</th>  <th>[0.025</th>    <th>0.975]</th>  \n",
       "</tr>\n",
       "<tr>\n",
       "  <th>const</th>     <td>    0.0217</td> <td>    0.005</td> <td>    3.972</td> <td> 0.000</td> <td>    0.011</td> <td>    0.033</td>\n",
       "</tr>\n",
       "<tr>\n",
       "  <th>dljam_cpi</th> <td>    0.0583</td> <td>    0.030</td> <td>    1.923</td> <td> 0.063</td> <td>   -0.003</td> <td>    0.120</td>\n",
       "</tr>\n",
       "</table>\n",
       "<table class=\"simpletable\">\n",
       "<tr>\n",
       "  <th>Omnibus:</th>       <td>14.678</td> <th>  Durbin-Watson:     </th> <td>   0.614</td>\n",
       "</tr>\n",
       "<tr>\n",
       "  <th>Prob(Omnibus):</th> <td> 0.001</td> <th>  Jarque-Bera (JB):  </th> <td>  15.630</td>\n",
       "</tr>\n",
       "<tr>\n",
       "  <th>Skew:</th>          <td> 1.368</td> <th>  Prob(JB):          </th> <td>0.000404</td>\n",
       "</tr>\n",
       "<tr>\n",
       "  <th>Kurtosis:</th>      <td> 4.883</td> <th>  Cond. No.          </th> <td>    9.52</td>\n",
       "</tr>\n",
       "</table><br/><br/>Notes:<br/>[1] Standard Errors assume that the covariance matrix of the errors is correctly specified."
      ],
      "text/plain": [
       "<class 'statsmodels.iolib.summary.Summary'>\n",
       "\"\"\"\n",
       "                            OLS Regression Results                            \n",
       "==============================================================================\n",
       "Dep. Variable:              dlbah_cpi   R-squared:                       0.104\n",
       "Model:                            OLS   Adj. R-squared:                  0.076\n",
       "Method:                 Least Squares   F-statistic:                     3.699\n",
       "Date:                Thu, 14 Oct 2021   Prob (F-statistic):             0.0634\n",
       "Time:                        12:42:48   Log-Likelihood:                 87.601\n",
       "No. Observations:                  34   AIC:                            -171.2\n",
       "Df Residuals:                      32   BIC:                            -168.1\n",
       "Df Model:                           1                                         \n",
       "Covariance Type:            nonrobust                                         \n",
       "==============================================================================\n",
       "                 coef    std err          t      P>|t|      [0.025      0.975]\n",
       "------------------------------------------------------------------------------\n",
       "const          0.0217      0.005      3.972      0.000       0.011       0.033\n",
       "dljam_cpi      0.0583      0.030      1.923      0.063      -0.003       0.120\n",
       "==============================================================================\n",
       "Omnibus:                       14.678   Durbin-Watson:                   0.614\n",
       "Prob(Omnibus):                  0.001   Jarque-Bera (JB):               15.630\n",
       "Skew:                           1.368   Prob(JB):                     0.000404\n",
       "Kurtosis:                       4.883   Cond. No.                         9.52\n",
       "==============================================================================\n",
       "\n",
       "Notes:\n",
       "[1] Standard Errors assume that the covariance matrix of the errors is correctly specified.\n",
       "\"\"\""
      ]
     },
     "execution_count": 98,
     "metadata": {},
     "output_type": "execute_result"
    }
   ],
   "source": [
    "X = df[\"dljam_cpi\"]\n",
    "X = sm.add_constant(X)\n",
    "y = df[\"dlbah_cpi\"]\n",
    "model = sm.OLS(y, X)\n",
    "results = model.fit()\n",
    "results.summary()"
   ]
  },
  {
   "cell_type": "markdown",
   "metadata": {},
   "source": [
    "### Session 2\n",
    "\n",
    "#### Question 2.6 "
   ]
  },
  {
   "cell_type": "markdown",
   "metadata": {},
   "source": [
    "Which year did the inflation in Jamaica reach its highest value for the series?\n",
    "\n",
    "Note that I'm taking advantage of the fact here that log-differences are approximately the same as percentage differences."
   ]
  },
  {
   "cell_type": "code",
   "execution_count": 102,
   "metadata": {},
   "outputs": [
    {
     "data": {
      "text/html": [
       "<div>\n",
       "<style scoped>\n",
       "    .dataframe tbody tr th:only-of-type {\n",
       "        vertical-align: middle;\n",
       "    }\n",
       "\n",
       "    .dataframe tbody tr th {\n",
       "        vertical-align: top;\n",
       "    }\n",
       "\n",
       "    .dataframe thead th {\n",
       "        text-align: right;\n",
       "    }\n",
       "</style>\n",
       "<table border=\"1\" class=\"dataframe\">\n",
       "  <thead>\n",
       "    <tr style=\"text-align: right;\">\n",
       "      <th></th>\n",
       "      <th>jam_cpi_eop</th>\n",
       "      <th>bah_cpi_eop</th>\n",
       "      <th>dljam_cpi</th>\n",
       "      <th>dlbah_cpi</th>\n",
       "    </tr>\n",
       "  </thead>\n",
       "  <tbody>\n",
       "    <tr>\n",
       "      <th>1991-01-01</th>\n",
       "      <td>22.906</td>\n",
       "      <td>69.456</td>\n",
       "      <td>0.588852</td>\n",
       "      <td>0.06213</td>\n",
       "    </tr>\n",
       "  </tbody>\n",
       "</table>\n",
       "</div>"
      ],
      "text/plain": [
       "            jam_cpi_eop  bah_cpi_eop  dljam_cpi  dlbah_cpi\n",
       "1991-01-01       22.906       69.456   0.588852    0.06213"
      ]
     },
     "execution_count": 102,
     "metadata": {},
     "output_type": "execute_result"
    }
   ],
   "source": [
    "df.query('dljam_cpi == dljam_cpi.max()')"
   ]
  },
  {
   "cell_type": "markdown",
   "metadata": {},
   "source": [
    "To make sure that this is the correct answer, we can check the inflation rates in 2014 and 2006."
   ]
  },
  {
   "cell_type": "code",
   "execution_count": 103,
   "metadata": {},
   "outputs": [
    {
     "data": {
      "text/plain": [
       "1991-01-01    0.588852\n",
       "2014-01-01    0.077885\n",
       "2006-01-01    0.053476\n",
       "Name: dljam_cpi, dtype: float64"
      ]
     },
     "execution_count": 103,
     "metadata": {},
     "output_type": "execute_result"
    }
   ],
   "source": [
    "df.loc[[\"1991-01-01\", \"2014-01-01\", \"2006-01-01\"], 'dljam_cpi']"
   ]
  },
  {
   "cell_type": "markdown",
   "metadata": {},
   "source": [
    "#### Question 2.7\n",
    "\n",
    "First, we need to load and clean the Atlantis data:"
   ]
  },
  {
   "cell_type": "code",
   "execution_count": 230,
   "metadata": {},
   "outputs": [
    {
     "data": {
      "text/html": [
       "<div>\n",
       "<style scoped>\n",
       "    .dataframe tbody tr th:only-of-type {\n",
       "        vertical-align: middle;\n",
       "    }\n",
       "\n",
       "    .dataframe tbody tr th {\n",
       "        vertical-align: top;\n",
       "    }\n",
       "\n",
       "    .dataframe thead th {\n",
       "        text-align: right;\n",
       "    }\n",
       "</style>\n",
       "<table border=\"1\" class=\"dataframe\">\n",
       "  <thead>\n",
       "    <tr style=\"text-align: right;\">\n",
       "      <th></th>\n",
       "      <th>atl_infl</th>\n",
       "      <th>atl_unemp_rate</th>\n",
       "    </tr>\n",
       "  </thead>\n",
       "  <tbody>\n",
       "    <tr>\n",
       "      <th>1991-01-01</th>\n",
       "      <td>5.551944</td>\n",
       "      <td>9.237</td>\n",
       "    </tr>\n",
       "    <tr>\n",
       "      <th>1992-01-01</th>\n",
       "      <td>4.311944</td>\n",
       "      <td>9.537</td>\n",
       "    </tr>\n",
       "    <tr>\n",
       "      <th>1993-01-01</th>\n",
       "      <td>3.738611</td>\n",
       "      <td>9.337</td>\n",
       "    </tr>\n",
       "    <tr>\n",
       "      <th>1994-01-01</th>\n",
       "      <td>9.065277</td>\n",
       "      <td>7.387</td>\n",
       "    </tr>\n",
       "    <tr>\n",
       "      <th>1995-01-01</th>\n",
       "      <td>6.511944</td>\n",
       "      <td>7.287</td>\n",
       "    </tr>\n",
       "  </tbody>\n",
       "</table>\n",
       "</div>"
      ],
      "text/plain": [
       "            atl_infl  atl_unemp_rate\n",
       "1991-01-01  5.551944           9.237\n",
       "1992-01-01  4.311944           9.537\n",
       "1993-01-01  3.738611           9.337\n",
       "1994-01-01  9.065277           7.387\n",
       "1995-01-01  6.511944           7.287"
      ]
     },
     "execution_count": 230,
     "metadata": {},
     "output_type": "execute_result"
    }
   ],
   "source": [
    "df = pd.read_csv(\"data/Module2_Caribbean_Assessment_File_Atlantis.csv\", index_col=0, skiprows=range(1, 2), parse_dates=True)\n",
    "df = df.loc[:, [\"atl_infl\", \"atl_unemp_rate\"]].dropna()\n",
    "df.head()"
   ]
  },
  {
   "cell_type": "code",
   "execution_count": 231,
   "metadata": {},
   "outputs": [
    {
     "name": "stderr",
     "output_type": "stream",
     "text": [
      "/home/joao/moocs/time-series/envs/lib/python3.9/site-packages/statsmodels/tsa/tsatools.py:142: FutureWarning: In a future version of pandas all arguments of concat except for the argument 'objs' will be keyword-only\n",
      "  x = pd.concat(x[::order], 1)\n"
     ]
    },
    {
     "data": {
      "text/plain": [
       "const             11.859023\n",
       "atl_unemp_rate    -0.691685\n",
       "dtype: float64"
      ]
     },
     "execution_count": 231,
     "metadata": {},
     "output_type": "execute_result"
    }
   ],
   "source": [
    "X = df.atl_unemp_rate\n",
    "X = sm.add_constant(X)\n",
    "y = df.atl_infl\n",
    "model = sm.OLS(y, X)\n",
    "results = model.fit()\n",
    "results.params"
   ]
  },
  {
   "cell_type": "markdown",
   "metadata": {},
   "source": [
    "### Session 3\n",
    "\n",
    "#### Question 2.9\n",
    "\n",
    "Add lag of unemployment rate as another independent variable:"
   ]
  },
  {
   "cell_type": "code",
   "execution_count": 232,
   "metadata": {},
   "outputs": [],
   "source": [
    "df = (\n",
    "    df\n",
    "    .assign(\n",
    "        lag_infl=df.atl_infl.shift(1),\n",
    "        lag_unemp=df.atl_unemp_rate.shift(1)\n",
    "    )\n",
    "    .dropna()\n",
    ")"
   ]
  },
  {
   "cell_type": "code",
   "execution_count": 233,
   "metadata": {},
   "outputs": [
    {
     "data": {
      "text/html": [
       "<table class=\"simpletable\">\n",
       "<caption>OLS Regression Results</caption>\n",
       "<tr>\n",
       "  <th>Dep. Variable:</th>        <td>atl_infl</td>     <th>  R-squared:         </th> <td>   0.402</td>\n",
       "</tr>\n",
       "<tr>\n",
       "  <th>Model:</th>                   <td>OLS</td>       <th>  Adj. R-squared:    </th> <td>   0.342</td>\n",
       "</tr>\n",
       "<tr>\n",
       "  <th>Method:</th>             <td>Least Squares</td>  <th>  F-statistic:       </th> <td>   6.720</td>\n",
       "</tr>\n",
       "<tr>\n",
       "  <th>Date:</th>             <td>Sun, 17 Oct 2021</td> <th>  Prob (F-statistic):</th>  <td>0.00586</td>\n",
       "</tr>\n",
       "<tr>\n",
       "  <th>Time:</th>                 <td>15:14:53</td>     <th>  Log-Likelihood:    </th> <td> -41.569</td>\n",
       "</tr>\n",
       "<tr>\n",
       "  <th>No. Observations:</th>      <td>    23</td>      <th>  AIC:               </th> <td>   89.14</td>\n",
       "</tr>\n",
       "<tr>\n",
       "  <th>Df Residuals:</th>          <td>    20</td>      <th>  BIC:               </th> <td>   92.54</td>\n",
       "</tr>\n",
       "<tr>\n",
       "  <th>Df Model:</th>              <td>     2</td>      <th>                     </th>     <td> </td>   \n",
       "</tr>\n",
       "<tr>\n",
       "  <th>Covariance Type:</th>      <td>nonrobust</td>    <th>                     </th>     <td> </td>   \n",
       "</tr>\n",
       "</table>\n",
       "<table class=\"simpletable\">\n",
       "<tr>\n",
       "         <td></td>           <th>coef</th>     <th>std err</th>      <th>t</th>      <th>P>|t|</th>  <th>[0.025</th>    <th>0.975]</th>  \n",
       "</tr>\n",
       "<tr>\n",
       "  <th>Intercept</th>      <td>   11.2305</td> <td>    1.883</td> <td>    5.963</td> <td> 0.000</td> <td>    7.302</td> <td>   15.159</td>\n",
       "</tr>\n",
       "<tr>\n",
       "  <th>atl_unemp_rate</th> <td>   -1.9563</td> <td>    0.548</td> <td>   -3.572</td> <td> 0.002</td> <td>   -3.099</td> <td>   -0.814</td>\n",
       "</tr>\n",
       "<tr>\n",
       "  <th>lag_unemp</th>      <td>    1.3338</td> <td>    0.501</td> <td>    2.663</td> <td> 0.015</td> <td>    0.289</td> <td>    2.379</td>\n",
       "</tr>\n",
       "</table>\n",
       "<table class=\"simpletable\">\n",
       "<tr>\n",
       "  <th>Omnibus:</th>       <td> 0.252</td> <th>  Durbin-Watson:     </th> <td>   1.950</td>\n",
       "</tr>\n",
       "<tr>\n",
       "  <th>Prob(Omnibus):</th> <td> 0.882</td> <th>  Jarque-Bera (JB):  </th> <td>   0.440</td>\n",
       "</tr>\n",
       "<tr>\n",
       "  <th>Skew:</th>          <td> 0.130</td> <th>  Prob(JB):          </th> <td>   0.803</td>\n",
       "</tr>\n",
       "<tr>\n",
       "  <th>Kurtosis:</th>      <td> 2.374</td> <th>  Cond. No.          </th> <td>    55.6</td>\n",
       "</tr>\n",
       "</table><br/><br/>Notes:<br/>[1] Standard Errors assume that the covariance matrix of the errors is correctly specified."
      ],
      "text/plain": [
       "<class 'statsmodels.iolib.summary.Summary'>\n",
       "\"\"\"\n",
       "                            OLS Regression Results                            \n",
       "==============================================================================\n",
       "Dep. Variable:               atl_infl   R-squared:                       0.402\n",
       "Model:                            OLS   Adj. R-squared:                  0.342\n",
       "Method:                 Least Squares   F-statistic:                     6.720\n",
       "Date:                Sun, 17 Oct 2021   Prob (F-statistic):            0.00586\n",
       "Time:                        15:14:53   Log-Likelihood:                -41.569\n",
       "No. Observations:                  23   AIC:                             89.14\n",
       "Df Residuals:                      20   BIC:                             92.54\n",
       "Df Model:                           2                                         \n",
       "Covariance Type:            nonrobust                                         \n",
       "==================================================================================\n",
       "                     coef    std err          t      P>|t|      [0.025      0.975]\n",
       "----------------------------------------------------------------------------------\n",
       "Intercept         11.2305      1.883      5.963      0.000       7.302      15.159\n",
       "atl_unemp_rate    -1.9563      0.548     -3.572      0.002      -3.099      -0.814\n",
       "lag_unemp          1.3338      0.501      2.663      0.015       0.289       2.379\n",
       "==============================================================================\n",
       "Omnibus:                        0.252   Durbin-Watson:                   1.950\n",
       "Prob(Omnibus):                  0.882   Jarque-Bera (JB):                0.440\n",
       "Skew:                           0.130   Prob(JB):                        0.803\n",
       "Kurtosis:                       2.374   Cond. No.                         55.6\n",
       "==============================================================================\n",
       "\n",
       "Notes:\n",
       "[1] Standard Errors assume that the covariance matrix of the errors is correctly specified.\n",
       "\"\"\""
      ]
     },
     "execution_count": 233,
     "metadata": {},
     "output_type": "execute_result"
    }
   ],
   "source": [
    "# Using R-style formulas\n",
    "model = smf.ols(\"atl_infl ~ atl_unemp_rate + lag_unemp\", data=df)\n",
    "results = model.fit()\n",
    "results.summary()\n"
   ]
  },
  {
   "cell_type": "markdown",
   "metadata": {},
   "source": [
    "#### Question 2.11\n",
    "\n",
    "Note how Durbin-Watson statistic is < 1.95"
   ]
  },
  {
   "cell_type": "code",
   "execution_count": 234,
   "metadata": {},
   "outputs": [
    {
     "data": {
      "text/html": [
       "<table class=\"simpletable\">\n",
       "<caption>OLS Regression Results</caption>\n",
       "<tr>\n",
       "  <th>Dep. Variable:</th>        <td>atl_infl</td>     <th>  R-squared:         </th> <td>   0.405</td>\n",
       "</tr>\n",
       "<tr>\n",
       "  <th>Model:</th>                   <td>OLS</td>       <th>  Adj. R-squared:    </th> <td>   0.311</td>\n",
       "</tr>\n",
       "<tr>\n",
       "  <th>Method:</th>             <td>Least Squares</td>  <th>  F-statistic:       </th> <td>   4.314</td>\n",
       "</tr>\n",
       "<tr>\n",
       "  <th>Date:</th>             <td>Sun, 17 Oct 2021</td> <th>  Prob (F-statistic):</th>  <td>0.0176</td> \n",
       "</tr>\n",
       "<tr>\n",
       "  <th>Time:</th>                 <td>15:14:54</td>     <th>  Log-Likelihood:    </th> <td> -41.505</td>\n",
       "</tr>\n",
       "<tr>\n",
       "  <th>No. Observations:</th>      <td>    23</td>      <th>  AIC:               </th> <td>   91.01</td>\n",
       "</tr>\n",
       "<tr>\n",
       "  <th>Df Residuals:</th>          <td>    19</td>      <th>  BIC:               </th> <td>   95.55</td>\n",
       "</tr>\n",
       "<tr>\n",
       "  <th>Df Model:</th>              <td>     3</td>      <th>                     </th>     <td> </td>   \n",
       "</tr>\n",
       "<tr>\n",
       "  <th>Covariance Type:</th>      <td>nonrobust</td>    <th>                     </th>     <td> </td>   \n",
       "</tr>\n",
       "</table>\n",
       "<table class=\"simpletable\">\n",
       "<tr>\n",
       "         <td></td>           <th>coef</th>     <th>std err</th>      <th>t</th>      <th>P>|t|</th>  <th>[0.025</th>    <th>0.975]</th>  \n",
       "</tr>\n",
       "<tr>\n",
       "  <th>Intercept</th>      <td>   12.0103</td> <td>    3.080</td> <td>    3.899</td> <td> 0.001</td> <td>    5.563</td> <td>   18.458</td>\n",
       "</tr>\n",
       "<tr>\n",
       "  <th>atl_unemp_rate</th> <td>   -1.9709</td> <td>    0.562</td> <td>   -3.506</td> <td> 0.002</td> <td>   -3.148</td> <td>   -0.794</td>\n",
       "</tr>\n",
       "<tr>\n",
       "  <th>lag_infl</th>       <td>   -0.0650</td> <td>    0.200</td> <td>   -0.324</td> <td> 0.749</td> <td>   -0.484</td> <td>    0.354</td>\n",
       "</tr>\n",
       "<tr>\n",
       "  <th>lag_unemp</th>      <td>    1.3013</td> <td>    0.522</td> <td>    2.492</td> <td> 0.022</td> <td>    0.208</td> <td>    2.394</td>\n",
       "</tr>\n",
       "</table>\n",
       "<table class=\"simpletable\">\n",
       "<tr>\n",
       "  <th>Omnibus:</th>       <td> 0.194</td> <th>  Durbin-Watson:     </th> <td>   1.872</td>\n",
       "</tr>\n",
       "<tr>\n",
       "  <th>Prob(Omnibus):</th> <td> 0.907</td> <th>  Jarque-Bera (JB):  </th> <td>   0.400</td>\n",
       "</tr>\n",
       "<tr>\n",
       "  <th>Skew:</th>          <td> 0.078</td> <th>  Prob(JB):          </th> <td>   0.819</td>\n",
       "</tr>\n",
       "<tr>\n",
       "  <th>Kurtosis:</th>      <td> 2.373</td> <th>  Cond. No.          </th> <td>    110.</td>\n",
       "</tr>\n",
       "</table><br/><br/>Notes:<br/>[1] Standard Errors assume that the covariance matrix of the errors is correctly specified."
      ],
      "text/plain": [
       "<class 'statsmodels.iolib.summary.Summary'>\n",
       "\"\"\"\n",
       "                            OLS Regression Results                            \n",
       "==============================================================================\n",
       "Dep. Variable:               atl_infl   R-squared:                       0.405\n",
       "Model:                            OLS   Adj. R-squared:                  0.311\n",
       "Method:                 Least Squares   F-statistic:                     4.314\n",
       "Date:                Sun, 17 Oct 2021   Prob (F-statistic):             0.0176\n",
       "Time:                        15:14:54   Log-Likelihood:                -41.505\n",
       "No. Observations:                  23   AIC:                             91.01\n",
       "Df Residuals:                      19   BIC:                             95.55\n",
       "Df Model:                           3                                         \n",
       "Covariance Type:            nonrobust                                         \n",
       "==================================================================================\n",
       "                     coef    std err          t      P>|t|      [0.025      0.975]\n",
       "----------------------------------------------------------------------------------\n",
       "Intercept         12.0103      3.080      3.899      0.001       5.563      18.458\n",
       "atl_unemp_rate    -1.9709      0.562     -3.506      0.002      -3.148      -0.794\n",
       "lag_infl          -0.0650      0.200     -0.324      0.749      -0.484       0.354\n",
       "lag_unemp          1.3013      0.522      2.492      0.022       0.208       2.394\n",
       "==============================================================================\n",
       "Omnibus:                        0.194   Durbin-Watson:                   1.872\n",
       "Prob(Omnibus):                  0.907   Jarque-Bera (JB):                0.400\n",
       "Skew:                           0.078   Prob(JB):                        0.819\n",
       "Kurtosis:                       2.373   Cond. No.                         110.\n",
       "==============================================================================\n",
       "\n",
       "Notes:\n",
       "[1] Standard Errors assume that the covariance matrix of the errors is correctly specified.\n",
       "\"\"\""
      ]
     },
     "execution_count": 234,
     "metadata": {},
     "output_type": "execute_result"
    }
   ],
   "source": [
    "# Using R-style formulas\n",
    "model = smf.ols(\"atl_infl ~ atl_unemp_rate + lag_infl + lag_unemp\", data=df)\n",
    "results = model.fit()\n",
    "results.summary()"
   ]
  },
  {
   "cell_type": "markdown",
   "metadata": {},
   "source": [
    "#### Question 2.12\n",
    "\n",
    "Formal Residual Test: Serial Correlation LM Test"
   ]
  },
  {
   "cell_type": "code",
   "execution_count": 235,
   "metadata": {},
   "outputs": [
    {
     "name": "stdout",
     "output_type": "stream",
     "text": [
      "Breusch-Godfrey LM Test: \n",
      "LM test statistic      3.525632\n",
      "LM (Chi-sq) p-value    0.317453\n",
      "F test statistic       0.965545\n",
      "F p-value              0.433092\n",
      "Null hypothesis: No Autocorrelation of any order up to 3 lags.\n",
      "Fail to reject the null hypothesis at the .05 significance level\n",
      "Data has no evidence of autocorrelation.\n"
     ]
    }
   ],
   "source": [
    "# Import helper function defined in local module utils_statsmodels\n",
    "from utils_statsmodels import bglm_test\n",
    "\n",
    "bglm_test(results, 3)"
   ]
  },
  {
   "cell_type": "markdown",
   "metadata": {},
   "source": [
    "### Session 4"
   ]
  },
  {
   "cell_type": "markdown",
   "metadata": {},
   "source": [
    "Atlantis: Out-of-Sample Forecast\n",
    "\n",
    "Using our most recent specification of a Phillips Curve for Atlantis (the one that included unemployment, lagged unemployment, and the lagged dependent variable), let's assess the quality of the model by using it to generate a forecast for inflation for 2012-2014.\n",
    "\n",
    "First, re-estimate your model using 1980-2012 data:\n",
    "\n",
    "(Here it is weird because they use 2012 data to forecast 2012 inflation)"
   ]
  },
  {
   "cell_type": "code",
   "execution_count": 236,
   "metadata": {},
   "outputs": [
    {
     "data": {
      "text/plain": [
       "Intercept         11.560128\n",
       "atl_unemp_rate    -2.063151\n",
       "lag_unemp          1.405890\n",
       "lag_infl          -0.032165\n",
       "dtype: float64"
      ]
     },
     "execution_count": 236,
     "metadata": {},
     "output_type": "execute_result"
    }
   ],
   "source": [
    "train = df.loc[:\"2012-01-01\"]\n",
    "test = df.loc[\"2012-01-01\":]\n",
    "\n",
    "lm = smf.ols(\"atl_infl ~ atl_unemp_rate + lag_unemp + lag_infl\", data=train).fit()\n",
    "lm.params"
   ]
  },
  {
   "cell_type": "markdown",
   "metadata": {},
   "source": [
    "Next, make a dynamic forecast of Atlantic inflation for 3 years ('2012-'2014).\n",
    "\n",
    "We'll use again the custom function `dynamic_pred()` to make the dynamic prediction. In real life, you never run a dynamic model via OLS..."
   ]
  },
  {
   "cell_type": "code",
   "execution_count": 237,
   "metadata": {},
   "outputs": [
    {
     "data": {
      "text/plain": [
       "2012-01-01    6.221351\n",
       "2013-01-01    5.939721\n",
       "2014-01-01    8.096808\n",
       "Name: mean, dtype: float64"
      ]
     },
     "execution_count": 237,
     "metadata": {},
     "output_type": "execute_result"
    }
   ],
   "source": [
    "df_pred = dynamic_pred(lm, test.drop(columns=['atl_infl']), 'lag_infl')\n",
    "y_dyn_pred = df_pred['mean']\n",
    "y_dyn_pred"
   ]
  },
  {
   "cell_type": "markdown",
   "metadata": {},
   "source": [
    "#### Question 2.16\n",
    "\n",
    "What is the RMSE of the predictions?"
   ]
  },
  {
   "cell_type": "code",
   "execution_count": 238,
   "metadata": {},
   "outputs": [
    {
     "data": {
      "text/plain": [
       "1.2491965308780775"
      ]
     },
     "execution_count": 238,
     "metadata": {},
     "output_type": "execute_result"
    }
   ],
   "source": [
    "from statsmodels.tools.eval_measures import rmse\n",
    "\n",
    "rmse(test.atl_infl, y_dyn_pred)"
   ]
  },
  {
   "cell_type": "markdown",
   "metadata": {},
   "source": [
    "#### Question 2.17"
   ]
  },
  {
   "cell_type": "code",
   "execution_count": 239,
   "metadata": {},
   "outputs": [
    {
     "data": {
      "text/html": [
       "<div>\n",
       "<style scoped>\n",
       "    .dataframe tbody tr th:only-of-type {\n",
       "        vertical-align: middle;\n",
       "    }\n",
       "\n",
       "    .dataframe tbody tr th {\n",
       "        vertical-align: top;\n",
       "    }\n",
       "\n",
       "    .dataframe thead th {\n",
       "        text-align: right;\n",
       "    }\n",
       "</style>\n",
       "<table border=\"1\" class=\"dataframe\">\n",
       "  <thead>\n",
       "    <tr style=\"text-align: right;\">\n",
       "      <th></th>\n",
       "      <th>atl_infl</th>\n",
       "      <th>infl_pred</th>\n",
       "    </tr>\n",
       "  </thead>\n",
       "  <tbody>\n",
       "    <tr>\n",
       "      <th>2012-01-01</th>\n",
       "      <td>5.719287</td>\n",
       "      <td>6.221351</td>\n",
       "    </tr>\n",
       "    <tr>\n",
       "      <th>2013-01-01</th>\n",
       "      <td>7.893227</td>\n",
       "      <td>5.939721</td>\n",
       "    </tr>\n",
       "    <tr>\n",
       "      <th>2014-01-01</th>\n",
       "      <td>8.879893</td>\n",
       "      <td>8.096808</td>\n",
       "    </tr>\n",
       "  </tbody>\n",
       "</table>\n",
       "</div>"
      ],
      "text/plain": [
       "            atl_infl  infl_pred\n",
       "2012-01-01  5.719287   6.221351\n",
       "2013-01-01  7.893227   5.939721\n",
       "2014-01-01  8.879893   8.096808"
      ]
     },
     "execution_count": 239,
     "metadata": {},
     "output_type": "execute_result"
    }
   ],
   "source": [
    "pd.DataFrame(test.atl_infl).join(y_dyn_pred).rename(columns={\"mean\":\"infl_pred\"})"
   ]
  },
  {
   "cell_type": "markdown",
   "metadata": {},
   "source": [
    "#### Question 2.18"
   ]
  },
  {
   "cell_type": "markdown",
   "metadata": {},
   "source": [
    "Conduct the same forecasting experiment, except this time using a static method, and compare with the dynamic forecast:"
   ]
  },
  {
   "cell_type": "code",
   "execution_count": 240,
   "metadata": {},
   "outputs": [
    {
     "data": {
      "text/plain": [
       "array([6.22135108, 5.95586967, 8.03397354])"
      ]
     },
     "execution_count": 240,
     "metadata": {},
     "output_type": "execute_result"
    }
   ],
   "source": [
    "static_predictions = lm.get_prediction(test.drop(columns=['atl_infl']))\n",
    "y_stat_pred = static_predictions.predicted_mean\n",
    "y_stat_pred"
   ]
  },
  {
   "cell_type": "code",
   "execution_count": 241,
   "metadata": {},
   "outputs": [
    {
     "data": {
      "text/html": [
       "<div>\n",
       "<style scoped>\n",
       "    .dataframe tbody tr th:only-of-type {\n",
       "        vertical-align: middle;\n",
       "    }\n",
       "\n",
       "    .dataframe tbody tr th {\n",
       "        vertical-align: top;\n",
       "    }\n",
       "\n",
       "    .dataframe thead th {\n",
       "        text-align: right;\n",
       "    }\n",
       "</style>\n",
       "<table border=\"1\" class=\"dataframe\">\n",
       "  <thead>\n",
       "    <tr style=\"text-align: right;\">\n",
       "      <th></th>\n",
       "      <th>observed</th>\n",
       "      <th>static</th>\n",
       "      <th>dynamic</th>\n",
       "    </tr>\n",
       "  </thead>\n",
       "  <tbody>\n",
       "    <tr>\n",
       "      <th>2012-01-01</th>\n",
       "      <td>5.719287</td>\n",
       "      <td>6.221351</td>\n",
       "      <td>6.221351</td>\n",
       "    </tr>\n",
       "    <tr>\n",
       "      <th>2013-01-01</th>\n",
       "      <td>7.893227</td>\n",
       "      <td>5.955870</td>\n",
       "      <td>5.939721</td>\n",
       "    </tr>\n",
       "    <tr>\n",
       "      <th>2014-01-01</th>\n",
       "      <td>8.879893</td>\n",
       "      <td>8.033974</td>\n",
       "      <td>8.096808</td>\n",
       "    </tr>\n",
       "  </tbody>\n",
       "</table>\n",
       "</div>"
      ],
      "text/plain": [
       "            observed    static   dynamic\n",
       "2012-01-01  5.719287  6.221351  6.221351\n",
       "2013-01-01  7.893227  5.955870  5.939721\n",
       "2014-01-01  8.879893  8.033974  8.096808"
      ]
     },
     "execution_count": 241,
     "metadata": {},
     "output_type": "execute_result"
    }
   ],
   "source": [
    "pd.DataFrame({\"observed\": test.atl_infl.values,\n",
    "             \"static\": y_stat_pred, \n",
    "             \"dynamic\": y_dyn_pred.values}).set_index(test.index)"
   ]
  },
  {
   "cell_type": "markdown",
   "metadata": {},
   "source": [
    "create an alternative forecasting scenario which assumes that unemployment in Atlantis is 1 percentage point higher during 2008-2011 than it actually was.\n",
    "\n",
    "To do so, generate a new variable called \"atl_unemp_rate_1\" that reflects the 1 percentage point increase in unemployment during '08-'11."
   ]
  },
  {
   "cell_type": "code",
   "execution_count": 252,
   "metadata": {},
   "outputs": [
    {
     "data": {
      "text/html": [
       "<div>\n",
       "<style scoped>\n",
       "    .dataframe tbody tr th:only-of-type {\n",
       "        vertical-align: middle;\n",
       "    }\n",
       "\n",
       "    .dataframe tbody tr th {\n",
       "        vertical-align: top;\n",
       "    }\n",
       "\n",
       "    .dataframe thead th {\n",
       "        text-align: right;\n",
       "    }\n",
       "</style>\n",
       "<table border=\"1\" class=\"dataframe\">\n",
       "  <thead>\n",
       "    <tr style=\"text-align: right;\">\n",
       "      <th></th>\n",
       "      <th>atl_infl</th>\n",
       "      <th>atl_unemp_rate</th>\n",
       "      <th>lag_infl</th>\n",
       "      <th>lag_unemp</th>\n",
       "      <th>atl_unemp_rate_1</th>\n",
       "    </tr>\n",
       "  </thead>\n",
       "  <tbody>\n",
       "    <tr>\n",
       "      <th>2010-01-01</th>\n",
       "      <td>9.074082</td>\n",
       "      <td>5.001</td>\n",
       "      <td>6.360014</td>\n",
       "      <td>5.310</td>\n",
       "      <td>5.05101</td>\n",
       "    </tr>\n",
       "    <tr>\n",
       "      <th>2011-01-01</th>\n",
       "      <td>5.348331</td>\n",
       "      <td>5.783</td>\n",
       "      <td>9.074082</td>\n",
       "      <td>5.001</td>\n",
       "      <td>5.84083</td>\n",
       "    </tr>\n",
       "    <tr>\n",
       "      <th>2012-01-01</th>\n",
       "      <td>5.719287</td>\n",
       "      <td>6.445</td>\n",
       "      <td>5.348331</td>\n",
       "      <td>5.783</td>\n",
       "      <td>6.44500</td>\n",
       "    </tr>\n",
       "    <tr>\n",
       "      <th>2013-01-01</th>\n",
       "      <td>7.893227</td>\n",
       "      <td>7.019</td>\n",
       "      <td>5.719287</td>\n",
       "      <td>6.445</td>\n",
       "      <td>7.01900</td>\n",
       "    </tr>\n",
       "    <tr>\n",
       "      <th>2014-01-01</th>\n",
       "      <td>8.879893</td>\n",
       "      <td>6.369</td>\n",
       "      <td>7.893227</td>\n",
       "      <td>7.019</td>\n",
       "      <td>6.36900</td>\n",
       "    </tr>\n",
       "  </tbody>\n",
       "</table>\n",
       "</div>"
      ],
      "text/plain": [
       "            atl_infl  atl_unemp_rate  lag_infl  lag_unemp  atl_unemp_rate_1\n",
       "2010-01-01  9.074082           5.001  6.360014      5.310           5.05101\n",
       "2011-01-01  5.348331           5.783  9.074082      5.001           5.84083\n",
       "2012-01-01  5.719287           6.445  5.348331      5.783           6.44500\n",
       "2013-01-01  7.893227           7.019  5.719287      6.445           7.01900\n",
       "2014-01-01  8.879893           6.369  7.893227      7.019           6.36900"
      ]
     },
     "execution_count": 252,
     "metadata": {},
     "output_type": "execute_result"
    }
   ],
   "source": [
    "df = (\n",
    "    df\n",
    "    .assign(atl_unemp_rate_1=lambda x: np.where(\n",
    "        # Condition\n",
    "        x.index.isin(['2008', '2009', '2010', '2011']),\n",
    "        # If Condition is True\n",
    "        x.atl_unemp_rate * 1.01,\n",
    "        # Else\n",
    "        x.atl_unemp_rate\n",
    "    ))\n",
    ")\n",
    "\n",
    "df.tail()"
   ]
  },
  {
   "cell_type": "code",
   "execution_count": 253,
   "metadata": {},
   "outputs": [
    {
     "data": {
      "text/html": [
       "<div>\n",
       "<style scoped>\n",
       "    .dataframe tbody tr th:only-of-type {\n",
       "        vertical-align: middle;\n",
       "    }\n",
       "\n",
       "    .dataframe tbody tr th {\n",
       "        vertical-align: top;\n",
       "    }\n",
       "\n",
       "    .dataframe thead th {\n",
       "        text-align: right;\n",
       "    }\n",
       "</style>\n",
       "<table border=\"1\" class=\"dataframe\">\n",
       "  <thead>\n",
       "    <tr style=\"text-align: right;\">\n",
       "      <th></th>\n",
       "      <th>observed</th>\n",
       "      <th>dynamic</th>\n",
       "      <th>dynamic scenario</th>\n",
       "    </tr>\n",
       "  </thead>\n",
       "  <tbody>\n",
       "    <tr>\n",
       "      <th>2012-01-01</th>\n",
       "      <td>5.719287</td>\n",
       "      <td>6.221351</td>\n",
       "      <td>6.250587</td>\n",
       "    </tr>\n",
       "    <tr>\n",
       "      <th>2013-01-01</th>\n",
       "      <td>7.893227</td>\n",
       "      <td>5.939721</td>\n",
       "      <td>5.956861</td>\n",
       "    </tr>\n",
       "    <tr>\n",
       "      <th>2014-01-01</th>\n",
       "      <td>8.879893</td>\n",
       "      <td>8.096808</td>\n",
       "      <td>8.114566</td>\n",
       "    </tr>\n",
       "  </tbody>\n",
       "</table>\n",
       "</div>"
      ],
      "text/plain": [
       "            observed   dynamic  dynamic scenario\n",
       "2012-01-01  5.719287  6.221351          6.250587\n",
       "2013-01-01  7.893227  5.939721          5.956861\n",
       "2014-01-01  8.879893  8.096808          8.114566"
      ]
     },
     "execution_count": 253,
     "metadata": {},
     "output_type": "execute_result"
    }
   ],
   "source": [
    "train1 = df.loc[:\"2012-01-01\"]\n",
    "test1 = df.loc[\"2012-01-01\":]\n",
    "\n",
    "lm1 = smf.ols(\"atl_infl ~ atl_unemp_rate_1 + lag_unemp + lag_infl\", data=train1).fit()\n",
    "df_pred1 = dynamic_pred(lm1, test1.drop(columns=['atl_infl']), 'lag_infl')\n",
    "y_dyn_pred1 = df_pred1['mean']\n",
    "\n",
    "\n",
    "pd.DataFrame({\"observed\": test.atl_infl.values,\n",
    "             \"dynamic\": y_dyn_pred, \n",
    "             \"dynamic scenario\": y_dyn_pred1.values}).set_index(test.index)"
   ]
  },
  {
   "cell_type": "code",
   "execution_count": null,
   "metadata": {},
   "outputs": [],
   "source": []
  }
 ],
 "metadata": {
  "interpreter": {
   "hash": "b48993466c0fd8c9c82788b53d0ad31dd1d9acfda294ec378f00f2949827417f"
  },
  "kernelspec": {
   "display_name": "Python 3.9.7 64-bit (conda)",
   "name": "python3"
  },
  "language_info": {
   "codemirror_mode": {
    "name": "ipython",
    "version": 3
   },
   "file_extension": ".py",
   "mimetype": "text/x-python",
   "name": "python",
   "nbconvert_exporter": "python",
   "pygments_lexer": "ipython3",
   "version": "3.9.7"
  },
  "orig_nbformat": 4
 },
 "nbformat": 4,
 "nbformat_minor": 2
}
