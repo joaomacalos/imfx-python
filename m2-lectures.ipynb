{
 "cells": [
  {
   "cell_type": "markdown",
   "metadata": {},
   "source": [
    "# Module 2 - Introduction to Forecasting with __Python__"
   ]
  },
  {
   "cell_type": "markdown",
   "metadata": {},
   "source": [
    "## Introduction"
   ]
  },
  {
   "cell_type": "markdown",
   "metadata": {},
   "source": [
    "In the first lecture, a simple linear model of the type\n",
    "\n",
    "\n",
    "$log(F_{gdp}) = c + log(A_{gdp})$\n",
    "\n",
    "is estimated, visualized, and briefly analyzed. Let's see how to do it in Python using `statsmodels`."
   ]
  },
  {
   "cell_type": "code",
   "execution_count": 1,
   "metadata": {},
   "outputs": [],
   "source": [
    "# Import libraries\n",
    "import pandas as pd\n",
    "import numpy as np\n",
    "import matplotlib.pyplot as plt\n",
    "import seaborn as sns\n",
    "# import statsmodels.formula.api as fsm\n",
    "import statsmodels.api as sm"
   ]
  },
  {
   "cell_type": "code",
   "execution_count": 2,
   "metadata": {},
   "outputs": [
    {
     "data": {
      "text/html": [
       "<div>\n",
       "<style scoped>\n",
       "    .dataframe tbody tr th:only-of-type {\n",
       "        vertical-align: middle;\n",
       "    }\n",
       "\n",
       "    .dataframe tbody tr th {\n",
       "        vertical-align: top;\n",
       "    }\n",
       "\n",
       "    .dataframe thead th {\n",
       "        text-align: right;\n",
       "    }\n",
       "</style>\n",
       "<table border=\"1\" class=\"dataframe\">\n",
       "  <thead>\n",
       "    <tr style=\"text-align: right;\">\n",
       "      <th></th>\n",
       "      <th>Date</th>\n",
       "      <th>RGDP_FIJI</th>\n",
       "      <th>G_REAL_GROWTH_FIJI</th>\n",
       "      <th>RGDP_AUS</th>\n",
       "      <th>G_REAL_GROWTH_AUS</th>\n",
       "      <th>REER_FIJI</th>\n",
       "      <th>SUGAROUTPUT_FIJI</th>\n",
       "      <th>G_SUGAR_OUTPUT</th>\n",
       "      <th>SUGAROUTPUT_FIJI_MISSING</th>\n",
       "    </tr>\n",
       "  </thead>\n",
       "  <tbody>\n",
       "    <tr>\n",
       "      <th>0</th>\n",
       "      <td>1970.0</td>\n",
       "      <td>1.6316</td>\n",
       "      <td>NaN</td>\n",
       "      <td>406.2</td>\n",
       "      <td>NaN</td>\n",
       "      <td>NaN</td>\n",
       "      <td>NaN</td>\n",
       "      <td>NaN</td>\n",
       "      <td>NaN</td>\n",
       "    </tr>\n",
       "    <tr>\n",
       "      <th>1</th>\n",
       "      <td>1971.0</td>\n",
       "      <td>1.7436</td>\n",
       "      <td>6.864428</td>\n",
       "      <td>421.7</td>\n",
       "      <td>3.815854</td>\n",
       "      <td>NaN</td>\n",
       "      <td>NaN</td>\n",
       "      <td>NaN</td>\n",
       "      <td>NaN</td>\n",
       "    </tr>\n",
       "    <tr>\n",
       "      <th>2</th>\n",
       "      <td>1972.0</td>\n",
       "      <td>1.8744</td>\n",
       "      <td>7.501721</td>\n",
       "      <td>429.7</td>\n",
       "      <td>1.897083</td>\n",
       "      <td>NaN</td>\n",
       "      <td>NaN</td>\n",
       "      <td>NaN</td>\n",
       "      <td>NaN</td>\n",
       "    </tr>\n",
       "    <tr>\n",
       "      <th>3</th>\n",
       "      <td>1973.0</td>\n",
       "      <td>2.0921</td>\n",
       "      <td>11.614383</td>\n",
       "      <td>451.4</td>\n",
       "      <td>5.050035</td>\n",
       "      <td>NaN</td>\n",
       "      <td>NaN</td>\n",
       "      <td>NaN</td>\n",
       "      <td>NaN</td>\n",
       "    </tr>\n",
       "    <tr>\n",
       "      <th>4</th>\n",
       "      <td>1974.0</td>\n",
       "      <td>2.1453</td>\n",
       "      <td>2.542899</td>\n",
       "      <td>458.0</td>\n",
       "      <td>1.462118</td>\n",
       "      <td>NaN</td>\n",
       "      <td>NaN</td>\n",
       "      <td>NaN</td>\n",
       "      <td>NaN</td>\n",
       "    </tr>\n",
       "  </tbody>\n",
       "</table>\n",
       "</div>"
      ],
      "text/plain": [
       "     Date  RGDP_FIJI  G_REAL_GROWTH_FIJI  RGDP_AUS  G_REAL_GROWTH_AUS  \\\n",
       "0  1970.0     1.6316                 NaN     406.2                NaN   \n",
       "1  1971.0     1.7436            6.864428     421.7           3.815854   \n",
       "2  1972.0     1.8744            7.501721     429.7           1.897083   \n",
       "3  1973.0     2.0921           11.614383     451.4           5.050035   \n",
       "4  1974.0     2.1453            2.542899     458.0           1.462118   \n",
       "\n",
       "   REER_FIJI  SUGAROUTPUT_FIJI  G_SUGAR_OUTPUT  SUGAROUTPUT_FIJI_MISSING  \n",
       "0        NaN               NaN             NaN                       NaN  \n",
       "1        NaN               NaN             NaN                       NaN  \n",
       "2        NaN               NaN             NaN                       NaN  \n",
       "3        NaN               NaN             NaN                       NaN  \n",
       "4        NaN               NaN             NaN                       NaN  "
      ]
     },
     "execution_count": 2,
     "metadata": {},
     "output_type": "execute_result"
    }
   ],
   "source": [
    "df = pd.read_csv(\"data/Module_2_Fiji_fiji.csv\")\n",
    "df.head()"
   ]
  },
  {
   "cell_type": "markdown",
   "metadata": {},
   "source": [
    "Let's do some precleaning to keep only `date`, `rgdp_fiji`, and `rgdp_aus`."
   ]
  },
  {
   "cell_type": "code",
   "execution_count": 3,
   "metadata": {},
   "outputs": [
    {
     "data": {
      "text/html": [
       "<div>\n",
       "<style scoped>\n",
       "    .dataframe tbody tr th:only-of-type {\n",
       "        vertical-align: middle;\n",
       "    }\n",
       "\n",
       "    .dataframe tbody tr th {\n",
       "        vertical-align: top;\n",
       "    }\n",
       "\n",
       "    .dataframe thead th {\n",
       "        text-align: right;\n",
       "    }\n",
       "</style>\n",
       "<table border=\"1\" class=\"dataframe\">\n",
       "  <thead>\n",
       "    <tr style=\"text-align: right;\">\n",
       "      <th></th>\n",
       "      <th>date</th>\n",
       "      <th>rgdp_fiji</th>\n",
       "      <th>rgdp_aus</th>\n",
       "    </tr>\n",
       "  </thead>\n",
       "  <tbody>\n",
       "    <tr>\n",
       "      <th>0</th>\n",
       "      <td>1970.0</td>\n",
       "      <td>1.6316</td>\n",
       "      <td>406.2</td>\n",
       "    </tr>\n",
       "    <tr>\n",
       "      <th>1</th>\n",
       "      <td>1971.0</td>\n",
       "      <td>1.7436</td>\n",
       "      <td>421.7</td>\n",
       "    </tr>\n",
       "    <tr>\n",
       "      <th>2</th>\n",
       "      <td>1972.0</td>\n",
       "      <td>1.8744</td>\n",
       "      <td>429.7</td>\n",
       "    </tr>\n",
       "    <tr>\n",
       "      <th>3</th>\n",
       "      <td>1973.0</td>\n",
       "      <td>2.0921</td>\n",
       "      <td>451.4</td>\n",
       "    </tr>\n",
       "    <tr>\n",
       "      <th>4</th>\n",
       "      <td>1974.0</td>\n",
       "      <td>2.1453</td>\n",
       "      <td>458.0</td>\n",
       "    </tr>\n",
       "  </tbody>\n",
       "</table>\n",
       "</div>"
      ],
      "text/plain": [
       "     date  rgdp_fiji  rgdp_aus\n",
       "0  1970.0     1.6316     406.2\n",
       "1  1971.0     1.7436     421.7\n",
       "2  1972.0     1.8744     429.7\n",
       "3  1973.0     2.0921     451.4\n",
       "4  1974.0     2.1453     458.0"
      ]
     },
     "execution_count": 3,
     "metadata": {},
     "output_type": "execute_result"
    }
   ],
   "source": [
    "df.columns = [x.lower() for x in df.columns]\n",
    "df = df[[\"date\", \"rgdp_fiji\", \"rgdp_aus\"]]\n",
    "df.head()"
   ]
  },
  {
   "cell_type": "code",
   "execution_count": 12,
   "metadata": {},
   "outputs": [],
   "source": [
    "# Transform into logs:\n",
    "df = (df\n",
    "    .assign(\n",
    "        log_rgdp_fiji=np.log(df.rgdp_fiji),\n",
    "        log_rgdp_aus=np.log(df.rgdp_aus)\n",
    "    )\n",
    "    .dropna()\n",
    ")"
   ]
  },
  {
   "cell_type": "code",
   "execution_count": 14,
   "metadata": {},
   "outputs": [
    {
     "data": {
      "text/html": [
       "<table class=\"simpletable\">\n",
       "<caption>OLS Regression Results</caption>\n",
       "<tr>\n",
       "  <th>Dep. Variable:</th>      <td>log_rgdp_fiji</td>  <th>  R-squared:         </th> <td>   0.978</td>\n",
       "</tr>\n",
       "<tr>\n",
       "  <th>Model:</th>                   <td>OLS</td>       <th>  Adj. R-squared:    </th> <td>   0.977</td>\n",
       "</tr>\n",
       "<tr>\n",
       "  <th>Method:</th>             <td>Least Squares</td>  <th>  F-statistic:       </th> <td>   1867.</td>\n",
       "</tr>\n",
       "<tr>\n",
       "  <th>Date:</th>             <td>Thu, 14 Oct 2021</td> <th>  Prob (F-statistic):</th> <td>1.92e-36</td>\n",
       "</tr>\n",
       "<tr>\n",
       "  <th>Time:</th>                 <td>09:04:19</td>     <th>  Log-Likelihood:    </th> <td>  70.269</td>\n",
       "</tr>\n",
       "<tr>\n",
       "  <th>No. Observations:</th>      <td>    44</td>      <th>  AIC:               </th> <td>  -136.5</td>\n",
       "</tr>\n",
       "<tr>\n",
       "  <th>Df Residuals:</th>          <td>    42</td>      <th>  BIC:               </th> <td>  -133.0</td>\n",
       "</tr>\n",
       "<tr>\n",
       "  <th>Df Model:</th>              <td>     1</td>      <th>                     </th>     <td> </td>   \n",
       "</tr>\n",
       "<tr>\n",
       "  <th>Covariance Type:</th>      <td>nonrobust</td>    <th>                     </th>     <td> </td>   \n",
       "</tr>\n",
       "</table>\n",
       "<table class=\"simpletable\">\n",
       "<tr>\n",
       "        <td></td>          <th>coef</th>     <th>std err</th>      <th>t</th>      <th>P>|t|</th>  <th>[0.025</th>    <th>0.975]</th>  \n",
       "</tr>\n",
       "<tr>\n",
       "  <th>const</th>        <td>   -4.1952</td> <td>    0.124</td> <td>  -33.878</td> <td> 0.000</td> <td>   -4.445</td> <td>   -3.945</td>\n",
       "</tr>\n",
       "<tr>\n",
       "  <th>log_rgdp_aus</th> <td>    0.8010</td> <td>    0.019</td> <td>   43.208</td> <td> 0.000</td> <td>    0.764</td> <td>    0.838</td>\n",
       "</tr>\n",
       "</table>\n",
       "<table class=\"simpletable\">\n",
       "<tr>\n",
       "  <th>Omnibus:</th>       <td> 4.947</td> <th>  Durbin-Watson:     </th> <td>   0.687</td>\n",
       "</tr>\n",
       "<tr>\n",
       "  <th>Prob(Omnibus):</th> <td> 0.084</td> <th>  Jarque-Bera (JB):  </th> <td>   4.232</td>\n",
       "</tr>\n",
       "<tr>\n",
       "  <th>Skew:</th>          <td>-0.758</td> <th>  Prob(JB):          </th> <td>   0.121</td>\n",
       "</tr>\n",
       "<tr>\n",
       "  <th>Kurtosis:</th>      <td> 3.105</td> <th>  Cond. No.          </th> <td>    112.</td>\n",
       "</tr>\n",
       "</table><br/><br/>Notes:<br/>[1] Standard Errors assume that the covariance matrix of the errors is correctly specified."
      ],
      "text/plain": [
       "<class 'statsmodels.iolib.summary.Summary'>\n",
       "\"\"\"\n",
       "                            OLS Regression Results                            \n",
       "==============================================================================\n",
       "Dep. Variable:          log_rgdp_fiji   R-squared:                       0.978\n",
       "Model:                            OLS   Adj. R-squared:                  0.977\n",
       "Method:                 Least Squares   F-statistic:                     1867.\n",
       "Date:                Thu, 14 Oct 2021   Prob (F-statistic):           1.92e-36\n",
       "Time:                        09:04:19   Log-Likelihood:                 70.269\n",
       "No. Observations:                  44   AIC:                            -136.5\n",
       "Df Residuals:                      42   BIC:                            -133.0\n",
       "Df Model:                           1                                         \n",
       "Covariance Type:            nonrobust                                         \n",
       "================================================================================\n",
       "                   coef    std err          t      P>|t|      [0.025      0.975]\n",
       "--------------------------------------------------------------------------------\n",
       "const           -4.1952      0.124    -33.878      0.000      -4.445      -3.945\n",
       "log_rgdp_aus     0.8010      0.019     43.208      0.000       0.764       0.838\n",
       "==============================================================================\n",
       "Omnibus:                        4.947   Durbin-Watson:                   0.687\n",
       "Prob(Omnibus):                  0.084   Jarque-Bera (JB):                4.232\n",
       "Skew:                          -0.758   Prob(JB):                        0.121\n",
       "Kurtosis:                       3.105   Cond. No.                         112.\n",
       "==============================================================================\n",
       "\n",
       "Notes:\n",
       "[1] Standard Errors assume that the covariance matrix of the errors is correctly specified.\n",
       "\"\"\""
      ]
     },
     "execution_count": 14,
     "metadata": {},
     "output_type": "execute_result"
    }
   ],
   "source": [
    "X = df.log_rgdp_aus\n",
    "X = sm.add_constant(X)\n",
    "Y = df.log_rgdp_fiji\n",
    "model = sm.OLS(Y, X)\n",
    "results = model.fit()\n",
    "results.summary()"
   ]
  },
  {
   "cell_type": "markdown",
   "metadata": {},
   "source": [
    "To finish with the introduction, let's plot the dependent variable, the predicted values, and the residuals:"
   ]
  },
  {
   "cell_type": "code",
   "execution_count": 31,
   "metadata": {},
   "outputs": [
    {
     "data": {
      "image/png": "[encoded data removed]",
      "text/plain": [
       "<Figure size 720x504 with 2 Axes>"
      ]
     },
     "metadata": {
      "needs_background": "light"
     },
     "output_type": "display_data"
    }
   ],
   "source": [
    "fig, ax = plt.subplots(2, figsize=(10, 7))\n",
    "\n",
    "ax[0].plot(df.date, Y)\n",
    "ax[0].plot(df.date, results.predict(), color=\"r\");\n",
    "\n",
    "ax[1].plot(df.date, results.resid)\n",
    "ax[1].axhline(0, ls='--');\n"
   ]
  },
  {
   "cell_type": "code",
   "execution_count": null,
   "metadata": {},
   "outputs": [],
   "source": []
  }
 ],
 "metadata": {
  "interpreter": {
   "hash": "b48993466c0fd8c9c82788b53d0ad31dd1d9acfda294ec378f00f2949827417f"
  },
  "kernelspec": {
   "display_name": "Python 3.9.7 64-bit",
   "name": "python3"
  },
  "language_info": {
   "codemirror_mode": {
    "name": "ipython",
    "version": 3
   },
   "file_extension": ".py",
   "mimetype": "text/x-python",
   "name": "python",
   "nbconvert_exporter": "python",
   "pygments_lexer": "ipython3",
   "version": "3.9.7"
  },
  "orig_nbformat": 4
 },
 "nbformat": 4,
 "nbformat_minor": 2
}
