{
 "cells": [
  {
   "cell_type": "markdown",
   "metadata": {},
   "source": [
    "# Module 3B: Statistical properties of time series Data - Nonstationarity and Unit Roots"
   ]
  },
  {
   "cell_type": "code",
   "execution_count": 1,
   "metadata": {},
   "outputs": [],
   "source": [
    "import pandas as pd\n",
    "import numpy as np\n",
    "import matplotlib.pyplot as plt\n",
    "from statsmodels.tsa.statespace.sarimax import SARIMAX\n",
    "import statsmodels.formula.api as smf\n",
    "from statsmodels.stats.diagnostic import acorr_ljungbox\n",
    "from statsmodels.tsa.stattools import acf, pacf\n",
    "from statsmodels.graphics.tsaplots import plot_acf, plot_pacf\n",
    "from statsmodels.tsa.statespace.tools import diff\n",
    "from arch.unitroot import ADF, PhillipsPerron, KPSS\n",
    "from pmdarima.arima import auto_arima\n",
    "\n",
    "\n",
    "from utils_statsmodels import adf_test, bglm_test, aic_eviews, bic_eviews, aic_lectures, bic_lectures"
   ]
  },
  {
   "cell_type": "markdown",
   "metadata": {},
   "source": [
    "## Identifying Non-Stationarity\n",
    "\n",
    "Before starting with the exercises, let's tackle the optional idea of exploring the random disturbances provided in the lectures and generating non-stationary series:"
   ]
  },
  {
   "cell_type": "code",
   "execution_count": 2,
   "metadata": {},
   "outputs": [
    {
     "data": {
      "text/html": [
       "<div>\n",
       "<style scoped>\n",
       "    .dataframe tbody tr th:only-of-type {\n",
       "        vertical-align: middle;\n",
       "    }\n",
       "\n",
       "    .dataframe tbody tr th {\n",
       "        vertical-align: top;\n",
       "    }\n",
       "\n",
       "    .dataframe thead th {\n",
       "        text-align: right;\n",
       "    }\n",
       "</style>\n",
       "<table border=\"1\" class=\"dataframe\">\n",
       "  <thead>\n",
       "    <tr style=\"text-align: right;\">\n",
       "      <th></th>\n",
       "      <th>em</th>\n",
       "      <th>en</th>\n",
       "      <th>m</th>\n",
       "      <th>n</th>\n",
       "    </tr>\n",
       "    <tr>\n",
       "      <th>dateid01</th>\n",
       "      <th></th>\n",
       "      <th></th>\n",
       "      <th></th>\n",
       "      <th></th>\n",
       "    </tr>\n",
       "  </thead>\n",
       "  <tbody>\n",
       "    <tr>\n",
       "      <th>1973-07-01</th>\n",
       "      <td>0.000000</td>\n",
       "      <td>0.000000</td>\n",
       "      <td>0.0</td>\n",
       "      <td>0</td>\n",
       "    </tr>\n",
       "    <tr>\n",
       "      <th>1973-08-01</th>\n",
       "      <td>0.211908</td>\n",
       "      <td>-1.455569</td>\n",
       "      <td>1.5</td>\n",
       "      <td>-2</td>\n",
       "    </tr>\n",
       "    <tr>\n",
       "      <th>1973-09-01</th>\n",
       "      <td>1.633812</td>\n",
       "      <td>0.379432</td>\n",
       "      <td>3.0</td>\n",
       "      <td>-4</td>\n",
       "    </tr>\n",
       "    <tr>\n",
       "      <th>1973-10-01</th>\n",
       "      <td>2.398119</td>\n",
       "      <td>0.342120</td>\n",
       "      <td>4.5</td>\n",
       "      <td>-6</td>\n",
       "    </tr>\n",
       "    <tr>\n",
       "      <th>1973-11-01</th>\n",
       "      <td>-0.023755</td>\n",
       "      <td>-1.083531</td>\n",
       "      <td>6.0</td>\n",
       "      <td>-8</td>\n",
       "    </tr>\n",
       "    <tr>\n",
       "      <th>...</th>\n",
       "      <td>...</td>\n",
       "      <td>...</td>\n",
       "      <td>...</td>\n",
       "      <td>...</td>\n",
       "    </tr>\n",
       "    <tr>\n",
       "      <th>2014-10-01</th>\n",
       "      <td>-1.926201</td>\n",
       "      <td>1.043402</td>\n",
       "      <td>742.5</td>\n",
       "      <td>-990</td>\n",
       "    </tr>\n",
       "    <tr>\n",
       "      <th>2014-11-01</th>\n",
       "      <td>-0.294635</td>\n",
       "      <td>-0.620686</td>\n",
       "      <td>744.0</td>\n",
       "      <td>-992</td>\n",
       "    </tr>\n",
       "    <tr>\n",
       "      <th>2014-12-01</th>\n",
       "      <td>-1.132285</td>\n",
       "      <td>-1.115311</td>\n",
       "      <td>745.5</td>\n",
       "      <td>-994</td>\n",
       "    </tr>\n",
       "    <tr>\n",
       "      <th>2015-01-01</th>\n",
       "      <td>0.096729</td>\n",
       "      <td>1.254998</td>\n",
       "      <td>747.0</td>\n",
       "      <td>-996</td>\n",
       "    </tr>\n",
       "    <tr>\n",
       "      <th>2015-02-01</th>\n",
       "      <td>0.264881</td>\n",
       "      <td>1.633234</td>\n",
       "      <td>748.5</td>\n",
       "      <td>-998</td>\n",
       "    </tr>\n",
       "  </tbody>\n",
       "</table>\n",
       "<p>500 rows × 4 columns</p>\n",
       "</div>"
      ],
      "text/plain": [
       "                  em        en      m    n\n",
       "dateid01                                  \n",
       "1973-07-01  0.000000  0.000000    0.0    0\n",
       "1973-08-01  0.211908 -1.455569    1.5   -2\n",
       "1973-09-01  1.633812  0.379432    3.0   -4\n",
       "1973-10-01  2.398119  0.342120    4.5   -6\n",
       "1973-11-01 -0.023755 -1.083531    6.0   -8\n",
       "...              ...       ...    ...  ...\n",
       "2014-10-01 -1.926201  1.043402  742.5 -990\n",
       "2014-11-01 -0.294635 -0.620686  744.0 -992\n",
       "2014-12-01 -1.132285 -1.115311  745.5 -994\n",
       "2015-01-01  0.096729  1.254998  747.0 -996\n",
       "2015-02-01  0.264881  1.633234  748.5 -998\n",
       "\n",
       "[500 rows x 4 columns]"
      ]
     },
     "execution_count": 2,
     "metadata": {},
     "output_type": "execute_result"
    }
   ],
   "source": [
    "df1 = pd.read_csv(\n",
    "    \"data/module3b_data_Simulated_Nonstationary.CSV\", \n",
    "    index_col='dateid01', parse_dates=True, \n",
    "    usecols=['dateid01', 'em', 'en', 'm', 'n'])\n",
    "\n",
    "df1"
   ]
  },
  {
   "cell_type": "markdown",
   "metadata": {},
   "source": [
    "Just by looking at the values, we can see that `m` increases 1.5 each period and `n` decrases by -2 each period. `em` and `en` look like random noises.\n",
    "\n"
   ]
  },
  {
   "cell_type": "code",
   "execution_count": 3,
   "metadata": {},
   "outputs": [
    {
     "data": {
      "image/png": "[encoded data removed]",
      "text/plain": [
       "<Figure size 864x576 with 4 Axes>"
      ]
     },
     "metadata": {
      "needs_background": "light"
     },
     "output_type": "display_data"
    }
   ],
   "source": [
    "fig, ax = plt.subplots(4, 1, figsize=(12, 8), sharex='col')\n",
    "\n",
    "ax[0].plot(df1.m)\n",
    "ax[0].set_title('M')\n",
    "ax[1].plot(df1.n)\n",
    "ax[1].set_title('N')\n",
    "ax[2].plot(df1.em)\n",
    "ax[2].set_title('EM')\n",
    "ax[3].plot(df1.en)\n",
    "ax[3].set_title('EN');"
   ]
  },
  {
   "cell_type": "markdown",
   "metadata": {},
   "source": [
    "I don't know exactly why they provided the `n` and `m` series, but below is the code to reproduce the equations and plot them. The series are clearly non-stationary."
   ]
  },
  {
   "cell_type": "code",
   "execution_count": 4,
   "metadata": {},
   "outputs": [
    {
     "data": {
      "image/png": "[encoded data removed]",
      "text/plain": [
       "<Figure size 864x432 with 2 Axes>"
      ]
     },
     "metadata": {
      "needs_background": "light"
     },
     "output_type": "display_data"
    }
   ],
   "source": [
    "size = len(df1.em)\n",
    "m1 = np.zeros(size)\n",
    "n1 = np.zeros(size)\n",
    "\n",
    "for i in range(size - 1):\n",
    "    m1[i+1] = 1.5 + m1[i] + df1.em.values[i+1]\n",
    "    n1[i+1] = -2 + n1[i] + df1.en.values[i+1]\n",
    "\n",
    "fig, ax = plt.subplots(2, 1, figsize=(12, 6))\n",
    "ax[0].plot(m1)\n",
    "ax[1].plot(n1);"
   ]
  },
  {
   "cell_type": "code",
   "execution_count": 5,
   "metadata": {},
   "outputs": [
    {
     "data": {
      "image/png": "[encoded data removed]",
      "text/plain": [
       "<Figure size 864x576 with 2 Axes>"
      ]
     },
     "metadata": {
      "needs_background": "light"
     },
     "output_type": "display_data"
    }
   ],
   "source": [
    "fig, ax = plt.subplots(2, 1, figsize=(12, 8))\n",
    "\n",
    "plot_acf(m1, ax=ax[0], lags=range(1, 25), title = 'M1: Autocorrelation')\n",
    "plot_acf(n1, ax=ax[1], lags=range(1, 25), title = 'N1: Autocorrelation');"
   ]
  },
  {
   "cell_type": "code",
   "execution_count": 6,
   "metadata": {},
   "outputs": [
    {
     "data": {
      "text/plain": [
       "array([0.00421099, 0.99998794, 2.94148426])"
      ]
     },
     "execution_count": 6,
     "metadata": {},
     "output_type": "execute_result"
    }
   ],
   "source": [
    "SARIMAX(m1, order=(1, 0, 0), trend='c').fit(disp=0).params"
   ]
  },
  {
   "cell_type": "code",
   "execution_count": 7,
   "metadata": {},
   "outputs": [
    {
     "data": {
      "text/plain": [
       "array([-0.00503186,  0.99998977,  4.91315977])"
      ]
     },
     "execution_count": 7,
     "metadata": {},
     "output_type": "execute_result"
    }
   ],
   "source": [
    "SARIMAX(n1, order=(1, 0, 0), trend='c').fit(disp=0).params"
   ]
  },
  {
   "cell_type": "code",
   "execution_count": 8,
   "metadata": {},
   "outputs": [
    {
     "data": {
      "text/html": [
       "<table class=\"simpletable\">\n",
       "<caption>OLS Regression Results</caption>\n",
       "<tr>\n",
       "  <th>Dep. Variable:</th>            <td>m</td>        <th>  R-squared:         </th> <td>   0.999</td> \n",
       "</tr>\n",
       "<tr>\n",
       "  <th>Model:</th>                   <td>OLS</td>       <th>  Adj. R-squared:    </th> <td>   0.999</td> \n",
       "</tr>\n",
       "<tr>\n",
       "  <th>Method:</th>             <td>Least Squares</td>  <th>  F-statistic:       </th> <td>5.330e+05</td>\n",
       "</tr>\n",
       "<tr>\n",
       "  <th>Date:</th>             <td>Wed, 20 Oct 2021</td> <th>  Prob (F-statistic):</th>  <td>  0.00</td>  \n",
       "</tr>\n",
       "<tr>\n",
       "  <th>Time:</th>                 <td>07:58:19</td>     <th>  Log-Likelihood:    </th> <td> -1623.9</td> \n",
       "</tr>\n",
       "<tr>\n",
       "  <th>No. Observations:</th>      <td>   500</td>      <th>  AIC:               </th> <td>   3252.</td> \n",
       "</tr>\n",
       "<tr>\n",
       "  <th>Df Residuals:</th>          <td>   498</td>      <th>  BIC:               </th> <td>   3260.</td> \n",
       "</tr>\n",
       "<tr>\n",
       "  <th>Df Model:</th>              <td>     1</td>      <th>                     </th>     <td> </td>    \n",
       "</tr>\n",
       "<tr>\n",
       "  <th>Covariance Type:</th>      <td>nonrobust</td>    <th>                     </th>     <td> </td>    \n",
       "</tr>\n",
       "</table>\n",
       "<table class=\"simpletable\">\n",
       "<tr>\n",
       "      <td></td>         <th>coef</th>     <th>std err</th>      <th>t</th>      <th>P>|t|</th>  <th>[0.025</th>    <th>0.975]</th>  \n",
       "</tr>\n",
       "<tr>\n",
       "  <th>Intercept</th> <td>    3.6886</td> <td>    0.562</td> <td>    6.559</td> <td> 0.000</td> <td>    2.584</td> <td>    4.794</td>\n",
       "</tr>\n",
       "<tr>\n",
       "  <th>n</th>         <td>   -0.7202</td> <td>    0.001</td> <td> -730.065</td> <td> 0.000</td> <td>   -0.722</td> <td>   -0.718</td>\n",
       "</tr>\n",
       "</table>\n",
       "<table class=\"simpletable\">\n",
       "<tr>\n",
       "  <th>Omnibus:</th>       <td>30.518</td> <th>  Durbin-Watson:     </th> <td>   0.040</td>\n",
       "</tr>\n",
       "<tr>\n",
       "  <th>Prob(Omnibus):</th> <td> 0.000</td> <th>  Jarque-Bera (JB):  </th> <td>  34.977</td>\n",
       "</tr>\n",
       "<tr>\n",
       "  <th>Skew:</th>          <td> 0.648</td> <th>  Prob(JB):          </th> <td>2.54e-08</td>\n",
       "</tr>\n",
       "<tr>\n",
       "  <th>Kurtosis:</th>      <td> 3.022</td> <th>  Cond. No.          </th> <td>1.15e+03</td>\n",
       "</tr>\n",
       "</table><br/><br/>Notes:<br/>[1] Standard Errors assume that the covariance matrix of the errors is correctly specified.<br/>[2] The condition number is large, 1.15e+03. This might indicate that there are<br/>strong multicollinearity or other numerical problems."
      ],
      "text/plain": [
       "<class 'statsmodels.iolib.summary.Summary'>\n",
       "\"\"\"\n",
       "                            OLS Regression Results                            \n",
       "==============================================================================\n",
       "Dep. Variable:                      m   R-squared:                       0.999\n",
       "Model:                            OLS   Adj. R-squared:                  0.999\n",
       "Method:                 Least Squares   F-statistic:                 5.330e+05\n",
       "Date:                Wed, 20 Oct 2021   Prob (F-statistic):               0.00\n",
       "Time:                        07:58:19   Log-Likelihood:                -1623.9\n",
       "No. Observations:                 500   AIC:                             3252.\n",
       "Df Residuals:                     498   BIC:                             3260.\n",
       "Df Model:                           1                                         \n",
       "Covariance Type:            nonrobust                                         \n",
       "==============================================================================\n",
       "                 coef    std err          t      P>|t|      [0.025      0.975]\n",
       "------------------------------------------------------------------------------\n",
       "Intercept      3.6886      0.562      6.559      0.000       2.584       4.794\n",
       "n             -0.7202      0.001   -730.065      0.000      -0.722      -0.718\n",
       "==============================================================================\n",
       "Omnibus:                       30.518   Durbin-Watson:                   0.040\n",
       "Prob(Omnibus):                  0.000   Jarque-Bera (JB):               34.977\n",
       "Skew:                           0.648   Prob(JB):                     2.54e-08\n",
       "Kurtosis:                       3.022   Cond. No.                     1.15e+03\n",
       "==============================================================================\n",
       "\n",
       "Notes:\n",
       "[1] Standard Errors assume that the covariance matrix of the errors is correctly specified.\n",
       "[2] The condition number is large, 1.15e+03. This might indicate that there are\n",
       "strong multicollinearity or other numerical problems.\n",
       "\"\"\""
      ]
     },
     "execution_count": 8,
     "metadata": {},
     "output_type": "execute_result"
    }
   ],
   "source": [
    "_ = pd.DataFrame({'n': n1, 'm': m1})\n",
    "spurious = smf.ols('m ~ n', data=_).fit()\n",
    "spurious.summary()"
   ]
  },
  {
   "cell_type": "code",
   "execution_count": 9,
   "metadata": {},
   "outputs": [
    {
     "data": {
      "image/png": "[encoded data removed]",
      "text/plain": [
       "<Figure size 432x288 with 1 Axes>"
      ]
     },
     "metadata": {
      "needs_background": "light"
     },
     "output_type": "display_data"
    }
   ],
   "source": [
    "plot_acf(spurious.resid, lags=range(1, 25));"
   ]
  },
  {
   "cell_type": "markdown",
   "metadata": {},
   "source": [
    "For curiosity, let's repeat the same exercise with \"near-unit-roots\""
   ]
  },
  {
   "cell_type": "code",
   "execution_count": 10,
   "metadata": {},
   "outputs": [
    {
     "data": {
      "image/png": "[encoded data removed]",
      "text/plain": [
       "<Figure size 864x432 with 2 Axes>"
      ]
     },
     "metadata": {
      "needs_background": "light"
     },
     "output_type": "display_data"
    }
   ],
   "source": [
    "size = len(df1.em)\n",
    "m2 = np.zeros(size)\n",
    "n2 = np.zeros(size)\n",
    "\n",
    "for i in range(size - 1):\n",
    "    m2[i+1] = 1.5 + 0.96*m2[i] + df1.em.values[i+1]\n",
    "    n2[i+1] = -2 + 0.96*n2[i] + df1.en.values[i+1]\n",
    "\n",
    "fig, ax = plt.subplots(2, 1, figsize=(12, 6))\n",
    "ax[0].plot(m2)\n",
    "ax[1].plot(n2);"
   ]
  },
  {
   "cell_type": "code",
   "execution_count": 11,
   "metadata": {},
   "outputs": [
    {
     "data": {
      "text/html": [
       "<table class=\"simpletable\">\n",
       "<caption>OLS Regression Results</caption>\n",
       "<tr>\n",
       "  <th>Dep. Variable:</th>            <td>m</td>        <th>  R-squared:         </th> <td>   0.529</td>\n",
       "</tr>\n",
       "<tr>\n",
       "  <th>Model:</th>                   <td>OLS</td>       <th>  Adj. R-squared:    </th> <td>   0.528</td>\n",
       "</tr>\n",
       "<tr>\n",
       "  <th>Method:</th>             <td>Least Squares</td>  <th>  F-statistic:       </th> <td>   558.7</td>\n",
       "</tr>\n",
       "<tr>\n",
       "  <th>Date:</th>             <td>Wed, 20 Oct 2021</td> <th>  Prob (F-statistic):</th> <td>2.16e-83</td>\n",
       "</tr>\n",
       "<tr>\n",
       "  <th>Time:</th>                 <td>07:58:22</td>     <th>  Log-Likelihood:    </th> <td> -1420.6</td>\n",
       "</tr>\n",
       "<tr>\n",
       "  <th>No. Observations:</th>      <td>   500</td>      <th>  AIC:               </th> <td>   2845.</td>\n",
       "</tr>\n",
       "<tr>\n",
       "  <th>Df Residuals:</th>          <td>   498</td>      <th>  BIC:               </th> <td>   2854.</td>\n",
       "</tr>\n",
       "<tr>\n",
       "  <th>Df Model:</th>              <td>     1</td>      <th>                     </th>     <td> </td>   \n",
       "</tr>\n",
       "<tr>\n",
       "  <th>Covariance Type:</th>      <td>nonrobust</td>    <th>                     </th>     <td> </td>   \n",
       "</tr>\n",
       "</table>\n",
       "<table class=\"simpletable\">\n",
       "<tr>\n",
       "      <td></td>         <th>coef</th>     <th>std err</th>      <th>t</th>      <th>P>|t|</th>  <th>[0.025</th>    <th>0.975]</th>  \n",
       "</tr>\n",
       "<tr>\n",
       "  <th>Intercept</th> <td>    6.2012</td> <td>    1.174</td> <td>    5.283</td> <td> 0.000</td> <td>    3.895</td> <td>    8.507</td>\n",
       "</tr>\n",
       "<tr>\n",
       "  <th>n</th>         <td>   -0.5844</td> <td>    0.025</td> <td>  -23.637</td> <td> 0.000</td> <td>   -0.633</td> <td>   -0.536</td>\n",
       "</tr>\n",
       "</table>\n",
       "<table class=\"simpletable\">\n",
       "<tr>\n",
       "  <th>Omnibus:</th>       <td>22.501</td> <th>  Durbin-Watson:     </th> <td>   0.080</td>\n",
       "</tr>\n",
       "<tr>\n",
       "  <th>Prob(Omnibus):</th> <td> 0.000</td> <th>  Jarque-Bera (JB):  </th> <td>  24.442</td>\n",
       "</tr>\n",
       "<tr>\n",
       "  <th>Skew:</th>          <td> 0.528</td> <th>  Prob(JB):          </th> <td>4.93e-06</td>\n",
       "</tr>\n",
       "<tr>\n",
       "  <th>Kurtosis:</th>      <td> 2.759</td> <th>  Cond. No.          </th> <td>    300.</td>\n",
       "</tr>\n",
       "</table><br/><br/>Notes:<br/>[1] Standard Errors assume that the covariance matrix of the errors is correctly specified."
      ],
      "text/plain": [
       "<class 'statsmodels.iolib.summary.Summary'>\n",
       "\"\"\"\n",
       "                            OLS Regression Results                            \n",
       "==============================================================================\n",
       "Dep. Variable:                      m   R-squared:                       0.529\n",
       "Model:                            OLS   Adj. R-squared:                  0.528\n",
       "Method:                 Least Squares   F-statistic:                     558.7\n",
       "Date:                Wed, 20 Oct 2021   Prob (F-statistic):           2.16e-83\n",
       "Time:                        07:58:22   Log-Likelihood:                -1420.6\n",
       "No. Observations:                 500   AIC:                             2845.\n",
       "Df Residuals:                     498   BIC:                             2854.\n",
       "Df Model:                           1                                         \n",
       "Covariance Type:            nonrobust                                         \n",
       "==============================================================================\n",
       "                 coef    std err          t      P>|t|      [0.025      0.975]\n",
       "------------------------------------------------------------------------------\n",
       "Intercept      6.2012      1.174      5.283      0.000       3.895       8.507\n",
       "n             -0.5844      0.025    -23.637      0.000      -0.633      -0.536\n",
       "==============================================================================\n",
       "Omnibus:                       22.501   Durbin-Watson:                   0.080\n",
       "Prob(Omnibus):                  0.000   Jarque-Bera (JB):               24.442\n",
       "Skew:                           0.528   Prob(JB):                     4.93e-06\n",
       "Kurtosis:                       2.759   Cond. No.                         300.\n",
       "==============================================================================\n",
       "\n",
       "Notes:\n",
       "[1] Standard Errors assume that the covariance matrix of the errors is correctly specified.\n",
       "\"\"\""
      ]
     },
     "execution_count": 11,
     "metadata": {},
     "output_type": "execute_result"
    }
   ],
   "source": [
    "_ = pd.DataFrame({'n': n2, 'm': m2})\n",
    "_ = _.assign(dm=_.m - _.m.shift(1), dn=_.n - _.n.shift(1))\n",
    "spurious = smf.ols('m ~ n', data=_).fit()\n",
    "spurious.summary()"
   ]
  },
  {
   "cell_type": "code",
   "execution_count": 12,
   "metadata": {},
   "outputs": [
    {
     "data": {
      "text/html": [
       "<table class=\"simpletable\">\n",
       "<caption>OLS Regression Results</caption>\n",
       "<tr>\n",
       "  <th>Dep. Variable:</th>           <td>dm</td>        <th>  R-squared:         </th> <td>   0.002</td>\n",
       "</tr>\n",
       "<tr>\n",
       "  <th>Model:</th>                   <td>OLS</td>       <th>  Adj. R-squared:    </th> <td>   0.000</td>\n",
       "</tr>\n",
       "<tr>\n",
       "  <th>Method:</th>             <td>Least Squares</td>  <th>  F-statistic:       </th> <td>   1.206</td>\n",
       "</tr>\n",
       "<tr>\n",
       "  <th>Date:</th>             <td>Wed, 20 Oct 2021</td> <th>  Prob (F-statistic):</th>  <td> 0.273</td> \n",
       "</tr>\n",
       "<tr>\n",
       "  <th>Time:</th>                 <td>07:58:22</td>     <th>  Log-Likelihood:    </th> <td> -719.99</td>\n",
       "</tr>\n",
       "<tr>\n",
       "  <th>No. Observations:</th>      <td>   499</td>      <th>  AIC:               </th> <td>   1444.</td>\n",
       "</tr>\n",
       "<tr>\n",
       "  <th>Df Residuals:</th>          <td>   497</td>      <th>  BIC:               </th> <td>   1452.</td>\n",
       "</tr>\n",
       "<tr>\n",
       "  <th>Df Model:</th>              <td>     1</td>      <th>                     </th>     <td> </td>   \n",
       "</tr>\n",
       "<tr>\n",
       "  <th>Covariance Type:</th>      <td>nonrobust</td>    <th>                     </th>     <td> </td>   \n",
       "</tr>\n",
       "</table>\n",
       "<table class=\"simpletable\">\n",
       "<tr>\n",
       "      <td></td>         <th>coef</th>     <th>std err</th>      <th>t</th>      <th>P>|t|</th>  <th>[0.025</th>    <th>0.975]</th>  \n",
       "</tr>\n",
       "<tr>\n",
       "  <th>Intercept</th> <td>    0.0520</td> <td>    0.046</td> <td>    1.128</td> <td> 0.260</td> <td>   -0.039</td> <td>    0.143</td>\n",
       "</tr>\n",
       "<tr>\n",
       "  <th>dn</th>        <td>   -0.0467</td> <td>    0.043</td> <td>   -1.098</td> <td> 0.273</td> <td>   -0.130</td> <td>    0.037</td>\n",
       "</tr>\n",
       "</table>\n",
       "<table class=\"simpletable\">\n",
       "<tr>\n",
       "  <th>Omnibus:</th>       <td> 2.260</td> <th>  Durbin-Watson:     </th> <td>   1.902</td>\n",
       "</tr>\n",
       "<tr>\n",
       "  <th>Prob(Omnibus):</th> <td> 0.323</td> <th>  Jarque-Bera (JB):  </th> <td>   2.065</td>\n",
       "</tr>\n",
       "<tr>\n",
       "  <th>Skew:</th>          <td>-0.111</td> <th>  Prob(JB):          </th> <td>   0.356</td>\n",
       "</tr>\n",
       "<tr>\n",
       "  <th>Kurtosis:</th>      <td> 3.223</td> <th>  Cond. No.          </th> <td>    1.13</td>\n",
       "</tr>\n",
       "</table><br/><br/>Notes:<br/>[1] Standard Errors assume that the covariance matrix of the errors is correctly specified."
      ],
      "text/plain": [
       "<class 'statsmodels.iolib.summary.Summary'>\n",
       "\"\"\"\n",
       "                            OLS Regression Results                            \n",
       "==============================================================================\n",
       "Dep. Variable:                     dm   R-squared:                       0.002\n",
       "Model:                            OLS   Adj. R-squared:                  0.000\n",
       "Method:                 Least Squares   F-statistic:                     1.206\n",
       "Date:                Wed, 20 Oct 2021   Prob (F-statistic):              0.273\n",
       "Time:                        07:58:22   Log-Likelihood:                -719.99\n",
       "No. Observations:                 499   AIC:                             1444.\n",
       "Df Residuals:                     497   BIC:                             1452.\n",
       "Df Model:                           1                                         \n",
       "Covariance Type:            nonrobust                                         \n",
       "==============================================================================\n",
       "                 coef    std err          t      P>|t|      [0.025      0.975]\n",
       "------------------------------------------------------------------------------\n",
       "Intercept      0.0520      0.046      1.128      0.260      -0.039       0.143\n",
       "dn            -0.0467      0.043     -1.098      0.273      -0.130       0.037\n",
       "==============================================================================\n",
       "Omnibus:                        2.260   Durbin-Watson:                   1.902\n",
       "Prob(Omnibus):                  0.323   Jarque-Bera (JB):                2.065\n",
       "Skew:                          -0.111   Prob(JB):                        0.356\n",
       "Kurtosis:                       3.223   Cond. No.                         1.13\n",
       "==============================================================================\n",
       "\n",
       "Notes:\n",
       "[1] Standard Errors assume that the covariance matrix of the errors is correctly specified.\n",
       "\"\"\""
      ]
     },
     "execution_count": 12,
     "metadata": {},
     "output_type": "execute_result"
    }
   ],
   "source": [
    "spurious = smf.ols('dm ~ dn', data=_).fit()\n",
    "spurious.summary()"
   ]
  },
  {
   "cell_type": "markdown",
   "metadata": {},
   "source": [
    "Note how near-unit roots also lead to spurious regression."
   ]
  },
  {
   "cell_type": "markdown",
   "metadata": {},
   "source": [
    "## Question 3.40"
   ]
  },
  {
   "cell_type": "code",
   "execution_count": 13,
   "metadata": {},
   "outputs": [
    {
     "data": {
      "text/html": [
       "<div>\n",
       "<style scoped>\n",
       "    .dataframe tbody tr th:only-of-type {\n",
       "        vertical-align: middle;\n",
       "    }\n",
       "\n",
       "    .dataframe tbody tr th {\n",
       "        vertical-align: top;\n",
       "    }\n",
       "\n",
       "    .dataframe thead th {\n",
       "        text-align: right;\n",
       "    }\n",
       "</style>\n",
       "<table border=\"1\" class=\"dataframe\">\n",
       "  <thead>\n",
       "    <tr style=\"text-align: right;\">\n",
       "      <th></th>\n",
       "      <th>pe_ind</th>\n",
       "    </tr>\n",
       "    <tr>\n",
       "      <th>dateid01</th>\n",
       "      <th></th>\n",
       "    </tr>\n",
       "  </thead>\n",
       "  <tbody>\n",
       "    <tr>\n",
       "      <th>2000-01-01</th>\n",
       "      <td>16.4949</td>\n",
       "    </tr>\n",
       "    <tr>\n",
       "      <th>2000-02-01</th>\n",
       "      <td>17.2608</td>\n",
       "    </tr>\n",
       "    <tr>\n",
       "      <th>2000-03-01</th>\n",
       "      <td>14.4154</td>\n",
       "    </tr>\n",
       "    <tr>\n",
       "      <th>2000-04-01</th>\n",
       "      <td>13.4247</td>\n",
       "    </tr>\n",
       "    <tr>\n",
       "      <th>2000-05-01</th>\n",
       "      <td>12.7792</td>\n",
       "    </tr>\n",
       "    <tr>\n",
       "      <th>...</th>\n",
       "      <td>...</td>\n",
       "    </tr>\n",
       "    <tr>\n",
       "      <th>2014-10-01</th>\n",
       "      <td>19.3798</td>\n",
       "    </tr>\n",
       "    <tr>\n",
       "      <th>2014-11-01</th>\n",
       "      <td>19.9561</td>\n",
       "    </tr>\n",
       "    <tr>\n",
       "      <th>2014-12-01</th>\n",
       "      <td>19.4043</td>\n",
       "    </tr>\n",
       "    <tr>\n",
       "      <th>2015-01-01</th>\n",
       "      <td>20.5922</td>\n",
       "    </tr>\n",
       "    <tr>\n",
       "      <th>2015-02-01</th>\n",
       "      <td>20.6786</td>\n",
       "    </tr>\n",
       "  </tbody>\n",
       "</table>\n",
       "<p>182 rows × 1 columns</p>\n",
       "</div>"
      ],
      "text/plain": [
       "             pe_ind\n",
       "dateid01           \n",
       "2000-01-01  16.4949\n",
       "2000-02-01  17.2608\n",
       "2000-03-01  14.4154\n",
       "2000-04-01  13.4247\n",
       "2000-05-01  12.7792\n",
       "...             ...\n",
       "2014-10-01  19.3798\n",
       "2014-11-01  19.9561\n",
       "2014-12-01  19.4043\n",
       "2015-01-01  20.5922\n",
       "2015-02-01  20.6786\n",
       "\n",
       "[182 rows x 1 columns]"
      ]
     },
     "execution_count": 13,
     "metadata": {},
     "output_type": "execute_result"
    }
   ],
   "source": [
    "df2 = pd.read_csv(\n",
    "    \"data/module3b_data_PE_ratios.csv\", \n",
    "    index_col='dateid01', parse_dates=True,\n",
    "    usecols=['dateid01', 'pe_ind']).dropna()\n",
    "df2"
   ]
  },
  {
   "cell_type": "markdown",
   "metadata": {},
   "source": [
    "The `statsmodels` module in Python provide the ADF and the KPSS tests through the functions `adfuller()` and `kpss()`. However, the output of these functions is cryptic, so I think it's just easier to load the `arch` module and import the unit root tests from there. As another advantage, the `arch` module also provides a Phillips Perron test.\n",
    "\n",
    "This session of the course in the lectures and questions are really confusing so please just read the questions and try to answer them based on the figures displayed there. Here you will find the code to undertake similar calculations using python."
   ]
  },
  {
   "cell_type": "code",
   "execution_count": 14,
   "metadata": {},
   "outputs": [
    {
     "name": "stdout",
     "output_type": "stream",
     "text": [
      "   Augmented Dickey-Fuller Results   \n",
      "=====================================\n",
      "Test Statistic                 -2.957\n",
      "P-value                         0.145\n",
      "Lags                                0\n",
      "-------------------------------------\n",
      "\n",
      "Trend: Constant and Linear Time Trend\n",
      "Critical Values: -4.01 (1%), -3.44 (5%), -3.14 (10%)\n",
      "Null Hypothesis: The process contains a unit root.\n",
      "Alternative Hypothesis: The process is weakly stationary.\n",
      "\n",
      "\n",
      "   Augmented Dickey-Fuller Results   \n",
      "=====================================\n",
      "Test Statistic                 -2.806\n",
      "P-value                         0.057\n",
      "Lags                                0\n",
      "-------------------------------------\n",
      "\n",
      "Trend: Constant\n",
      "Critical Values: -3.47 (1%), -2.88 (5%), -2.58 (10%)\n",
      "Null Hypothesis: The process contains a unit root.\n",
      "Alternative Hypothesis: The process is weakly stationary.\n"
     ]
    }
   ],
   "source": [
    "from statsmodels.tsa.stattools import adfuller, kpss\n",
    "from arch.unitroot import ADF, PhillipsPerron, KPSS\n",
    "\n",
    "print(ADF(df2['pe_ind'], trend='ct'))\n",
    "\n",
    "print('\\n')\n",
    "\n",
    "print(ADF(df2['pe_ind'], trend='c'))"
   ]
  },
  {
   "cell_type": "markdown",
   "metadata": {},
   "source": [
    "Note that the Phillips-Perron test here fails to reject the null at 10% when we add a trend, which suggests that the series is non-stationary. This value is different from the value presented by EViews."
   ]
  },
  {
   "cell_type": "code",
   "execution_count": 15,
   "metadata": {},
   "outputs": [
    {
     "name": "stdout",
     "output_type": "stream",
     "text": [
      "     Phillips-Perron Test (Z-tau)    \n",
      "=====================================\n",
      "Test Statistic                 -3.107\n",
      "P-value                         0.104\n",
      "Lags                               14\n",
      "-------------------------------------\n",
      "\n",
      "Trend: Constant and Linear Time Trend\n",
      "Critical Values: -4.01 (1%), -3.44 (5%), -3.14 (10%)\n",
      "Null Hypothesis: The process contains a unit root.\n",
      "Alternative Hypothesis: The process is weakly stationary.\n",
      "\n",
      "\n",
      "     Phillips-Perron Test (Z-tau)    \n",
      "=====================================\n",
      "Test Statistic                 -2.956\n",
      "P-value                         0.039\n",
      "Lags                               14\n",
      "-------------------------------------\n",
      "\n",
      "Trend: Constant\n",
      "Critical Values: -3.47 (1%), -2.88 (5%), -2.58 (10%)\n",
      "Null Hypothesis: The process contains a unit root.\n",
      "Alternative Hypothesis: The process is weakly stationary.\n"
     ]
    }
   ],
   "source": [
    "from arch.unitroot import PhillipsPerron\n",
    "\n",
    "print(PhillipsPerron(df2['pe_ind'], trend='ct'))\n",
    "\n",
    "print('\\n')\n",
    "\n",
    "print(PhillipsPerron(df2['pe_ind'], trend='c'))\n",
    "\n"
   ]
  },
  {
   "cell_type": "markdown",
   "metadata": {},
   "source": [
    "## Question 3.41"
   ]
  },
  {
   "cell_type": "markdown",
   "metadata": {},
   "source": [
    "However, the KPSS test (the most powerful), fails to reject the null of stationarity, so we can conclude that the series is stationary after all."
   ]
  },
  {
   "cell_type": "code",
   "execution_count": 16,
   "metadata": {},
   "outputs": [
    {
     "name": "stdout",
     "output_type": "stream",
     "text": [
      "    KPSS Stationarity Test Results   \n",
      "=====================================\n",
      "Test Statistic                  0.296\n",
      "P-value                         0.139\n",
      "Lags                                8\n",
      "-------------------------------------\n",
      "\n",
      "Trend: Constant\n",
      "Critical Values: 0.74 (1%), 0.46 (5%), 0.35 (10%)\n",
      "Null Hypothesis: The process is weakly stationary.\n",
      "Alternative Hypothesis: The process contains a unit root.\n",
      "\n",
      "\n",
      "    KPSS Stationarity Test Results   \n",
      "=====================================\n",
      "Test Statistic                  0.101\n",
      "P-value                         0.159\n",
      "Lags                                8\n",
      "-------------------------------------\n",
      "\n",
      "Trend: Constant and Linear Time Trend\n",
      "Critical Values: 0.22 (1%), 0.15 (5%), 0.12 (10%)\n",
      "Null Hypothesis: The process is weakly stationary.\n",
      "Alternative Hypothesis: The process contains a unit root.\n"
     ]
    }
   ],
   "source": [
    "print(KPSS(df2['pe_ind'], trend='c'))\n",
    "\n",
    "print('\\n')\n",
    "\n",
    "print(KPSS(df2['pe_ind'], trend='ct'))"
   ]
  },
  {
   "cell_type": "markdown",
   "metadata": {},
   "source": [
    "## Question 3.42\n",
    "\n",
    "Load the dataset"
   ]
  },
  {
   "cell_type": "code",
   "execution_count": 17,
   "metadata": {},
   "outputs": [
    {
     "data": {
      "text/html": [
       "<div>\n",
       "<style scoped>\n",
       "    .dataframe tbody tr th:only-of-type {\n",
       "        vertical-align: middle;\n",
       "    }\n",
       "\n",
       "    .dataframe tbody tr th {\n",
       "        vertical-align: top;\n",
       "    }\n",
       "\n",
       "    .dataframe thead th {\n",
       "        text-align: right;\n",
       "    }\n",
       "</style>\n",
       "<table border=\"1\" class=\"dataframe\">\n",
       "  <thead>\n",
       "    <tr style=\"text-align: right;\">\n",
       "      <th></th>\n",
       "      <th>x</th>\n",
       "      <th>y</th>\n",
       "      <th>z</th>\n",
       "    </tr>\n",
       "    <tr>\n",
       "      <th>dateid01</th>\n",
       "      <th></th>\n",
       "      <th></th>\n",
       "      <th></th>\n",
       "    </tr>\n",
       "  </thead>\n",
       "  <tbody>\n",
       "    <tr>\n",
       "      <th>1900-01-01</th>\n",
       "      <td>0.000000</td>\n",
       "      <td>0.000000</td>\n",
       "      <td>0.000000</td>\n",
       "    </tr>\n",
       "    <tr>\n",
       "      <th>1900-02-01</th>\n",
       "      <td>2.644404</td>\n",
       "      <td>-0.723371</td>\n",
       "      <td>2.538293</td>\n",
       "    </tr>\n",
       "    <tr>\n",
       "      <th>1900-03-01</th>\n",
       "      <td>3.439934</td>\n",
       "      <td>2.142096</td>\n",
       "      <td>2.227375</td>\n",
       "    </tr>\n",
       "    <tr>\n",
       "      <th>1900-04-01</th>\n",
       "      <td>3.615788</td>\n",
       "      <td>4.493112</td>\n",
       "      <td>4.767550</td>\n",
       "    </tr>\n",
       "    <tr>\n",
       "      <th>1900-05-01</th>\n",
       "      <td>4.764565</td>\n",
       "      <td>5.088569</td>\n",
       "      <td>4.051969</td>\n",
       "    </tr>\n",
       "    <tr>\n",
       "      <th>...</th>\n",
       "      <td>...</td>\n",
       "      <td>...</td>\n",
       "      <td>...</td>\n",
       "    </tr>\n",
       "    <tr>\n",
       "      <th>2014-10-01</th>\n",
       "      <td>57.927184</td>\n",
       "      <td>12.300767</td>\n",
       "      <td>1101.367962</td>\n",
       "    </tr>\n",
       "    <tr>\n",
       "      <th>2014-11-01</th>\n",
       "      <td>59.023608</td>\n",
       "      <td>12.723256</td>\n",
       "      <td>1099.280487</td>\n",
       "    </tr>\n",
       "    <tr>\n",
       "      <th>2014-12-01</th>\n",
       "      <td>56.303902</td>\n",
       "      <td>12.958931</td>\n",
       "      <td>1101.719133</td>\n",
       "    </tr>\n",
       "    <tr>\n",
       "      <th>2015-01-01</th>\n",
       "      <td>56.780051</td>\n",
       "      <td>13.374216</td>\n",
       "      <td>1101.016760</td>\n",
       "    </tr>\n",
       "    <tr>\n",
       "      <th>2015-02-01</th>\n",
       "      <td>56.789307</td>\n",
       "      <td>15.355048</td>\n",
       "      <td>1104.892433</td>\n",
       "    </tr>\n",
       "  </tbody>\n",
       "</table>\n",
       "<p>1382 rows × 3 columns</p>\n",
       "</div>"
      ],
      "text/plain": [
       "                    x          y            z\n",
       "dateid01                                     \n",
       "1900-01-01   0.000000   0.000000     0.000000\n",
       "1900-02-01   2.644404  -0.723371     2.538293\n",
       "1900-03-01   3.439934   2.142096     2.227375\n",
       "1900-04-01   3.615788   4.493112     4.767550\n",
       "1900-05-01   4.764565   5.088569     4.051969\n",
       "...               ...        ...          ...\n",
       "2014-10-01  57.927184  12.300767  1101.367962\n",
       "2014-11-01  59.023608  12.723256  1099.280487\n",
       "2014-12-01  56.303902  12.958931  1101.719133\n",
       "2015-01-01  56.780051  13.374216  1101.016760\n",
       "2015-02-01  56.789307  15.355048  1104.892433\n",
       "\n",
       "[1382 rows x 3 columns]"
      ]
     },
     "execution_count": 17,
     "metadata": {},
     "output_type": "execute_result"
    }
   ],
   "source": [
    "df3 = pd.read_csv(\n",
    "    \"data/module3b_data_Simulated_full_sample.csv\", \n",
    "    index_col='dateid01', parse_dates=True, \n",
    "    usecols=['dateid01', 'x', 'y', 'z'])\n",
    "\n",
    "df3"
   ]
  },
  {
   "cell_type": "markdown",
   "metadata": {},
   "source": [
    "For the first difference of z, do the ADF or PP tests fail to reject the null hypothesis of a unit root for any of the specifications (constant/constant and trend)?\n",
    "\n",
    "I'm loading the helper function `diff()` from statstools that takes the first difference of the series, to save time, but it would be easy to write a function to do it."
   ]
  },
  {
   "cell_type": "code",
   "execution_count": 18,
   "metadata": {},
   "outputs": [
    {
     "name": "stdout",
     "output_type": "stream",
     "text": [
      "   Augmented Dickey-Fuller Results   \n",
      "=====================================\n",
      "Test Statistic                -37.262\n",
      "P-value                         0.000\n",
      "Lags                                0\n",
      "-------------------------------------\n",
      "\n",
      "Trend: Constant\n",
      "Critical Values: -3.44 (1%), -2.86 (5%), -2.57 (10%)\n",
      "Null Hypothesis: The process contains a unit root.\n",
      "Alternative Hypothesis: The process is weakly stationary.\n",
      "\n",
      "\n",
      "   Augmented Dickey-Fuller Results   \n",
      "=====================================\n",
      "Test Statistic                -37.251\n",
      "P-value                         0.000\n",
      "Lags                                0\n",
      "-------------------------------------\n",
      "\n",
      "Trend: Constant and Linear Time Trend\n",
      "Critical Values: -3.97 (1%), -3.41 (5%), -3.13 (10%)\n",
      "Null Hypothesis: The process contains a unit root.\n",
      "Alternative Hypothesis: The process is weakly stationary.\n"
     ]
    }
   ],
   "source": [
    "print(ADF(diff(df3['z'], 1), trend='c'))\n",
    "\n",
    "print('\\n')\n",
    "\n",
    "print(ADF(diff(df3['z'], 1), trend='ct'))"
   ]
  },
  {
   "cell_type": "code",
   "execution_count": 19,
   "metadata": {},
   "outputs": [
    {
     "name": "stdout",
     "output_type": "stream",
     "text": [
      "     Phillips-Perron Test (Z-tau)    \n",
      "=====================================\n",
      "Test Statistic                -37.338\n",
      "P-value                         0.000\n",
      "Lags                               24\n",
      "-------------------------------------\n",
      "\n",
      "Trend: Constant\n",
      "Critical Values: -3.44 (1%), -2.86 (5%), -2.57 (10%)\n",
      "Null Hypothesis: The process contains a unit root.\n",
      "Alternative Hypothesis: The process is weakly stationary.\n",
      "\n",
      "\n",
      "     Phillips-Perron Test (Z-tau)    \n",
      "=====================================\n",
      "Test Statistic                -37.326\n",
      "P-value                         0.000\n",
      "Lags                               24\n",
      "-------------------------------------\n",
      "\n",
      "Trend: Constant and Linear Time Trend\n",
      "Critical Values: -3.97 (1%), -3.41 (5%), -3.13 (10%)\n",
      "Null Hypothesis: The process contains a unit root.\n",
      "Alternative Hypothesis: The process is weakly stationary.\n"
     ]
    }
   ],
   "source": [
    "print(PhillipsPerron(diff(df3['z'], 1), trend='c'))\n",
    "\n",
    "print('\\n')\n",
    "\n",
    "print(PhillipsPerron(diff(df3['z'], 1), trend='ct'))"
   ]
  },
  {
   "cell_type": "code",
   "execution_count": 20,
   "metadata": {},
   "outputs": [
    {
     "name": "stdout",
     "output_type": "stream",
     "text": [
      "    KPSS Stationarity Test Results   \n",
      "=====================================\n",
      "Test Statistic                  0.040\n",
      "P-value                         0.936\n",
      "Lags                                4\n",
      "-------------------------------------\n",
      "\n",
      "Trend: Constant\n",
      "Critical Values: 0.74 (1%), 0.46 (5%), 0.35 (10%)\n",
      "Null Hypothesis: The process is weakly stationary.\n",
      "Alternative Hypothesis: The process contains a unit root.\n",
      "\n",
      "\n",
      "    KPSS Stationarity Test Results   \n",
      "=====================================\n",
      "Test Statistic                  0.036\n",
      "P-value                         0.786\n",
      "Lags                                4\n",
      "-------------------------------------\n",
      "\n",
      "Trend: Constant and Linear Time Trend\n",
      "Critical Values: 0.22 (1%), 0.15 (5%), 0.12 (10%)\n",
      "Null Hypothesis: The process is weakly stationary.\n",
      "Alternative Hypothesis: The process contains a unit root.\n"
     ]
    }
   ],
   "source": [
    "print(KPSS(diff(df3['z'], 1), trend='c'))\n",
    "\n",
    "print('\\n')\n",
    "\n",
    "print(KPSS(diff(df3['z'], 1), trend='ct'))"
   ]
  },
  {
   "cell_type": "markdown",
   "metadata": {},
   "source": [
    "I'll leave the optional questions to the reader."
   ]
  },
  {
   "cell_type": "markdown",
   "metadata": {},
   "source": [
    "Open the series “pe_aus”, the price-earnings ratio for Australia. For the sample period 2000M4 - 2015M2, conduct the three unit root/stationarity tests covered in the lecture (ADF, PP, and KPSS) for all specifications (Intercept, Intercept and Trend, and None), using the AIC to determine the maximum lag included."
   ]
  },
  {
   "cell_type": "code",
   "execution_count": 21,
   "metadata": {},
   "outputs": [
    {
     "data": {
      "text/html": [
       "<div>\n",
       "<style scoped>\n",
       "    .dataframe tbody tr th:only-of-type {\n",
       "        vertical-align: middle;\n",
       "    }\n",
       "\n",
       "    .dataframe tbody tr th {\n",
       "        vertical-align: top;\n",
       "    }\n",
       "\n",
       "    .dataframe thead th {\n",
       "        text-align: right;\n",
       "    }\n",
       "</style>\n",
       "<table border=\"1\" class=\"dataframe\">\n",
       "  <thead>\n",
       "    <tr style=\"text-align: right;\">\n",
       "      <th></th>\n",
       "      <th>pe_aus</th>\n",
       "    </tr>\n",
       "    <tr>\n",
       "      <th>dateid01</th>\n",
       "      <th></th>\n",
       "    </tr>\n",
       "  </thead>\n",
       "  <tbody>\n",
       "    <tr>\n",
       "      <th>2000-04-01</th>\n",
       "      <td>22.0339</td>\n",
       "    </tr>\n",
       "    <tr>\n",
       "      <th>2000-05-01</th>\n",
       "      <td>22.4678</td>\n",
       "    </tr>\n",
       "    <tr>\n",
       "      <th>2000-06-01</th>\n",
       "      <td>19.1747</td>\n",
       "    </tr>\n",
       "    <tr>\n",
       "      <th>2000-07-01</th>\n",
       "      <td>19.2828</td>\n",
       "    </tr>\n",
       "    <tr>\n",
       "      <th>2000-08-01</th>\n",
       "      <td>19.5004</td>\n",
       "    </tr>\n",
       "    <tr>\n",
       "      <th>...</th>\n",
       "      <td>...</td>\n",
       "    </tr>\n",
       "    <tr>\n",
       "      <th>2014-10-01</th>\n",
       "      <td>18.7117</td>\n",
       "    </tr>\n",
       "    <tr>\n",
       "      <th>2014-11-01</th>\n",
       "      <td>18.0667</td>\n",
       "    </tr>\n",
       "    <tr>\n",
       "      <th>2014-12-01</th>\n",
       "      <td>19.9690</td>\n",
       "    </tr>\n",
       "    <tr>\n",
       "      <th>2015-01-01</th>\n",
       "      <td>20.6191</td>\n",
       "    </tr>\n",
       "    <tr>\n",
       "      <th>2015-02-01</th>\n",
       "      <td>21.8822</td>\n",
       "    </tr>\n",
       "  </tbody>\n",
       "</table>\n",
       "<p>179 rows × 1 columns</p>\n",
       "</div>"
      ],
      "text/plain": [
       "             pe_aus\n",
       "dateid01           \n",
       "2000-04-01  22.0339\n",
       "2000-05-01  22.4678\n",
       "2000-06-01  19.1747\n",
       "2000-07-01  19.2828\n",
       "2000-08-01  19.5004\n",
       "...             ...\n",
       "2014-10-01  18.7117\n",
       "2014-11-01  18.0667\n",
       "2014-12-01  19.9690\n",
       "2015-01-01  20.6191\n",
       "2015-02-01  21.8822\n",
       "\n",
       "[179 rows x 1 columns]"
      ]
     },
     "execution_count": 21,
     "metadata": {},
     "output_type": "execute_result"
    }
   ],
   "source": [
    "df4 = pd.read_csv(\n",
    "    \"data/module3b_data_PE_ratios.csv\", \n",
    "    index_col='dateid01', parse_dates=True,\n",
    "    usecols=['dateid01', 'pe_aus']).dropna()\n",
    "df4"
   ]
  },
  {
   "cell_type": "code",
   "execution_count": 22,
   "metadata": {},
   "outputs": [
    {
     "data": {
      "image/png": "[encoded data removed]",
      "text/plain": [
       "<Figure size 576x432 with 1 Axes>"
      ]
     },
     "metadata": {
      "needs_background": "light"
     },
     "output_type": "display_data"
    }
   ],
   "source": [
    "# Always plot the data!\n",
    "\n",
    "fig, ax = plt.subplots(figsize=(8, 6))\n",
    "\n",
    "ax.plot(df4.pe_aus);"
   ]
  },
  {
   "cell_type": "markdown",
   "metadata": {},
   "source": [
    "That's quite a spike around 2010 after the GFC!\n",
    "\n",
    "## Question 3.44\n",
    "\n",
    "In `statsmodels` you cannot recover the coefficients of the regressions that led to the unit-root tests. Nonetheless, we can infer that the best model is the one that leads to the lowest p-value for the ADF/PP test and the highest for the KPSS test."
   ]
  },
  {
   "cell_type": "code",
   "execution_count": 23,
   "metadata": {},
   "outputs": [
    {
     "name": "stdout",
     "output_type": "stream",
     "text": [
      "ADF Test\n",
      "\n",
      "Trend: n --> p-value: 0.13559791887820688\n",
      "\n",
      "Trend: c --> p-value: 0.0007664687956573181\n",
      "\n",
      "Trend: ct --> p-value: 0.0049030772280503\n",
      "\n",
      "PP Test\n",
      "\n",
      "Trend: n --> p-value: 0.14895639219134393\n",
      "\n",
      "Trend: c --> p-value: 0.046995847303445124\n",
      "\n",
      "Trend: ct --> p-value: 0.16357260597005213\n",
      "\n",
      "KPSS Test\n",
      "\n",
      "Trend: c --> p-value: 0.5836176703075863\n",
      "\n",
      "Trend: ct --> p-value: 0.3141215427218798\n",
      "\n"
     ]
    }
   ],
   "source": [
    "print('ADF Test\\n')\n",
    "for i in ['n', 'c', 'ct']:\n",
    "    print(f'Trend: {i} --> p-value: {ADF(df4.pe_aus, trend=i).pvalue}\\n')\n",
    "\n",
    "print('PP Test\\n')\n",
    "for i in ['n', 'c', 'ct']:\n",
    "    print(f'Trend: {i} --> p-value: {PhillipsPerron(df4.pe_aus, trend=i).pvalue}\\n')\n",
    "\n",
    "print('KPSS Test\\n')\n",
    "for i in ['c', 'ct']:\n",
    "    print(f'Trend: {i} --> p-value: {KPSS(df4.pe_aus, trend=i).pvalue}\\n')\n",
    "    \n"
   ]
  },
  {
   "cell_type": "markdown",
   "metadata": {},
   "source": [
    "The model with only a constant leads to the lowest p-value. We can guess that adding a constant leads to the best model."
   ]
  },
  {
   "cell_type": "markdown",
   "metadata": {},
   "source": [
    "## Question 3.45\n",
    "With a p-value of 0.0007, we can clearly reject the null of non-stationarity."
   ]
  },
  {
   "cell_type": "markdown",
   "metadata": {},
   "source": [
    "## Question 3.46\n",
    "\n",
    "As we saw when we plotted the figure, if there's a structural break it is between 2008 and 2010."
   ]
  },
  {
   "cell_type": "markdown",
   "metadata": {},
   "source": [
    "**Pre-crisis tests:**\n",
    "\n",
    "Repeat the unit root/stationarity tests, for the pre-Global Crisis period (from 2000:04 to 2009:05).\n",
    "\n",
    "\n",
    "\n"
   ]
  },
  {
   "cell_type": "code",
   "execution_count": 24,
   "metadata": {},
   "outputs": [
    {
     "data": {
      "text/plain": [
       "<AxesSubplot:xlabel='dateid01'>"
      ]
     },
     "execution_count": 24,
     "metadata": {},
     "output_type": "execute_result"
    },
    {
     "data": {
      "image/png": "[encoded data removed]",
      "text/plain": [
       "<Figure size 432x288 with 1 Axes>"
      ]
     },
     "metadata": {
      "needs_background": "light"
     },
     "output_type": "display_data"
    }
   ],
   "source": [
    "series = df4.pe_aus.loc[:'2009-05-01']\n",
    "series.plot()"
   ]
  },
  {
   "cell_type": "markdown",
   "metadata": {},
   "source": [
    "## Question 3.48"
   ]
  },
  {
   "cell_type": "code",
   "execution_count": 25,
   "metadata": {},
   "outputs": [
    {
     "name": "stdout",
     "output_type": "stream",
     "text": [
      "ADF Test\n",
      "\n",
      "Trend: n --> p-value: 0.41890522140869857\n",
      "\n",
      "Trend: c --> p-value: 0.10312919227895218\n",
      "\n",
      "Trend: ct --> p-value: 0.1395248383968356\n",
      "\n",
      "PP Test\n",
      "\n",
      "Trend: n --> p-value: 0.42620035411031865\n",
      "\n",
      "Trend: c --> p-value: 0.10202742194591263\n",
      "\n",
      "Trend: ct --> p-value: 0.10510142993262378\n",
      "\n",
      "KPSS Test\n",
      "\n",
      "Trend: c --> p-value: 0.0008023531327082209\n",
      "\n",
      "Trend: ct --> p-value: 0.061913510073644075\n",
      "\n"
     ]
    }
   ],
   "source": [
    "print('ADF Test\\n')\n",
    "for i in ['n', 'c', 'ct']:\n",
    "    print(f'Trend: {i} --> p-value: {ADF(series, trend=i).pvalue}\\n')\n",
    "\n",
    "print('PP Test\\n')\n",
    "for i in ['n', 'c', 'ct']:\n",
    "    print(f'Trend: {i} --> p-value: {PhillipsPerron(series, trend=i).pvalue}\\n')\n",
    "\n",
    "print('KPSS Test\\n')\n",
    "for i in ['c', 'ct']:\n",
    "    print(f'Trend: {i} --> p-value: {KPSS(series, trend=i).pvalue}\\n')"
   ]
  },
  {
   "cell_type": "markdown",
   "metadata": {},
   "source": [
    "Conflicting results."
   ]
  },
  {
   "cell_type": "markdown",
   "metadata": {},
   "source": [
    "## Question 3.49\n",
    "\n",
    "Where is the structural break?\n",
    "\n",
    "According to `statsmodels` `zivot_andrews()` function, it is on \"2009-05-01\". According to R's `ur.za()` from the `urca` package it is on \"2010-05-01\". EViews says that the breakpoint is on \"2009-04-01\" and EViews marks as the breakpoint the first period AFTER the break so the results are not the same.."
   ]
  },
  {
   "cell_type": "code",
   "execution_count": 33,
   "metadata": {},
   "outputs": [
    {
     "name": "stdout",
     "output_type": "stream",
     "text": [
      "p-value: 0.0035059045301762794\n",
      "\n",
      "Break point: 2009-05-01\n"
     ]
    }
   ],
   "source": [
    "from arch.unitroot import ZivotAndrews\n",
    "from statsmodels.tsa.stattools import zivot_andrews\n",
    "\n",
    "_, pval, _, _, idx = zivot_andrews(df4.pe_aus, regression='ct')\n",
    "\n",
    "print(f'p-value: {pval}\\n')\n",
    "\n",
    "print(f'Break point: {df4.iloc[idx].name.strftime(\"%Y-%m-%d\")}')"
   ]
  },
  {
   "cell_type": "markdown",
   "metadata": {},
   "source": [
    "## Question 3.50\n",
    "\n",
    "Results are not shared across platforms because different implementations of ZivotAndrews test are used."
   ]
  },
  {
   "cell_type": "markdown",
   "metadata": {},
   "source": [
    "## Question 3.51\n",
    "\n",
    "## Question 3.52\n",
    "\n",
    "## Question 3.53\n",
    "\n",
    "These questions can't be answered without using EViews since they rely on EViews particular implementation."
   ]
  },
  {
   "cell_type": "markdown",
   "metadata": {},
   "source": [
    "Lastly, please return to the three standard (i.e., non break point) unit tests that we started with in this question set. Calculate the three unit root/stationarity tests for just the post-Global Crisis period (i.e., 2010:12 – 2015:02)."
   ]
  },
  {
   "cell_type": "code",
   "execution_count": 35,
   "metadata": {},
   "outputs": [
    {
     "data": {
      "text/plain": [
       "<AxesSubplot:xlabel='dateid01'>"
      ]
     },
     "execution_count": 35,
     "metadata": {},
     "output_type": "execute_result"
    },
    {
     "data": {
      "image/png": "[encoded data removed]",
      "text/plain": [
       "<Figure size 432x288 with 1 Axes>"
      ]
     },
     "metadata": {
      "needs_background": "light"
     },
     "output_type": "display_data"
    }
   ],
   "source": [
    "series = df4.pe_aus.loc['2010-12-01':]\n",
    "series.plot()"
   ]
  },
  {
   "cell_type": "markdown",
   "metadata": {},
   "source": [
    "## Question 3.54\n",
    "\n",
    "Which of the specifications is most appropriate?"
   ]
  },
  {
   "cell_type": "code",
   "execution_count": 36,
   "metadata": {},
   "outputs": [
    {
     "name": "stdout",
     "output_type": "stream",
     "text": [
      "ADF Test\n",
      "\n",
      "Trend: n --> p-value: 0.851991733322607\n",
      "\n",
      "Trend: c --> p-value: 0.8196478095106003\n",
      "\n",
      "Trend: ct --> p-value: 0.6208211709741944\n",
      "\n",
      "PP Test\n",
      "\n",
      "Trend: n --> p-value: 0.840490189228259\n",
      "\n",
      "Trend: c --> p-value: 0.7589630392889103\n",
      "\n",
      "Trend: ct --> p-value: 0.4860785936337114\n",
      "\n",
      "KPSS Test\n",
      "\n",
      "Trend: c --> p-value: 0.009408242036279461\n",
      "\n",
      "Trend: ct --> p-value: 0.07121321813260892\n",
      "\n"
     ]
    }
   ],
   "source": [
    "print('ADF Test\\n')\n",
    "for i in ['n', 'c', 'ct']:\n",
    "    print(f'Trend: {i} --> p-value: {ADF(series, trend=i).pvalue}\\n')\n",
    "\n",
    "print('PP Test\\n')\n",
    "for i in ['n', 'c', 'ct']:\n",
    "    print(f'Trend: {i} --> p-value: {PhillipsPerron(series, trend=i).pvalue}\\n')\n",
    "\n",
    "print('KPSS Test\\n')\n",
    "for i in ['c', 'ct']:\n",
    "    print(f'Trend: {i} --> p-value: {KPSS(series, trend=i).pvalue}\\n')"
   ]
  },
  {
   "cell_type": "markdown",
   "metadata": {},
   "source": [
    "The results are not conclusive."
   ]
  }
 ],
 "metadata": {
  "interpreter": {
   "hash": "b48993466c0fd8c9c82788b53d0ad31dd1d9acfda294ec378f00f2949827417f"
  },
  "kernelspec": {
   "display_name": "Python 3.9.7 64-bit (conda)",
   "name": "python3"
  },
  "language_info": {
   "codemirror_mode": {
    "name": "ipython",
    "version": 3
   },
   "file_extension": ".py",
   "mimetype": "text/x-python",
   "name": "python",
   "nbconvert_exporter": "python",
   "pygments_lexer": "ipython3",
   "version": "3.9.7"
  },
  "orig_nbformat": 4
 },
 "nbformat": 4,
 "nbformat_minor": 2
}
